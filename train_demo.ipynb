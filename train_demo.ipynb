{
 "cells": [
  {
   "cell_type": "code",
   "execution_count": 8,
   "metadata": {},
   "outputs": [
    {
     "data": {
      "text/plain": [
       "'/work'"
      ]
     },
     "execution_count": 8,
     "metadata": {},
     "output_type": "execute_result"
    }
   ],
   "source": [
    "import os\n",
    "import sys\n",
    "import math\n",
    "import json\n",
    "import torch\n",
    "import torch.nn as nn\n",
    "from torch.utils.data import DataLoader\n",
    "import torchvision\n",
    "from tqdm import tqdm_notebook as tqdm, tnrange\n",
    "from transformers import BertModel, BertTokenizer\n",
    "from transformers.optimization import AdamW, get_linear_schedule_with_warmup\n",
    "\n",
    "w_dir = %pwd\n",
    "work_dir = os.path.dirname(w_dir)\n",
    "work_dir"
   ]
  },
  {
   "cell_type": "code",
   "execution_count": 2,
   "metadata": {},
   "outputs": [
    {
     "name": "stderr",
     "output_type": "stream",
     "text": [
      "I1217 01:44:36.571458 140111562508096 corenlp.py:42] Using an existing server http://140.109.19.191:9000\n",
      "I1217 01:44:37.574596 140111562508096 corenlp.py:118] The server is available.\n"
     ]
    }
   ],
   "source": [
    "from fgc_support_retri import config\n",
    "from fgc_support_retri.sup_model import BertContextSupModel_V3\n",
    "from fgc_support_retri.fgc_preprocess import BertV3Idx, SerContextDataset, bert_collate_v3\n",
    "from fgc_support_retri.utils import read_fgc\n",
    "from fgc_support_retri.eval import evalaluate_f1"
   ]
  },
  {
   "cell_type": "code",
   "execution_count": 16,
   "metadata": {},
   "outputs": [
    {
     "name": "stdout",
     "output_type": "stream",
     "text": [
      "no gold supporting evidence\n",
      "{'QID': 'D009Q03', 'QTYPE': '申论', 'QTEXT': '「佔領華爾街」運動的訴求為何?', 'SENTS': [{'text': '「占领华尔街」运动的诉求为何?', 'start': 0, 'end': 15}], 'ANSWER': [{'ATEXT': '', 'ATOKEN': [{'text': '', 'start': 0}], 'ATEXT_CN': ''}], 'ATYPE': 'Object', 'AMODE': 'Single-Span-Extraction', 'ASPAN': [], 'SHINT': [], 'QTEXT_CN': '「占领华尔街」运动的诉求为何?'}\n",
      "no gold supporting evidence\n",
      "{'QID': 'D073Q12', 'QTYPE': '申论', 'QTEXT': '台灣對於鯨鯊保育做了哪些努力?', 'SENTS': [{'text': '台湾对于鲸鲨保育做了哪些努力?', 'start': 0, 'end': 15}], 'ANSWER': [{'ATEXT': '', 'ATOKEN': [{'text': '', 'start': 0}], 'ATEXT_CN': ''}], 'ATYPE': 'Object', 'AMODE': 'Single-Span-Extraction', 'ASPAN': [], 'SHINT': [], 'QTEXT_CN': '台湾对于鲸鲨保育做了哪些努力?'}\n",
      "no gold supporting evidence\n",
      "{'QID': 'D245Q05', 'QTYPE': '申论', 'QTEXT': '為何聖伯多祿大殿只能重建不能整修就好?', 'SENTS': [{'text': '为何圣伯多禄大殿只能重建不能整修就好?', 'start': 0, 'end': 19}], 'ANSWER': [{'ATEXT': '', 'ATOKEN': [{'text': '', 'start': 0}], 'ATEXT_CN': ''}], 'ATYPE': 'Event', 'AMODE': 'Single-Span-Extraction', 'ASPAN': [], 'SHINT': [], 'QTEXT_CN': '为何圣伯多禄大殿只能重建不能整修就好?'}\n",
      "no gold supporting evidence\n",
      "{'QID': 'D289Q07', 'QTYPE': '申论', 'QTEXT': '人類藉由普羅米修斯認識了火，發現它不但會發熱發光，還可以做哪些事？', 'SENTS': [{'text': '人类借由普罗米修斯认识了火，', 'start': 0, 'end': 14}, {'text': '发现它不但会发热发光，', 'start': 14, 'end': 25}, {'text': '还可以做哪些事？', 'start': 25, 'end': 33}], 'ANSWER': [{'ATEXT': '', 'ATOKEN': [{'text': '', 'start': 0}], 'ATEXT_CN': ''}], 'ATYPE': 'Kinship', 'AMODE': 'Kinship', 'ASPAN': [], 'SHINT': [], 'QTEXT_CN': '人类借由普罗米修斯认识了火，发现它不但会发热发光，还可以做哪些事？'}\n",
      "25 documents\n",
      "914 sentences\n",
      "36.56 sentences/document\n",
      "16.24398249452954 characters/sentence\n",
      "204 questions\n",
      "413 supporting evidence sentences\n",
      "2.0245098039215685 supporting evidence sentences/question\n"
     ]
    }
   ],
   "source": [
    "items = read_fgc(config.FGC_TEST, eval=True)"
   ]
  },
  {
   "cell_type": "code",
   "execution_count": 4,
   "metadata": {},
   "outputs": [
    {
     "data": {
      "text/plain": [
       "90000"
      ]
     },
     "execution_count": 4,
     "metadata": {},
     "output_type": "execute_result"
    }
   ],
   "source": [
    "len(items)"
   ]
  },
  {
   "cell_type": "code",
   "execution_count": 5,
   "metadata": {},
   "outputs": [
    {
     "data": {
      "text/plain": [
       "{'QID': '5a7a06935542990198eaf050q01',\n",
       " 'SENTS': [{'text': '《亚瑟》杂志（1844-1846）是19世纪在费城出版的美国文学期刊。',\n",
       "   'start': 0,\n",
       "   'end': 35},\n",
       "  {'text': '它由T.S.亚瑟编辑，由埃德加A.坡、J.H.英格拉姆、莎拉·约瑟法·黑尔、托马斯·G.斯皮尔和其他人的作品组成。',\n",
       "   'start': 35,\n",
       "   'end': 127},\n",
       "  {'text': '1846年5月，这本书被合并成《戈迪夫人的书》。', 'start': 127, 'end': 243},\n",
       "  {'text': '首先是美国鲍尔传媒集团出版的女性杂志。', 'start': 243, 'end': 378},\n",
       "  {'text': '这本杂志创办于1989年。', 'start': 378, 'end': 526},\n",
       "  {'text': '总部位于新泽西州的恩格尔伍德克利夫。', 'start': 526, 'end': 692},\n",
       "  {'text': '2011年该杂志的发行量为1310696份。', 'start': 692, 'end': 880}],\n",
       " 'SUP_EVIDENCE': [0, 3],\n",
       " 'QTEXT': '哪本杂志是第一本亚瑟的杂志还是第一本女性杂志？',\n",
       " 'ANS': '亚瑟的杂志',\n",
       " 'ASPAN': []}"
      ]
     },
     "execution_count": 5,
     "metadata": {},
     "output_type": "execute_result"
    }
   ],
   "source": [
    "items[0]"
   ]
  },
  {
   "cell_type": "code",
   "execution_count": 7,
   "metadata": {},
   "outputs": [
    {
     "ename": "KeyError",
     "evalue": "'SENTS'",
     "output_type": "error",
     "traceback": [
      "\u001b[0;31m---------------------------------------------------------------------------\u001b[0m",
      "\u001b[0;31mKeyError\u001b[0m                                  Traceback (most recent call last)",
      "\u001b[0;32m<ipython-input-7-cc2d3924eb13>\u001b[0m in \u001b[0;36m<module>\u001b[0;34m\u001b[0m\n\u001b[0;32m----> 1\u001b[0;31m \u001b[0mitems_dev\u001b[0m \u001b[0;34m=\u001b[0m \u001b[0mread_fgc\u001b[0m\u001b[0;34m(\u001b[0m\u001b[0mconfig\u001b[0m\u001b[0;34m.\u001b[0m\u001b[0mHOTPOT_DEV\u001b[0m\u001b[0;34m,\u001b[0m \u001b[0meval\u001b[0m\u001b[0;34m=\u001b[0m\u001b[0;32mTrue\u001b[0m\u001b[0;34m)\u001b[0m\u001b[0;34m\u001b[0m\u001b[0;34m\u001b[0m\u001b[0m\n\u001b[0m",
      "\u001b[0;32m/work/fgc_support_retri/fgc_support_retri/utils.py\u001b[0m in \u001b[0;36mread_fgc\u001b[0;34m(fp, eval)\u001b[0m\n\u001b[1;32m    139\u001b[0m \u001b[0;34m\u001b[0m\u001b[0m\n\u001b[1;32m    140\u001b[0m     \u001b[0;31m# each item is a context and a question\u001b[0m\u001b[0;34m\u001b[0m\u001b[0;34m\u001b[0m\u001b[0;34m\u001b[0m\u001b[0m\n\u001b[0;32m--> 141\u001b[0;31m     \u001b[0mitems\u001b[0m \u001b[0;34m=\u001b[0m \u001b[0;34m[\u001b[0m\u001b[0mitem\u001b[0m \u001b[0;32mfor\u001b[0m \u001b[0mdocument\u001b[0m \u001b[0;32min\u001b[0m \u001b[0mdocuments\u001b[0m \u001b[0;32mfor\u001b[0m \u001b[0mitem\u001b[0m \u001b[0;32min\u001b[0m \u001b[0mget_item\u001b[0m\u001b[0;34m(\u001b[0m\u001b[0mdocument\u001b[0m\u001b[0;34m)\u001b[0m\u001b[0;34m]\u001b[0m\u001b[0;34m\u001b[0m\u001b[0;34m\u001b[0m\u001b[0m\n\u001b[0m\u001b[1;32m    142\u001b[0m \u001b[0;34m\u001b[0m\u001b[0m\n\u001b[1;32m    143\u001b[0m     \u001b[0;32mif\u001b[0m \u001b[0meval\u001b[0m\u001b[0;34m:\u001b[0m\u001b[0;34m\u001b[0m\u001b[0;34m\u001b[0m\u001b[0m\n",
      "\u001b[0;32m/work/fgc_support_retri/fgc_support_retri/utils.py\u001b[0m in \u001b[0;36m<listcomp>\u001b[0;34m(.0)\u001b[0m\n\u001b[1;32m    139\u001b[0m \u001b[0;34m\u001b[0m\u001b[0m\n\u001b[1;32m    140\u001b[0m     \u001b[0;31m# each item is a context and a question\u001b[0m\u001b[0;34m\u001b[0m\u001b[0;34m\u001b[0m\u001b[0;34m\u001b[0m\u001b[0m\n\u001b[0;32m--> 141\u001b[0;31m     \u001b[0mitems\u001b[0m \u001b[0;34m=\u001b[0m \u001b[0;34m[\u001b[0m\u001b[0mitem\u001b[0m \u001b[0;32mfor\u001b[0m \u001b[0mdocument\u001b[0m \u001b[0;32min\u001b[0m \u001b[0mdocuments\u001b[0m \u001b[0;32mfor\u001b[0m \u001b[0mitem\u001b[0m \u001b[0;32min\u001b[0m \u001b[0mget_item\u001b[0m\u001b[0;34m(\u001b[0m\u001b[0mdocument\u001b[0m\u001b[0;34m)\u001b[0m\u001b[0;34m]\u001b[0m\u001b[0;34m\u001b[0m\u001b[0;34m\u001b[0m\u001b[0m\n\u001b[0m\u001b[1;32m    142\u001b[0m \u001b[0;34m\u001b[0m\u001b[0m\n\u001b[1;32m    143\u001b[0m     \u001b[0;32mif\u001b[0m \u001b[0meval\u001b[0m\u001b[0;34m:\u001b[0m\u001b[0;34m\u001b[0m\u001b[0;34m\u001b[0m\u001b[0m\n",
      "\u001b[0;32m/work/fgc_support_retri/fgc_support_retri/utils.py\u001b[0m in \u001b[0;36mget_item\u001b[0;34m(document)\u001b[0m\n\u001b[1;32m    131\u001b[0m                 \u001b[0mprint\u001b[0m\u001b[0;34m(\u001b[0m\u001b[0mquestion\u001b[0m\u001b[0;34m)\u001b[0m\u001b[0;34m\u001b[0m\u001b[0;34m\u001b[0m\u001b[0m\n\u001b[1;32m    132\u001b[0m                 \u001b[0;32mcontinue\u001b[0m\u001b[0;34m\u001b[0m\u001b[0;34m\u001b[0m\u001b[0m\n\u001b[0;32m--> 133\u001b[0;31m             out = {'QID': question['QID'], 'SENTS': document['SENTS'], 'SUP_EVIDENCE': question['SHINT'],\n\u001b[0m\u001b[1;32m    134\u001b[0m                    'QTEXT': question['QTEXT'], 'ANS': question['ANSWER'][0]['ATEXT'], 'ASPAN': question['ASPAN']}\n\u001b[1;32m    135\u001b[0m             \u001b[0;32myield\u001b[0m \u001b[0mout\u001b[0m\u001b[0;34m\u001b[0m\u001b[0;34m\u001b[0m\u001b[0m\n",
      "\u001b[0;31mKeyError\u001b[0m: 'SENTS'"
     ]
    }
   ],
   "source": [
    "items_dev = read_fgc(config.HOTPOT_DEV, eval=True)"
   ]
  },
  {
   "cell_type": "code",
   "execution_count": 9,
   "metadata": {},
   "outputs": [],
   "source": [
    "with open(config.HOTPOT_DEV) as f:\n",
    "    items_dev = json.load(f)"
   ]
  },
  {
   "cell_type": "code",
   "execution_count": 10,
   "metadata": {},
   "outputs": [
    {
     "data": {
      "text/plain": [
       "7405"
      ]
     },
     "execution_count": 10,
     "metadata": {},
     "output_type": "execute_result"
    }
   ],
   "source": [
    "len(items_dev)"
   ]
  },
  {
   "cell_type": "code",
   "execution_count": 11,
   "metadata": {},
   "outputs": [
    {
     "data": {
      "text/plain": [
       "{'DID': '5a8b57f25542995d1e6f1371',\n",
       " 'DTEXT': '斯科特·德里克森（1966年7月16日出生）是美国导演、编剧和制片人。\\n他住在加州洛杉矶。\\n他最出名的是执导恐怖电影，如《险恶》、《艾米丽·罗斯的驱魔》、《让我们远离邪恶》，以及2016年惊奇电影宇宙版的《奇怪医生》\\n爱德华·戴维斯·伍德（1924年10月10日至1978年12月10日）是美国电影制片人、演员、作家、制片人和导演。\\n',\n",
       " 'QUESTIONS': [{'QID': '1',\n",
       "   'QTEXT': '斯科特·德里克森和埃德·伍德是同一国籍的吗？',\n",
       "   'QTYPE': '进阶题',\n",
       "   'AMODE': 'Comparing-Members',\n",
       "   'SHINT': [{'text': '斯科特·德里克森（1966年7月16日出生）是美国导演、编剧和制片人。',\n",
       "     'start': 0,\n",
       "     'end': 35},\n",
       "    {'text': '爱德华·戴维斯·伍德（1924年10月10日至1978年12月10日）是美国电影制片人、演员、作家、制片人和导演。',\n",
       "     'start': 109,\n",
       "     'end': 166}],\n",
       "   'ASPAN': [],\n",
       "   'ANSWER': [{'ATEXT': '对', 'ATOKEN': {'text': '对', 'start': 0}},\n",
       "    {'ATEXT': 'yes', 'ATOKEN': {'text': 'yes', 'start': 0}}]}]}"
      ]
     },
     "execution_count": 11,
     "metadata": {},
     "output_type": "execute_result"
    }
   ],
   "source": [
    "items_dev[0]"
   ]
  },
  {
   "cell_type": "code",
   "execution_count": null,
   "metadata": {},
   "outputs": [],
   "source": []
  }
 ],
 "metadata": {
  "kernelspec": {
   "display_name": "Python 3",
   "language": "python",
   "name": "python3"
  },
  "language_info": {
   "codemirror_mode": {
    "name": "ipython",
    "version": 3
   },
   "file_extension": ".py",
   "mimetype": "text/x-python",
   "name": "python",
   "nbconvert_exporter": "python",
   "pygments_lexer": "ipython3",
   "version": "3.6.8"
  }
 },
 "nbformat": 4,
 "nbformat_minor": 4
}
