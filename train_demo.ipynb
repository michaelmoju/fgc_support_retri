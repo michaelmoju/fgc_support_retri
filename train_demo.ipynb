{
 "cells": [
  {
   "cell_type": "code",
   "execution_count": 1,
   "metadata": {},
   "outputs": [
    {
     "data": {
      "text/plain": [
       "'/work'"
      ]
     },
     "execution_count": 1,
     "metadata": {},
     "output_type": "execute_result"
    }
   ],
   "source": [
    "import os\n",
    "import sys\n",
    "import json\n",
    "\n",
    "w_dir = %pwd\n",
    "work_dir = os.path.dirname(w_dir)\n",
    "work_dir"
   ]
  },
  {
   "cell_type": "code",
   "execution_count": 2,
   "metadata": {},
   "outputs": [
    {
     "name": "stderr",
     "output_type": "stream",
     "text": [
      "I0415 03:14:38.831227 140438341736256 file_utils.py:39] PyTorch version 1.1.0 available.\n"
     ]
    }
   ],
   "source": [
    "sys.path.append(work_dir+'/fgc_support_retri/')\n",
    "from fgc_support_retri.train import *\n",
    "from fgc_support_retri.utils import *\n",
    "from fgc_support_retri import config"
   ]
  },
  {
   "cell_type": "code",
   "execution_count": 3,
   "metadata": {},
   "outputs": [],
   "source": [
    "# train_documents = json_load(config.FGC_TRAIN) + json_load(config.FGC_DEV) + json_load(config.FGC_TEST)"
   ]
  },
  {
   "cell_type": "code",
   "execution_count": 4,
   "metadata": {},
   "outputs": [],
   "source": [
    "train_documents = json_load(config.FGC_TRAIN)"
   ]
  },
  {
   "cell_type": "code",
   "execution_count": 5,
   "metadata": {},
   "outputs": [
    {
     "data": {
      "text/plain": [
       "882"
      ]
     },
     "execution_count": 5,
     "metadata": {},
     "output_type": "execute_result"
    }
   ],
   "source": [
    "len(train_documents)"
   ]
  },
  {
   "cell_type": "code",
   "execution_count": null,
   "metadata": {},
   "outputs": [
    {
     "name": "stderr",
     "output_type": "stream",
     "text": [
      "I0415 03:14:41.745248 140438341736256 tokenization_utils.py:375] loading file https://s3.amazonaws.com/models.huggingface.co/bert/bert-base-chinese-vocab.txt from cache at /root/.cache/torch/transformers/8a0c070123c1f794c42a29c6904beb7c1b8715741e235bee04aca2c7636fc83f.9b42061518a39ca00b8b52059fd2bede8daa613f8a8671500e518a8c29de8c00\n",
      "I0415 03:14:42.639292 140438341736256 configuration_utils.py:152] loading configuration file https://s3.amazonaws.com/models.huggingface.co/bert/bert-base-chinese-config.json from cache at /root/.cache/torch/transformers/8a3b1cfe5da58286e12a0f5d7d182b8d6eca88c08e26c332ee3817548cf7e60a.3767c74c8ed285531d04153fe84a0791672aff52f7249b27df341dbce09b8305\n",
      "I0415 03:14:42.642595 140438341736256 configuration_utils.py:169] Model config {\n",
      "  \"architectures\": [\n",
      "    \"BertForMaskedLM\"\n",
      "  ],\n",
      "  \"attention_probs_dropout_prob\": 0.1,\n",
      "  \"directionality\": \"bidi\",\n",
      "  \"finetuning_task\": null,\n",
      "  \"hidden_act\": \"gelu\",\n",
      "  \"hidden_dropout_prob\": 0.1,\n",
      "  \"hidden_size\": 768,\n",
      "  \"initializer_range\": 0.02,\n",
      "  \"intermediate_size\": 3072,\n",
      "  \"is_decoder\": false,\n",
      "  \"layer_norm_eps\": 1e-12,\n",
      "  \"max_position_embeddings\": 512,\n",
      "  \"num_attention_heads\": 12,\n",
      "  \"num_hidden_layers\": 12,\n",
      "  \"num_labels\": 2,\n",
      "  \"output_attentions\": false,\n",
      "  \"output_hidden_states\": false,\n",
      "  \"output_past\": true,\n",
      "  \"pooler_fc_size\": 768,\n",
      "  \"pooler_num_attention_heads\": 12,\n",
      "  \"pooler_num_fc_layers\": 3,\n",
      "  \"pooler_size_per_head\": 128,\n",
      "  \"pooler_type\": \"first_token_transform\",\n",
      "  \"pruned_heads\": {},\n",
      "  \"torchscript\": false,\n",
      "  \"type_vocab_size\": 2,\n",
      "  \"use_bfloat16\": false,\n",
      "  \"vocab_size\": 21128\n",
      "}\n",
      "\n",
      "I0415 03:14:43.503724 140438341736256 modeling_utils.py:387] loading weights file https://s3.amazonaws.com/models.huggingface.co/bert/bert-base-chinese-pytorch_model.bin from cache at /root/.cache/torch/transformers/b1b5e295889f2d0979ede9a78ad9cb5dc6a0e25ab7f9417b315f0a2c22f4683d.929717ca66a3ba9eb9ec2f85973c6398c54c38a4faa464636a491d7a705f7eb6\n",
      "I0415 03:14:45.808788 140438341736256 modeling_utils.py:457] Weights of HierarchyModel not initialized from pretrained model: ['bert.embeddings.match_entity_embeddings.weight', 'bert.embeddings.sf_entity_embeddings.weight', 'bert.embeddings.match_token_embeddings.weight', 'bert.embeddings.sf_token_embeddings.weight', 'bert.embeddings.etype_ids_embeddings.weight', 'bert.embeddings.atype_ent_match_embeddings.weight', 'bert.embeddings.amatch_embeddings.weight', 'classifier.weight', 'classifier.bias']\n",
      "I0415 03:14:45.810025 140438341736256 modeling_utils.py:460] Weights from pretrained model not used in HierarchyModel: ['cls.predictions.bias', 'cls.predictions.transform.dense.weight', 'cls.predictions.transform.dense.bias', 'cls.predictions.decoder.weight', 'cls.seq_relationship.weight', 'cls.seq_relationship.bias', 'cls.predictions.transform.LayerNorm.weight', 'cls.predictions.transform.LayerNorm.bias']\n",
      "  1%|          | 2/247 [00:00<00:18, 12.90it/s]"
     ]
    },
    {
     "name": "stdout",
     "output_type": "stream",
     "text": [
      "dev_set indexing...\n"
     ]
    },
    {
     "name": "stderr",
     "output_type": "stream",
     "text": [
      "100%|██████████| 247/247 [00:18<00:00, 11.41it/s]\n",
      "100%|██████████| 882/882 [00:00<00:00, 15926.23it/s]\n",
      "  0%|          | 0/882 [00:00<?, ?it/s]"
     ]
    },
    {
     "name": "stdout",
     "output_type": "stream",
     "text": [
      "train_set indexing...\n",
      "D076Q09\n",
      "{'text': '为川普集团前任董事长兼总裁及川普娱乐公司的创办人，', 'start': 81, 'end': 106, 'IE': {'NER': [{'id': 'D0-S0-M0', 'string': '川普集团', 'type': 'ORG', 'char_b': 1, 'char_e': 5}, {'id': 'D0-S0-M1', 'string': '董事长', 'type': 'TITLE', 'char_b': 7, 'char_e': 10}, {'id': 'D0-S0-M2', 'string': '总裁', 'type': 'TITLE', 'char_b': 11, 'char_e': 13}, {'id': 'D0-S0-M3', 'string': '川普娱乐公司', 'type': 'ORG', 'char_b': 14, 'char_e': 20}], 'COREF': {}, 'RELATION': [], 'TOKEN': [{'word': '为', 'char_b': 0, 'char_e': 1, 'pos': 'P'}, {'word': '川普', 'char_b': 1, 'char_e': 3, 'pos': 'NR'}, {'word': '集团', 'char_b': 3, 'char_e': 5, 'pos': 'NN'}, {'word': '前任', 'char_b': 5, 'char_e': 7, 'pos': 'JJ'}, {'word': '董事长', 'char_b': 7, 'char_e': 10, 'pos': 'NN'}, {'word': '兼', 'char_b': 10, 'char_e': 11, 'pos': 'CC'}, {'word': '总裁', 'char_b': 11, 'char_e': 13, 'pos': 'NN'}, {'word': '及', 'char_b': 13, 'char_e': 14, 'pos': 'CC'}, {'word': '川普', 'char_b': 14, 'char_e': 16, 'pos': 'NR'}, {'word': '娱乐', 'char_b': 16, 'char_e': 18, 'pos': 'NN'}, {'word': '公司', 'char_b': 18, 'char_e': 20, 'pos': 'NN'}, {'word': '的', 'char_b': 20, 'char_e': 21, 'pos': 'DEG'}, {'word': '创办人', 'char_b': 21, 'char_e': 24, 'pos': 'NN'}, {'word': '，', 'char_b': 24, 'char_e': 25, 'pos': 'PU'}]}}\n",
      "{'text': '川普娛樂公司的創辦人，在全世界經營房地產', 'text_cn': '川普娱乐公司的创办人，在全世界经营房地产', 'start': 95, 'end': 115}\n"
     ]
    },
    {
     "name": "stderr",
     "output_type": "stream",
     "text": [
      "100%|██████████| 882/882 [01:10<00:00, 12.51it/s]\n",
      "  0%|          | 0/2619 [00:00<?, ?it/s]"
     ]
    },
    {
     "name": "stdout",
     "output_type": "stream",
     "text": [
      "loader...\n",
      "start training ... \n"
     ]
    },
    {
     "name": "stderr",
     "output_type": "stream",
     "text": [
      "/usr/local/lib/python3.6/dist-packages/torch/nn/parallel/_functions.py:61: UserWarning: Was asked to gather along dimension 0, but all input tensors were scalars; will instead unsqueeze and return a vector.\n",
      "  warnings.warn('Was asked to gather along dimension 0, but all '\n",
      "100%|██████████| 2619/2619 [08:50<00:00,  5.36it/s]\n",
      "  1%|          | 2/239 [00:00<00:12, 18.29it/s]"
     ]
    },
    {
     "name": "stdout",
     "output_type": "stream",
     "text": [
      "lr = 0.000018\n",
      "epoch 0 train_loss: 0.165\n"
     ]
    },
    {
     "name": "stderr",
     "output_type": "stream",
     "text": [
      "100%|██████████| 239/239 [00:19<00:00, 12.42it/s]\n"
     ]
    },
    {
     "name": "stdout",
     "output_type": "stream",
     "text": [
      "{'sp_em': 0.192, 'sp_prec': 0.71, 'sp_recall': 0.509, 'sp_f1': 0.55}\n",
      "epoch 0 eval_recall: 0.509 eval_f1: 0.550\n"
     ]
    },
    {
     "name": "stderr",
     "output_type": "stream",
     "text": [
      "100%|██████████| 2619/2619 [08:46<00:00,  5.34it/s]\n",
      "  1%|          | 2/239 [00:00<00:13, 17.23it/s]"
     ]
    },
    {
     "name": "stdout",
     "output_type": "stream",
     "text": [
      "lr = 0.000016\n",
      "epoch 1 train_loss: 0.110\n"
     ]
    },
    {
     "name": "stderr",
     "output_type": "stream",
     "text": [
      "100%|██████████| 239/239 [00:19<00:00, 12.57it/s]\n"
     ]
    },
    {
     "name": "stdout",
     "output_type": "stream",
     "text": [
      "{'sp_em': 0.184, 'sp_prec': 0.685, 'sp_recall': 0.48, 'sp_f1': 0.526}\n",
      "epoch 1 eval_recall: 0.480 eval_f1: 0.526\n"
     ]
    },
    {
     "name": "stderr",
     "output_type": "stream",
     "text": [
      "100%|██████████| 2619/2619 [08:44<00:00,  5.02it/s]\n",
      "  1%|          | 2/239 [00:00<00:12, 19.40it/s]"
     ]
    },
    {
     "name": "stdout",
     "output_type": "stream",
     "text": [
      "lr = 0.000014\n",
      "epoch 2 train_loss: 0.083\n"
     ]
    },
    {
     "name": "stderr",
     "output_type": "stream",
     "text": [
      "100%|██████████| 239/239 [00:18<00:00, 12.60it/s]\n"
     ]
    },
    {
     "name": "stdout",
     "output_type": "stream",
     "text": [
      "{'sp_em': 0.209, 'sp_prec': 0.674, 'sp_recall': 0.523, 'sp_f1': 0.549}\n",
      "epoch 2 eval_recall: 0.523 eval_f1: 0.549\n"
     ]
    },
    {
     "name": "stderr",
     "output_type": "stream",
     "text": [
      "100%|██████████| 2619/2619 [08:46<00:00,  5.31it/s]\n",
      "  1%|          | 2/239 [00:00<00:12, 18.26it/s]"
     ]
    },
    {
     "name": "stdout",
     "output_type": "stream",
     "text": [
      "lr = 0.000012\n",
      "epoch 3 train_loss: 0.057\n"
     ]
    },
    {
     "name": "stderr",
     "output_type": "stream",
     "text": [
      "100%|██████████| 239/239 [00:19<00:00, 12.55it/s]\n"
     ]
    },
    {
     "name": "stdout",
     "output_type": "stream",
     "text": [
      "{'sp_em': 0.209, 'sp_prec': 0.663, 'sp_recall': 0.529, 'sp_f1': 0.548}\n",
      "epoch 3 eval_recall: 0.529 eval_f1: 0.548\n"
     ]
    },
    {
     "name": "stderr",
     "output_type": "stream",
     "text": [
      "100%|██████████| 2619/2619 [08:47<00:00,  5.26it/s]\n",
      "  1%|          | 2/239 [00:00<00:13, 18.19it/s]"
     ]
    },
    {
     "name": "stdout",
     "output_type": "stream",
     "text": [
      "lr = 0.000010\n",
      "epoch 4 train_loss: 0.041\n"
     ]
    },
    {
     "name": "stderr",
     "output_type": "stream",
     "text": [
      "100%|██████████| 239/239 [00:19<00:00, 12.57it/s]\n"
     ]
    },
    {
     "name": "stdout",
     "output_type": "stream",
     "text": [
      "{'sp_em': 0.151, 'sp_prec': 0.633, 'sp_recall': 0.574, 'sp_f1': 0.546}\n",
      "epoch 4 eval_recall: 0.574 eval_f1: 0.546\n"
     ]
    },
    {
     "name": "stderr",
     "output_type": "stream",
     "text": [
      "100%|██████████| 2619/2619 [08:46<00:00,  5.03it/s]\n",
      "  1%|          | 2/239 [00:00<00:12, 18.31it/s]"
     ]
    },
    {
     "name": "stdout",
     "output_type": "stream",
     "text": [
      "lr = 0.000008\n",
      "epoch 5 train_loss: 0.029\n"
     ]
    },
    {
     "name": "stderr",
     "output_type": "stream",
     "text": [
      "100%|██████████| 239/239 [00:18<00:00, 12.60it/s]\n"
     ]
    },
    {
     "name": "stdout",
     "output_type": "stream",
     "text": [
      "{'sp_em': 0.159, 'sp_prec': 0.584, 'sp_recall': 0.648, 'sp_f1': 0.558}\n",
      "epoch 5 eval_recall: 0.648 eval_f1: 0.558\n"
     ]
    },
    {
     "name": "stderr",
     "output_type": "stream",
     "text": [
      " 89%|████████▉ | 2332/2619 [07:49<00:55,  5.16it/s]"
     ]
    }
   ],
   "source": [
    "train_hierarchy_model(10, 12, \"20200414_hierarchy+sf+amatch_plus\", \"sf+amatch_plus\", 2e-5, train_documents=train_documents)"
   ]
  },
  {
   "cell_type": "code",
   "execution_count": null,
   "metadata": {},
   "outputs": [],
   "source": []
  }
 ],
 "metadata": {
  "kernelspec": {
   "display_name": "Python 3",
   "language": "python",
   "name": "python3"
  },
  "language_info": {
   "codemirror_mode": {
    "name": "ipython",
    "version": 3
   },
   "file_extension": ".py",
   "mimetype": "text/x-python",
   "name": "python",
   "nbconvert_exporter": "python",
   "pygments_lexer": "ipython3",
   "version": "3.6.8"
  }
 },
 "nbformat": 4,
 "nbformat_minor": 4
}
