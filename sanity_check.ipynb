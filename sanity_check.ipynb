{
 "cells": [
  {
   "cell_type": "code",
   "execution_count": 1,
   "metadata": {},
   "outputs": [
    {
     "name": "stderr",
     "output_type": "stream",
     "text": [
      "I0414 08:43:52.039406 140377377494848 file_utils.py:39] PyTorch version 1.1.0 available.\n"
     ]
    },
    {
     "data": {
      "text/plain": [
       "'/work'"
      ]
     },
     "execution_count": 1,
     "metadata": {},
     "output_type": "execute_result"
    }
   ],
   "source": [
    "import os\n",
    "import sys\n",
    "import json\n",
    "import torchvision\n",
    "from torch.utils.data import DataLoader\n",
    "from transformers.tokenization_bert import BertTokenizer\n",
    "from transformers import BertModel\n",
    "from tqdm import tqdm_notebook as tqdm\n",
    "\n",
    "w_dir = %pwd\n",
    "work_dir = os.path.dirname(w_dir)\n",
    "work_dir"
   ]
  },
  {
   "cell_type": "code",
   "execution_count": 2,
   "metadata": {},
   "outputs": [],
   "source": [
    "sys.path.append(w_dir)"
   ]
  },
  {
   "cell_type": "code",
   "execution_count": 3,
   "metadata": {},
   "outputs": [],
   "source": [
    "from fgc_support_retri.dataset_reader.sentence_group_reader import *\n",
    "from fgc_support_retri.dataset_reader.sentence_reader import *\n",
    "from fgc_support_retri.dataset_reader.advance_sentence_reader import *\n",
    "from fgc_support_retri import config\n",
    "from fgc_support_retri.utils import json_load"
   ]
  },
  {
   "cell_type": "code",
   "execution_count": 4,
   "metadata": {},
   "outputs": [],
   "source": [
    "data = json_load(config.FGC_TRAIN)"
   ]
  },
  {
   "cell_type": "code",
   "execution_count": 5,
   "metadata": {},
   "outputs": [],
   "source": [
    "for d_i, d in enumerate(data):\n",
    "    for q in d['QUESTIONS']:\n",
    "        if q['QID'] == 'D049Q03':\n",
    "            print(d_i)"
   ]
  },
  {
   "cell_type": "code",
   "execution_count": 6,
   "metadata": {},
   "outputs": [
    {
     "name": "stderr",
     "output_type": "stream",
     "text": [
      "I0414 08:43:54.927766 140377377494848 tokenization_utils.py:375] loading file https://s3.amazonaws.com/models.huggingface.co/bert/bert-base-chinese-vocab.txt from cache at /root/.cache/torch/transformers/8a0c070123c1f794c42a29c6904beb7c1b8715741e235bee04aca2c7636fc83f.9b42061518a39ca00b8b52059fd2bede8daa613f8a8671500e518a8c29de8c00\n"
     ]
    }
   ],
   "source": [
    "tokenizer = BertTokenizer.from_pretrained(config.BERT_EMBEDDING_ZH)\n",
    "indexer = AdvSentIndexer(tokenizer)"
   ]
  },
  {
   "cell_type": "code",
   "execution_count": 7,
   "metadata": {},
   "outputs": [
    {
     "name": "stderr",
     "output_type": "stream",
     "text": [
      "100%|██████████| 882/882 [00:00<00:00, 29274.16it/s]\n",
      "  9%|▊         | 77/882 [00:00<00:01, 547.25it/s]"
     ]
    },
    {
     "name": "stdout",
     "output_type": "stream",
     "text": [
      "D076Q09\n",
      "{'text': '为川普集团前任董事长兼总裁及川普娱乐公司的创办人，', 'start': 81, 'end': 106, 'IE': {'NER': [{'id': 'D0-S0-M0', 'string': '川普集团', 'type': 'ORG', 'char_b': 1, 'char_e': 5}, {'id': 'D0-S0-M1', 'string': '董事长', 'type': 'TITLE', 'char_b': 7, 'char_e': 10}, {'id': 'D0-S0-M2', 'string': '总裁', 'type': 'TITLE', 'char_b': 11, 'char_e': 13}, {'id': 'D0-S0-M3', 'string': '川普娱乐公司', 'type': 'ORG', 'char_b': 14, 'char_e': 20}], 'COREF': {}, 'RELATION': [], 'TOKEN': [{'word': '为', 'char_b': 0, 'char_e': 1, 'pos': 'P'}, {'word': '川普', 'char_b': 1, 'char_e': 3, 'pos': 'NR'}, {'word': '集团', 'char_b': 3, 'char_e': 5, 'pos': 'NN'}, {'word': '前任', 'char_b': 5, 'char_e': 7, 'pos': 'JJ'}, {'word': '董事长', 'char_b': 7, 'char_e': 10, 'pos': 'NN'}, {'word': '兼', 'char_b': 10, 'char_e': 11, 'pos': 'CC'}, {'word': '总裁', 'char_b': 11, 'char_e': 13, 'pos': 'NN'}, {'word': '及', 'char_b': 13, 'char_e': 14, 'pos': 'CC'}, {'word': '川普', 'char_b': 14, 'char_e': 16, 'pos': 'NR'}, {'word': '娱乐', 'char_b': 16, 'char_e': 18, 'pos': 'NN'}, {'word': '公司', 'char_b': 18, 'char_e': 20, 'pos': 'NN'}, {'word': '的', 'char_b': 20, 'char_e': 21, 'pos': 'DEG'}, {'word': '创办人', 'char_b': 21, 'char_e': 24, 'pos': 'NN'}, {'word': '，', 'char_b': 24, 'char_e': 25, 'pos': 'PU'}]}}\n",
      "{'text': '川普娛樂公司的創辦人，在全世界經營房地產', 'text_cn': '川普娱乐公司的创办人，在全世界经营房地产', 'start': 95, 'end': 115}\n"
     ]
    },
    {
     "name": "stderr",
     "output_type": "stream",
     "text": [
      "100%|██████████| 882/882 [00:00<00:00, 1164.76it/s]\n"
     ]
    }
   ],
   "source": [
    "sample = AdvSentenceDataset(data, transform=torchvision.transforms.Compose([AdvSentIndexer(tokenizer)]))"
   ]
  },
  {
   "cell_type": "code",
   "execution_count": 8,
   "metadata": {},
   "outputs": [],
   "source": [
    "dataloader_train = DataLoader(sample, batch_size=1, shuffle=False, collate_fn=AdvSent_collate)"
   ]
  },
  {
   "cell_type": "code",
   "execution_count": 9,
   "metadata": {},
   "outputs": [],
   "source": [
    "batch = iter(dataloader_train).next()"
   ]
  },
  {
   "cell_type": "code",
   "execution_count": 10,
   "metadata": {},
   "outputs": [
    {
     "name": "stderr",
     "output_type": "stream",
     "text": [
      "100%|██████████| 31422/31422 [01:20<00:00, 391.86it/s]\n"
     ]
    }
   ],
   "source": [
    "for batch in tqdm(dataloader_train):\n",
    "    batch_now = batch"
   ]
  },
  {
   "cell_type": "code",
   "execution_count": null,
   "metadata": {},
   "outputs": [],
   "source": []
  }
 ],
 "metadata": {
  "kernelspec": {
   "display_name": "Python 3",
   "language": "python",
   "name": "python3"
  },
  "language_info": {
   "codemirror_mode": {
    "name": "ipython",
    "version": 3
   },
   "file_extension": ".py",
   "mimetype": "text/x-python",
   "name": "python",
   "nbconvert_exporter": "python",
   "pygments_lexer": "ipython3",
   "version": "3.6.8"
  }
 },
 "nbformat": 4,
 "nbformat_minor": 4
}
