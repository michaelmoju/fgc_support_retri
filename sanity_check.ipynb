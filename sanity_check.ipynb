{
 "cells": [
  {
   "cell_type": "code",
   "execution_count": 1,
   "metadata": {},
   "outputs": [
    {
     "data": {
      "text/plain": [
       "'/media/moju/data/work'"
      ]
     },
     "execution_count": 1,
     "metadata": {},
     "output_type": "execute_result"
    }
   ],
   "source": [
    "import os\n",
    "import sys\n",
    "import json\n",
    "import torchvision\n",
    "from torch.utils.data import DataLoader\n",
    "from transformers.tokenization_bert import BertTokenizer\n",
    "from transformers import BertModel\n",
    "\n",
    "w_dir = %pwd\n",
    "work_dir = os.path.dirname(w_dir)\n",
    "work_dir"
   ]
  },
  {
   "cell_type": "code",
   "execution_count": 2,
   "metadata": {},
   "outputs": [],
   "source": [
    "sys.path.append(w_dir+'/fgc_support_retri')"
   ]
  },
  {
   "cell_type": "code",
   "execution_count": 3,
   "metadata": {},
   "outputs": [],
   "source": [
    "from dataset_reader.sentence_reader import *\n",
    "import config\n",
    "from utils import read_fgc"
   ]
  },
  {
   "cell_type": "code",
   "execution_count": 4,
   "metadata": {},
   "outputs": [
    {
     "name": "stdout",
     "output_type": "stream",
     "text": [
      "25\n",
      "no gold supporting evidence\n",
      "{'QID': 'D032Q10', 'QTYPE': '进阶题', 'QTEXT': '第二次簽訂的北美貿易協定從簽署至生效過了幾日?', 'SENTS': [{'text': '第二次签订的北美贸易协定从签署至生效过了几日?', 'start': 0, 'end': 23}], 'ANSWER': [{'ATEXT': '資訊不足無法判定', 'ATOKEN': [{'text': '资讯不足无法判定', 'start': -1}], 'ATEXT_CN': '资讯不足无法判定'}], 'ATYPE': 'Date-Duration', 'AMODE': 'Date-Duration', 'ASPAN': [], 'SHINT': [], 'QTEXT_CN': '第二次签订的北美贸易协定从签署至生效过了几日?'}\n",
      "no gold supporting evidence\n",
      "{'QID': 'D049Q04', 'QTYPE': '申论', 'QTEXT': '「雅婷逐字稿」的命名起源為何?', 'SENTS': [{'text': '「雅婷逐字稿」的命名起源为何?', 'start': 0, 'end': 15}], 'ANSWER': [{'ATEXT': '', 'ATOKEN': [{'text': '', 'start': 0}], 'ATEXT_CN': ''}], 'ATYPE': 'Event', 'AMODE': 'Single-Span-Extraction', 'ASPAN': [], 'SHINT': [], 'QTEXT_CN': '「雅婷逐字稿」的命名起源为何?'}\n",
      "no gold supporting evidence\n",
      "{'QID': 'D086Q03', 'QTYPE': '申论', 'QTEXT': '不可再生能源的意義是什麼？', 'SENTS': [{'text': '不可再生能源的意义是什么？', 'start': 0, 'end': 13}], 'ANSWER': [{'ATEXT': '', 'ATOKEN': [{'text': '', 'start': 0}], 'ATEXT_CN': ''}], 'ATYPE': 'Object', 'AMODE': 'Single-Span-Extraction', 'ASPAN': [], 'SHINT': [], 'QTEXT_CN': '不可再生能源的意义是什么？'}\n",
      "no gold supporting evidence\n",
      "{'QID': 'D322Q07', 'QTYPE': '申论', 'QTEXT': '要如何降低腸病毒的傳播風險？', 'SENTS': [{'text': '要如何降低肠病毒的传播风险？', 'start': 0, 'end': 14}], 'ANSWER': [{'ATEXT': '', 'ATOKEN': [{'text': '', 'start': 0}], 'ATEXT_CN': ''}], 'ATYPE': 'Kinship', 'AMODE': 'Kinship', 'ASPAN': [], 'SHINT': [], 'QTEXT_CN': '要如何降低肠病毒的传播风险？'}\n"
     ]
    }
   ],
   "source": [
    "data = read_fgc(config.FGC_DEV)"
   ]
  },
  {
   "cell_type": "code",
   "execution_count": 17,
   "metadata": {},
   "outputs": [
    {
     "data": {
      "text/plain": [
       "{'QID': 'D004Q01',\n",
       " 'SENTS': [{'text': '元祐元年（1086年），', 'start': 0, 'end': 12},\n",
       "  {'text': '宋哲宗即位，', 'start': 12, 'end': 18},\n",
       "  {'text': '高太皇太后垂帘听政，', 'start': 18, 'end': 28},\n",
       "  {'text': '回朝任礼部郎中、中书舍人、翰林学士，', 'start': 28, 'end': 46},\n",
       "  {'text': '元祐四年（1089年）拜龙图阁学士，', 'start': 46, 'end': 64},\n",
       "  {'text': '曾出任杭州、颍州等知州职务，', 'start': 64, 'end': 78},\n",
       "  {'text': '官至礼部尚书。', 'start': 78, 'end': 85},\n",
       "  {'text': '\\n绍圣元年（1094年）被哲宗贬谪至惠州、儋州（海南岛）。', 'start': 85, 'end': 114},\n",
       "  {'text': '\\n元符三年（1100年），', 'start': 114, 'end': 127},\n",
       "  {'text': '宋徽宗即位，', 'start': 127, 'end': 133},\n",
       "  {'text': '向太后垂帘听政，', 'start': 133, 'end': 141},\n",
       "  {'text': '下诏让苏轼北还。', 'start': 141, 'end': 149},\n",
       "  {'text': '\\n建中靖国元年（1101年），', 'start': 149, 'end': 164},\n",
       "  {'text': '夏天因冷饮过度，', 'start': 164, 'end': 172},\n",
       "  {'text': '下痢不止，又误服黄芪，', 'start': 172, 'end': 183},\n",
       "  {'text': '结果病情恶化，', 'start': 183, 'end': 190},\n",
       "  {'text': '「齿间出血如蚯蚓者无数」，', 'start': 190, 'end': 203},\n",
       "  {'text': '七月二十八日于常州孙氏馆病卒，', 'start': 203, 'end': 218},\n",
       "  {'text': '享年六十四岁。', 'start': 218, 'end': 225},\n",
       "  {'text': '由弟苏辙归葬于郏县小峨眉山。', 'start': 225, 'end': 239},\n",
       "  {'text': '南宋宋孝宗追赠谥号「文忠」。', 'start': 239, 'end': 253},\n",
       "  {'text': '\\n苏轼疲于应付新旧党争，', 'start': 253, 'end': 265},\n",
       "  {'text': '遇事「如食内有蝇，吐之乃已」，', 'start': 265, 'end': 280},\n",
       "  {'text': '苏轼既反对王安石比较急进的改革措施，', 'start': 280, 'end': 298},\n",
       "  {'text': '也不同意旧党司马光尽废新法，', 'start': 298, 'end': 312},\n",
       "  {'text': '所以虽然新党一直称苏轼为旧党，', 'start': 312, 'end': 327},\n",
       "  {'text': '但其实他在新旧两党之间均受排斥，', 'start': 327, 'end': 343},\n",
       "  {'text': '仕途坎坷，时常远贬外方，', 'start': 343, 'end': 355},\n",
       "  {'text': '不过他在各地居官清正，', 'start': 355, 'end': 366},\n",
       "  {'text': '为民兴利除弊，', 'start': 366, 'end': 373},\n",
       "  {'text': '政绩颇善，口碑甚佳，', 'start': 373, 'end': 383},\n",
       "  {'text': '杭州西湖的苏堤就是实证。', 'start': 383, 'end': 395}],\n",
       " 'SUP_EVIDENCE': [1, 3, 4, 5, 6],\n",
       " 'QTEXT': '蘇東坡在宋哲宗時期,曾出任過哪些官職?',\n",
       " 'ANS': '禮部郎中、中書舍人、翰林學士、龍圖閣學士、知州與禮部尚書',\n",
       " 'ATYPE': 'Organization'}"
      ]
     },
     "execution_count": 17,
     "metadata": {},
     "output_type": "execute_result"
    }
   ],
   "source": [
    "data[0]"
   ]
  },
  {
   "cell_type": "code",
   "execution_count": 5,
   "metadata": {},
   "outputs": [],
   "source": [
    "tokenizer = BertTokenizer.from_pretrained(config.BERT_EMBEDDING_ZH)\n",
    "bert = BertModel.from_pretrained(config.BERT_EMBEDDING_ZH)"
   ]
  },
  {
   "cell_type": "code",
   "execution_count": 6,
   "metadata": {},
   "outputs": [],
   "source": [
    "sample = SerSentenceDataset(data, transform=torchvision.transforms.Compose([SynIdx(tokenizer, bert)]))"
   ]
  },
  {
   "cell_type": "code",
   "execution_count": 7,
   "metadata": {},
   "outputs": [
    {
     "data": {
      "text/plain": [
       "{'QID': 'D004Q01',\n",
       " 'QTEXT': '蘇東坡在宋哲宗時期,曾出任過哪些官職?',\n",
       " 'sentence': '元祐元年（1086年），',\n",
       " 'other_context': '宋哲宗即位，高太皇太后垂帘听政，回朝任礼部郎中、中书舍人、翰林学士，元祐四年（1089年）拜龙图阁学士，曾出任杭州、颍州等知州职务，官至礼部尚书。\\n绍圣元年（1094年）被哲宗贬谪至惠州、儋州（海南岛）。\\n元符三年（1100年），宋徽宗即位，向太后垂帘听政，下诏让苏轼北还。\\n建中靖国元年（1101年），夏天因冷饮过度，下痢不止，又误服黄芪，结果病情恶化，「齿间出血如蚯蚓者无数」，七月二十八日于常州孙氏馆病卒，享年六十四岁。由弟苏辙归葬于郏县小峨眉山。南宋宋孝宗追赠谥号「文忠」。\\n苏轼疲于应付新旧党争，遇事「如食内有蝇，吐之乃已」，苏轼既反对王安石比较急进的改革措施，也不同意旧党司马光尽废新法，所以虽然新党一直称苏轼为旧党，但其实他在新旧两党之间均受排斥，仕途坎坷，时常远贬外方，不过他在各地居官清正，为民兴利除弊，政绩颇善，口碑甚佳，杭州西湖的苏堤就是实证。',\n",
       " 'context_sents': ['宋哲宗即位，',\n",
       "  '高太皇太后垂帘听政，',\n",
       "  '回朝任礼部郎中、中书舍人、翰林学士，',\n",
       "  '元祐四年（1089年）拜龙图阁学士，',\n",
       "  '曾出任杭州、颍州等知州职务，',\n",
       "  '官至礼部尚书。',\n",
       "  '\\n绍圣元年（1094年）被哲宗贬谪至惠州、儋州（海南岛）。',\n",
       "  '\\n元符三年（1100年），',\n",
       "  '宋徽宗即位，',\n",
       "  '向太后垂帘听政，',\n",
       "  '下诏让苏轼北还。',\n",
       "  '\\n建中靖国元年（1101年），',\n",
       "  '夏天因冷饮过度，',\n",
       "  '下痢不止，又误服黄芪，',\n",
       "  '结果病情恶化，',\n",
       "  '「齿间出血如蚯蚓者无数」，',\n",
       "  '七月二十八日于常州孙氏馆病卒，',\n",
       "  '享年六十四岁。',\n",
       "  '由弟苏辙归葬于郏县小峨眉山。',\n",
       "  '南宋宋孝宗追赠谥号「文忠」。',\n",
       "  '\\n苏轼疲于应付新旧党争，',\n",
       "  '遇事「如食内有蝇，吐之乃已」，',\n",
       "  '苏轼既反对王安石比较急进的改革措施，',\n",
       "  '也不同意旧党司马光尽废新法，',\n",
       "  '所以虽然新党一直称苏轼为旧党，',\n",
       "  '但其实他在新旧两党之间均受排斥，',\n",
       "  '仕途坎坷，时常远贬外方，',\n",
       "  '不过他在各地居官清正，',\n",
       "  '为民兴利除弊，',\n",
       "  '政绩颇善，口碑甚佳，',\n",
       "  '杭州西湖的苏堤就是实证。'],\n",
       " 'atype': 'Organization',\n",
       " 'label': 0,\n",
       " 'input_ids': [101,\n",
       "  5979,\n",
       "  3346,\n",
       "  1786,\n",
       "  1762,\n",
       "  2129,\n",
       "  1528,\n",
       "  2134,\n",
       "  3229,\n",
       "  3309,\n",
       "  117,\n",
       "  3295,\n",
       "  1139,\n",
       "  818,\n",
       "  6882,\n",
       "  1525,\n",
       "  763,\n",
       "  2135,\n",
       "  5480,\n",
       "  136,\n",
       "  102,\n",
       "  1039,\n",
       "  4860,\n",
       "  1039,\n",
       "  2399,\n",
       "  8020,\n",
       "  8692,\n",
       "  8158,\n",
       "  2399,\n",
       "  8021,\n",
       "  8024,\n",
       "  102],\n",
       " 'question_ids': [101,\n",
       "  5979,\n",
       "  3346,\n",
       "  1786,\n",
       "  1762,\n",
       "  2129,\n",
       "  1528,\n",
       "  2134,\n",
       "  3229,\n",
       "  3309,\n",
       "  117,\n",
       "  3295,\n",
       "  1139,\n",
       "  818,\n",
       "  6882,\n",
       "  1525,\n",
       "  763,\n",
       "  2135,\n",
       "  5480,\n",
       "  136,\n",
       "  102],\n",
       " 'token_type_ids': [0,\n",
       "  0,\n",
       "  0,\n",
       "  0,\n",
       "  0,\n",
       "  0,\n",
       "  0,\n",
       "  0,\n",
       "  0,\n",
       "  0,\n",
       "  0,\n",
       "  0,\n",
       "  0,\n",
       "  0,\n",
       "  0,\n",
       "  0,\n",
       "  0,\n",
       "  0,\n",
       "  0,\n",
       "  0,\n",
       "  0,\n",
       "  1,\n",
       "  1,\n",
       "  1,\n",
       "  1,\n",
       "  1,\n",
       "  1,\n",
       "  1,\n",
       "  1,\n",
       "  1,\n",
       "  1,\n",
       "  1],\n",
       " 'attention_mask': [1,\n",
       "  1,\n",
       "  1,\n",
       "  1,\n",
       "  1,\n",
       "  1,\n",
       "  1,\n",
       "  1,\n",
       "  1,\n",
       "  1,\n",
       "  1,\n",
       "  1,\n",
       "  1,\n",
       "  1,\n",
       "  1,\n",
       "  1,\n",
       "  1,\n",
       "  1,\n",
       "  1,\n",
       "  1,\n",
       "  1,\n",
       "  1,\n",
       "  1,\n",
       "  1,\n",
       "  1,\n",
       "  1,\n",
       "  1,\n",
       "  1,\n",
       "  1,\n",
       "  1,\n",
       "  1,\n",
       "  1],\n",
       " 'tf_match': [0,\n",
       "  0,\n",
       "  0,\n",
       "  0,\n",
       "  0,\n",
       "  0,\n",
       "  0,\n",
       "  0,\n",
       "  0,\n",
       "  0,\n",
       "  0,\n",
       "  0,\n",
       "  0,\n",
       "  0,\n",
       "  0,\n",
       "  0,\n",
       "  0,\n",
       "  0,\n",
       "  0,\n",
       "  0,\n",
       "  0,\n",
       "  0,\n",
       "  0,\n",
       "  0,\n",
       "  0,\n",
       "  0,\n",
       "  0,\n",
       "  0,\n",
       "  0,\n",
       "  0,\n",
       "  0,\n",
       "  0],\n",
       " 'idf_match': [0,\n",
       "  0,\n",
       "  0,\n",
       "  0,\n",
       "  1,\n",
       "  1,\n",
       "  1,\n",
       "  1,\n",
       "  0,\n",
       "  0,\n",
       "  0,\n",
       "  1,\n",
       "  1,\n",
       "  1,\n",
       "  0,\n",
       "  0,\n",
       "  0,\n",
       "  1,\n",
       "  0,\n",
       "  0,\n",
       "  0,\n",
       "  1,\n",
       "  1,\n",
       "  1,\n",
       "  1,\n",
       "  1,\n",
       "  1,\n",
       "  0,\n",
       "  1,\n",
       "  1,\n",
       "  1,\n",
       "  0],\n",
       " 'sf_type': [19,\n",
       "  0,\n",
       "  0,\n",
       "  0,\n",
       "  1,\n",
       "  1,\n",
       "  1,\n",
       "  2,\n",
       "  0,\n",
       "  0,\n",
       "  0,\n",
       "  0,\n",
       "  1,\n",
       "  1,\n",
       "  0,\n",
       "  0,\n",
       "  0,\n",
       "  1,\n",
       "  0,\n",
       "  0,\n",
       "  19,\n",
       "  2,\n",
       "  0,\n",
       "  2,\n",
       "  3,\n",
       "  2,\n",
       "  0,\n",
       "  0,\n",
       "  3,\n",
       "  2,\n",
       "  15,\n",
       "  19],\n",
       " 'qsim_type': [0,\n",
       "  0,\n",
       "  2,\n",
       "  0,\n",
       "  7,\n",
       "  3,\n",
       "  2,\n",
       "  2,\n",
       "  4,\n",
       "  6,\n",
       "  7,\n",
       "  2,\n",
       "  4,\n",
       "  2,\n",
       "  2,\n",
       "  0,\n",
       "  2,\n",
       "  1,\n",
       "  1,\n",
       "  2,\n",
       "  0,\n",
       "  3,\n",
       "  2,\n",
       "  3,\n",
       "  6,\n",
       "  4,\n",
       "  2,\n",
       "  1,\n",
       "  6,\n",
       "  2,\n",
       "  7,\n",
       "  0],\n",
       " 'atype_label': 3}"
      ]
     },
     "execution_count": 7,
     "metadata": {},
     "output_type": "execute_result"
    }
   ],
   "source": [
    "sample[0]"
   ]
  },
  {
   "cell_type": "code",
   "execution_count": 8,
   "metadata": {},
   "outputs": [],
   "source": [
    "dataloader_train = DataLoader(sample, batch_size=2, shuffle=True, collate_fn=Syn_collate)"
   ]
  },
  {
   "cell_type": "code",
   "execution_count": 9,
   "metadata": {},
   "outputs": [
    {
     "data": {
      "text/plain": [
       "{'input_ids': tensor([[  101,  7370,   749,  3966,  1990,   809,  1912,  6917,  3300,  6306,\n",
       "           4680,  3080,   749,  1043,  3669,  3428,  8043,   102,  3739,  1990,\n",
       "           1325,  7372,  6381,  7027,  3297,  5543,  6134,  4385,  3739,  1990,\n",
       "           1235,  3140,   510,  3322,  3255,   510,   707,  1314,   679,   744,\n",
       "           4638,   117,  3221,  1091,   800,  1469,  5903,  2010,  1762,  2255,\n",
       "           3822,  7027,  6837,  6662,  4638,  6929,   671,  4995,   511,   102],\n",
       "         [  101,   704,  6956,  3585,  6518,  1062,  6662,  1059,  7269, 12687,\n",
       "           1062,  7027,  8024,  3221,  1415,  3784,  6854,  1392,  1765,  5774,\n",
       "           3893,  6514,  4603,  8043,   102,  7270,  3217,  4870,  4638,  4635,\n",
       "           5298,  3566,  7607,  8024,   102,     0,     0,     0,     0,     0,\n",
       "              0,     0,     0,     0,     0,     0,     0,     0,     0,     0,\n",
       "              0,     0,     0,     0,     0,     0,     0,     0,     0,     0]]),\n",
       " 'question_ids': tensor([[  101,  7370,   749,  3966,  1990,   809,  1912,  6917,  3300,  6306,\n",
       "           4680,  3080,   749,  1043,  3669,  3428,  8043,   102,     0,     0,\n",
       "              0,     0,     0,     0,     0],\n",
       "         [  101,   704,  6956,  3585,  6518,  1062,  6662,  1059,  7269, 12687,\n",
       "           1062,  7027,  8024,  3221,  1415,  3784,  6854,  1392,  1765,  5774,\n",
       "           3893,  6514,  4603,  8043,   102]]),\n",
       " 'token_type_ids': tensor([[0, 0, 0, 0, 0, 0, 0, 0, 0, 0, 0, 0, 0, 0, 0, 0, 0, 0, 1, 1, 1, 1, 1, 1,\n",
       "          1, 1, 1, 1, 1, 1, 1, 1, 1, 1, 1, 1, 1, 1, 1, 1, 1, 1, 1, 1, 1, 1, 1, 1,\n",
       "          1, 1, 1, 1, 1, 1, 1, 1, 1, 1, 1, 1],\n",
       "         [0, 0, 0, 0, 0, 0, 0, 0, 0, 0, 0, 0, 0, 0, 0, 0, 0, 0, 0, 0, 0, 0, 0, 0,\n",
       "          0, 1, 1, 1, 1, 1, 1, 1, 1, 1, 1, 0, 0, 0, 0, 0, 0, 0, 0, 0, 0, 0, 0, 0,\n",
       "          0, 0, 0, 0, 0, 0, 0, 0, 0, 0, 0, 0]]),\n",
       " 'attention_mask': tensor([[1, 1, 1, 1, 1, 1, 1, 1, 1, 1, 1, 1, 1, 1, 1, 1, 1, 1, 1, 1, 1, 1, 1, 1,\n",
       "          1, 1, 1, 1, 1, 1, 1, 1, 1, 1, 1, 1, 1, 1, 1, 1, 1, 1, 1, 1, 1, 1, 1, 1,\n",
       "          1, 1, 1, 1, 1, 1, 1, 1, 1, 1, 1, 1],\n",
       "         [1, 1, 1, 1, 1, 1, 1, 1, 1, 1, 1, 1, 1, 1, 1, 1, 1, 1, 1, 1, 1, 1, 1, 1,\n",
       "          1, 1, 1, 1, 1, 1, 1, 1, 1, 1, 1, 0, 0, 0, 0, 0, 0, 0, 0, 0, 0, 0, 0, 0,\n",
       "          0, 0, 0, 0, 0, 0, 0, 0, 0, 0, 0, 0]]),\n",
       " 'tf_type': tensor([[0, 0, 0, 0, 1, 0, 0, 0, 0, 0, 0, 0, 0, 0, 0, 0, 0, 0, 0, 1, 0, 0, 0, 0,\n",
       "          0, 0, 0, 0, 0, 1, 0, 0, 0, 0, 0, 0, 0, 0, 0, 0, 0, 0, 0, 0, 0, 0, 0, 0,\n",
       "          0, 0, 0, 0, 0, 0, 0, 0, 0, 0, 0, 0],\n",
       "         [0, 0, 0, 0, 0, 0, 0, 0, 0, 0, 0, 0, 1, 0, 0, 0, 0, 0, 0, 0, 0, 0, 0, 0,\n",
       "          0, 0, 0, 0, 0, 0, 0, 0, 0, 1, 0, 0, 0, 0, 0, 0, 0, 0, 0, 0, 0, 0, 0, 0,\n",
       "          0, 0, 0, 0, 0, 0, 0, 0, 0, 0, 0, 0]]),\n",
       " 'idf_type': tensor([[0, 0, 1, 0, 1, 1, 0, 0, 1, 0, 1, 0, 1, 0, 0, 1, 0, 0, 1, 1, 1, 1, 1, 1,\n",
       "          1, 1, 1, 1, 1, 1, 1, 1, 1, 0, 0, 1, 0, 1, 1, 0, 1, 1, 1, 1, 1, 1, 1, 1,\n",
       "          1, 1, 1, 1, 1, 1, 1, 1, 1, 1, 1, 0],\n",
       "         [0, 1, 1, 0, 0, 1, 1, 1, 0, 0, 1, 1, 1, 1, 0, 1, 1, 1, 1, 0, 0, 0, 0, 0,\n",
       "          0, 1, 0, 0, 1, 1, 0, 1, 0, 1, 0, 0, 0, 0, 0, 0, 0, 0, 0, 0, 0, 0, 0, 0,\n",
       "          0, 0, 0, 0, 0, 0, 0, 0, 0, 0, 0, 0]]),\n",
       " 'sf_type': tensor([[19,  0,  8,  0, 14,  0,  0,  0,  5,  0,  0,  0,  8,  0,  0,  0,  0, 19,\n",
       "          14, 14,  2,  3,  1,  3,  2,  2,  0,  1, 14, 14,  2,  2,  2,  0,  0,  2,\n",
       "           0,  0,  6,  0, 16, 17,  8,  0,  8,  6,  2,  2,  4,  0,  1,  3,  0,  2,\n",
       "          16,  3,  8,  0, 17, 19],\n",
       "         [19,  1,  1,  0,  0,  3,  3,  0,  0,  0,  3,  0, 14,  4,  0,  0,  0,  0,\n",
       "           1,  0,  0,  0,  0,  0, 19,  0,  0,  0,  9,  0,  0,  1,  0, 14, 19,  0,\n",
       "           0,  0,  0,  0,  0,  0,  0,  0,  0,  0,  0,  0,  0,  0,  0,  0,  0,  0,\n",
       "           0,  0,  0,  0,  0,  0]]),\n",
       " 'qsim_type': tensor([[ 0,  2,  6, 15,  0,  5,  3,  4,  8,  3,  3,  2,  6,  3,  2,  2,  8,  0,\n",
       "          15,  0,  1,  2,  1,  2,  3,  5,  2,  3, 15,  0,  2,  2,  4,  1,  0,  4,\n",
       "           0,  3,  6,  2,  6,  2,  8,  1,  4,  5,  1,  1,  6,  2,  1,  2,  1,  2,\n",
       "           6,  2,  5,  2,  8,  0],\n",
       "         [ 0,  5,  3, 16,  3,  1,  2,  2, 14,  1,  1,  3,  0,  8,  0,  1,  0,  2,\n",
       "           5,  1,  2,  0,  2,  6,  0, 14,  2,  2, 10,  1,  1, 16,  1,  0,  0,  0,\n",
       "           0,  0,  0,  0,  0,  0,  0,  0,  0,  0,  0,  0,  0,  0,  0,  0,  0,  0,\n",
       "           0,  0,  0,  0,  0,  0]]),\n",
       " 'atype_label': tensor([0, 5]),\n",
       " 'label': tensor([0, 0])}"
      ]
     },
     "execution_count": 9,
     "metadata": {},
     "output_type": "execute_result"
    }
   ],
   "source": [
    "iter(dataloader_train).next()"
   ]
  },
  {
   "cell_type": "code",
   "execution_count": 10,
   "metadata": {},
   "outputs": [],
   "source": [
    "from nn_model.multitask_model import MultiSERModel"
   ]
  },
  {
   "cell_type": "code",
   "execution_count": 11,
   "metadata": {},
   "outputs": [],
   "source": [
    "model = MultiSERModel.from_pretrained(config.BERT_EMBEDDING_ZH)"
   ]
  },
  {
   "cell_type": "code",
   "execution_count": 12,
   "metadata": {},
   "outputs": [],
   "source": [
    "model.to_mode('syn-all')"
   ]
  },
  {
   "cell_type": "code",
   "execution_count": 15,
   "metadata": {},
   "outputs": [
    {
     "name": "stdout",
     "output_type": "stream",
     "text": [
      "[1]\n",
      "['YesNo', 'YesNo']\n"
     ]
    }
   ],
   "source": [
    "with torch.no_grad():\n",
    "    prediction, atype = model.predict_fgc(iter(dataloader_train).next())\n",
    "    print(prediction)\n",
    "    print(atype)"
   ]
  },
  {
   "cell_type": "code",
   "execution_count": 14,
   "metadata": {},
   "outputs": [
    {
     "data": {
      "text/plain": [
       "tensor(2.8905, grad_fn=<AddBackward0>)"
      ]
     },
     "execution_count": 14,
     "metadata": {},
     "output_type": "execute_result"
    }
   ],
   "source": [
    "model.forward(iter(dataloader_train).next())"
   ]
  },
  {
   "cell_type": "code",
   "execution_count": 15,
   "metadata": {},
   "outputs": [],
   "source": [
    "test = torch.tensor([1,2])"
   ]
  },
  {
   "cell_type": "code",
   "execution_count": 16,
   "metadata": {},
   "outputs": [
    {
     "data": {
      "text/plain": [
       "torch.int64"
      ]
     },
     "execution_count": 16,
     "metadata": {},
     "output_type": "execute_result"
    }
   ],
   "source": [
    "test.dtype"
   ]
  },
  {
   "cell_type": "code",
   "execution_count": 22,
   "metadata": {},
   "outputs": [
    {
     "data": {
      "text/plain": [
       "tensor([1., 2.])"
      ]
     },
     "execution_count": 22,
     "metadata": {},
     "output_type": "execute_result"
    }
   ],
   "source": [
    "test.to(dtype=torch.float)"
   ]
  },
  {
   "cell_type": "code",
   "execution_count": 23,
   "metadata": {},
   "outputs": [
    {
     "data": {
      "text/plain": [
       "torch.int64"
      ]
     },
     "execution_count": 23,
     "metadata": {},
     "output_type": "execute_result"
    }
   ],
   "source": [
    "test.dtype"
   ]
  },
  {
   "cell_type": "code",
   "execution_count": null,
   "metadata": {},
   "outputs": [],
   "source": []
  }
 ],
 "metadata": {
  "kernelspec": {
   "display_name": "Python 3",
   "language": "python",
   "name": "python3"
  },
  "language_info": {
   "codemirror_mode": {
    "name": "ipython",
    "version": 3
   },
   "file_extension": ".py",
   "mimetype": "text/x-python",
   "name": "python",
   "nbconvert_exporter": "python",
   "pygments_lexer": "ipython3",
   "version": "3.7.4"
  }
 },
 "nbformat": 4,
 "nbformat_minor": 4
}
