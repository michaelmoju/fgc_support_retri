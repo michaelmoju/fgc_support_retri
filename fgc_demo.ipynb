{
 "cells": [
  {
   "cell_type": "code",
   "execution_count": 1,
   "metadata": {},
   "outputs": [
    {
     "data": {
      "text/plain": [
       "'/work'"
      ]
     },
     "execution_count": 1,
     "metadata": {},
     "output_type": "execute_result"
    }
   ],
   "source": [
    "import os\n",
    "import sys\n",
    "\n",
    "w_dir = %pwd\n",
    "work_dir = os.path.dirname(w_dir)\n",
    "work_dir"
   ]
  },
  {
   "cell_type": "code",
   "execution_count": 2,
   "metadata": {},
   "outputs": [],
   "source": [
    "sys.path.append(w_dir+'/fgc_support_retri')"
   ]
  },
  {
   "cell_type": "code",
   "execution_count": 3,
   "metadata": {},
   "outputs": [],
   "source": [
    "import config\n",
    "from fgc_preprocess import FgcSerDataset"
   ]
  },
  {
   "cell_type": "code",
   "execution_count": 4,
   "metadata": {},
   "outputs": [
    {
     "data": {
      "text/plain": [
       "PosixPath('/work/fgc_support_retri/data/FGC/1.2/FGC_release_A_dev(cn).json')"
      ]
     },
     "execution_count": 4,
     "metadata": {},
     "output_type": "execute_result"
    }
   ],
   "source": [
    "config.FGC_DEV"
   ]
  },
  {
   "cell_type": "code",
   "execution_count": 5,
   "metadata": {},
   "outputs": [
    {
     "name": "stdout",
     "output_type": "stream",
     "text": [
      "preprocessing /work/fgc_support_retri/data/FGC/1.2/FGC_release_A_dev(cn).json ......\n"
     ]
    },
    {
     "data": {
      "application/vnd.jupyter.widget-view+json": {
       "model_id": "c6d1db82063a4539959896b8ec847e26",
       "version_major": 2,
       "version_minor": 0
      },
      "text/plain": [
       "HBox(children=(IntProgress(value=0, max=25), HTML(value='')))"
      ]
     },
     "metadata": {},
     "output_type": "display_data"
    },
    {
     "name": "stdout",
     "output_type": "stream",
     "text": [
      "aspan error: 接触感染 \n",
      "{'QTYPE': '进阶题', 'AMODE': 'Single-Span-Extraction', 'ASPAN': [{'text': '喉咙', 'end': 574, 'start': 572}, {'text': '粪便', 'end': 577, 'start': 575}, {'text': '传染力', 'end': 588, 'start': 585}, {'text': '接触感染', 'end': 800, 'start': 796}, {'text': '空气传播', 'end': 806, 'start': 802}, {'text': '两者皆有', 'end': 812, 'start': 808}], 'ATYPE': 'Misc', 'SHINT': [{'text': '\\n疾管署表示，肠病毒感染者在发病前几天，喉咙与粪便就有病毒存在且具传染力，发病后一周内传染力最高，痊愈后肠病毒会随著粪便排出达8到12周之久', 'end': 622, 'start': 552}, {'text': ', Q:肠病毒的传染途径传染途径是接触感染还是空气传播或是两者皆有?, A:两者皆有', 'end': 821, 'start': 779}], 'QTEXT': '肠病毒的传染途径传染途径是接触感染还是空气传播或是两者皆有?', 'QID': 'D322Q05', 'ANSWER': [{'ATOKEN': [{'text': '两者皆有', 'start': -1}], 'ATEXT': '两者皆有'}]}\n",
      "aspan error: 空气传播 \n",
      "{'QTYPE': '进阶题', 'AMODE': 'Single-Span-Extraction', 'ASPAN': [{'text': '喉咙', 'end': 574, 'start': 572}, {'text': '粪便', 'end': 577, 'start': 575}, {'text': '传染力', 'end': 588, 'start': 585}, {'text': '接触感染', 'end': 800, 'start': 796}, {'text': '空气传播', 'end': 806, 'start': 802}, {'text': '两者皆有', 'end': 812, 'start': 808}], 'ATYPE': 'Misc', 'SHINT': [{'text': '\\n疾管署表示，肠病毒感染者在发病前几天，喉咙与粪便就有病毒存在且具传染力，发病后一周内传染力最高，痊愈后肠病毒会随著粪便排出达8到12周之久', 'end': 622, 'start': 552}, {'text': ', Q:肠病毒的传染途径传染途径是接触感染还是空气传播或是两者皆有?, A:两者皆有', 'end': 821, 'start': 779}], 'QTEXT': '肠病毒的传染途径传染途径是接触感染还是空气传播或是两者皆有?', 'QID': 'D322Q05', 'ANSWER': [{'ATOKEN': [{'text': '两者皆有', 'start': -1}], 'ATEXT': '两者皆有'}]}\n",
      "aspan error: 两者皆有 \n",
      "{'QTYPE': '进阶题', 'AMODE': 'Single-Span-Extraction', 'ASPAN': [{'text': '喉咙', 'end': 574, 'start': 572}, {'text': '粪便', 'end': 577, 'start': 575}, {'text': '传染力', 'end': 588, 'start': 585}, {'text': '接触感染', 'end': 800, 'start': 796}, {'text': '空气传播', 'end': 806, 'start': 802}, {'text': '两者皆有', 'end': 812, 'start': 808}], 'ATYPE': 'Misc', 'SHINT': [{'text': '\\n疾管署表示，肠病毒感染者在发病前几天，喉咙与粪便就有病毒存在且具传染力，发病后一周内传染力最高，痊愈后肠病毒会随著粪便排出达8到12周之久', 'end': 622, 'start': 552}, {'text': ', Q:肠病毒的传染途径传染途径是接触感染还是空气传播或是两者皆有?, A:两者皆有', 'end': 821, 'start': 779}], 'QTEXT': '肠病毒的传染途径传染途径是接触感染还是空气传播或是两者皆有?', 'QID': 'D322Q05', 'ANSWER': [{'ATOKEN': [{'text': '两者皆有', 'start': -1}], 'ATEXT': '两者皆有'}]}\n",
      "\n",
      "data size = \n"
     ]
    }
   ],
   "source": [
    "dev_set = FgcSerDataset(config.FGC_DEV)"
   ]
  },
  {
   "cell_type": "code",
   "execution_count": 7,
   "metadata": {},
   "outputs": [
    {
     "data": {
      "text/plain": [
       "2495"
      ]
     },
     "execution_count": 7,
     "metadata": {},
     "output_type": "execute_result"
    }
   ],
   "source": [
    "len(dev_set)"
   ]
  },
  {
   "cell_type": "code",
   "execution_count": 8,
   "metadata": {},
   "outputs": [],
   "source": [
    "from torch.utils.data import DataLoader"
   ]
  },
  {
   "cell_type": "code",
   "execution_count": 9,
   "metadata": {},
   "outputs": [],
   "source": [
    "dataloader = DataLoader(dev_set, batch_size=2)"
   ]
  },
  {
   "cell_type": "code",
   "execution_count": 14,
   "metadata": {},
   "outputs": [],
   "source": [
    "# for d in dataloader:\n",
    "#     print(d['sentence'])"
   ]
  },
  {
   "cell_type": "code",
   "execution_count": 4,
   "metadata": {},
   "outputs": [],
   "source": [
    "test = \"国内肠病毒轻症疫情持续上升，另新增1例肠病毒71型并发重症病例。疾病管制署再次呼吁，肠病毒传染力强，家长与教托育机构人员不可轻忽，应加强居家环境、教室及游乐设施等的通风、整洁与消毒，并教导学童落实「湿、搓、冲、捧、擦」正确洗手步骤，及生病在家休息等良好卫生观念，以降低病毒于校园或社区中传播的风险。 疾管署表示，新增之肠病毒并发重症个案为南部7岁男童，9月1日至2日陆续出现手足口症、食欲下降、呕吐、发烧、腹部疼痛、喉咙痛及咳嗽等症状，9月4日个案因症状持续且出现疑似肌抽跃、疱疹性咽峡炎及对答反应慢等情形，经就医转诊后收治住院，5日由医院采检通报，经检验审查确认感染肠病毒71型并发重症(脑炎)，所幸个案经治疗后症状改善并已出院。 疾管署监测资料显示，上周(9月8日至9月14日)国内肠病毒门急诊就诊共计20,585人次，较前一周上升6.5%；近期就诊人次持续上升，疫情处流行高峰期。今(2019)年累计37例肠病毒并发重症病例，以感染肠病毒71型为多(28例)，其他分别感染肠病毒D68型、克沙奇A6型、A10型(各2例)，克沙奇A9型、B5型、伊科病毒11型(各1例)。近四周社区肠病毒检出型别以克沙奇A群为多，肠病毒71型持续活动；今年累计315例肠病毒71型个案，高于2016至2018年同期。 疾管署表示，肠病毒感染者在发病前几天，喉咙与粪便就有病毒存在且具传染力，发病后一周内传染力最高，痊愈后肠病毒会随著粪便排出达8到12周之久。提醒民众如感染肠病毒，应在家休息并避免与其他婴幼儿接触；痊愈后仍应注意个人手部卫生，以免将病毒传染给其他幼儿造成交叉感染。如发现家中婴幼儿出现肢体无力麻痺，或有嗜睡、意识不清、活力不佳、手脚无力、肌跃型抽搐(无故惊吓或全身肌肉突然收缩)、持续呕吐与呼吸急促或心跳加快等肠病毒重症前兆病征，请尽速送大医院接受治疗。\""
   ]
  },
  {
   "cell_type": "code",
   "execution_count": 5,
   "metadata": {},
   "outputs": [
    {
     "data": {
      "text/plain": [
       "779"
      ]
     },
     "execution_count": 5,
     "metadata": {},
     "output_type": "execute_result"
    }
   ],
   "source": [
    "len(test)"
   ]
  },
  {
   "cell_type": "code",
   "execution_count": 6,
   "metadata": {},
   "outputs": [
    {
     "data": {
      "text/plain": [
       "'痊愈后肠病毒会随著粪便排出达8到12周之久'"
      ]
     },
     "execution_count": 6,
     "metadata": {},
     "output_type": "execute_result"
    }
   ],
   "source": [
    "test[601:622]"
   ]
  },
  {
   "cell_type": "code",
   "execution_count": null,
   "metadata": {},
   "outputs": [],
   "source": []
  }
 ],
 "metadata": {
  "kernelspec": {
   "display_name": "Python 3",
   "language": "python",
   "name": "python3"
  },
  "language_info": {
   "codemirror_mode": {
    "name": "ipython",
    "version": 3
   },
   "file_extension": ".py",
   "mimetype": "text/x-python",
   "name": "python",
   "nbconvert_exporter": "python",
   "pygments_lexer": "ipython3",
   "version": "3.6.8"
  }
 },
 "nbformat": 4,
 "nbformat_minor": 4
}
