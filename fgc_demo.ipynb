{
 "cells": [
  {
   "cell_type": "code",
   "execution_count": 1,
   "metadata": {},
   "outputs": [
    {
     "data": {
      "text/plain": [
       "'/media/moju/data/work'"
      ]
     },
     "execution_count": 1,
     "metadata": {},
     "output_type": "execute_result"
    }
   ],
   "source": [
    "import os\n",
    "import sys\n",
    "import torchvision\n",
    "from transformers.tokenization_bert import BertTokenizer\n",
    "\n",
    "w_dir = %pwd\n",
    "work_dir = os.path.dirname(w_dir)\n",
    "work_dir"
   ]
  },
  {
   "cell_type": "code",
   "execution_count": 2,
   "metadata": {},
   "outputs": [],
   "source": [
    "sys.path.append(w_dir+'/fgc_support_retri')"
   ]
  },
  {
   "cell_type": "code",
   "execution_count": 3,
   "metadata": {},
   "outputs": [],
   "source": [
    "from train import train_model"
   ]
  },
  {
   "cell_type": "code",
   "execution_count": 4,
   "metadata": {},
   "outputs": [
    {
     "name": "stdout",
     "output_type": "stream",
     "text": [
      "preprocessing /media/moju/data/work/fgc_support_retri/data/FGC/1.2/FGC_release_A_dev(cn).json ......\n"
     ]
    },
    {
     "data": {
      "application/vnd.jupyter.widget-view+json": {
       "model_id": "feaf4d049b824601aa7411ba92439961",
       "version_major": 2,
       "version_minor": 0
      },
      "text/plain": [
       "HBox(children=(IntProgress(value=0, max=25), HTML(value='')))"
      ]
     },
     "metadata": {},
     "output_type": "display_data"
    },
    {
     "name": "stdout",
     "output_type": "stream",
     "text": [
      "Expecting value: line 1 column 1 (char 0)\n",
      "D108\n"
     ]
    },
    {
     "name": "stderr",
     "output_type": "stream",
     "text": [
      "  0%|          | 0/37 [00:00<?, ?it/s]"
     ]
    },
    {
     "name": "stdout",
     "output_type": "stream",
     "text": [
      "aspan error: 接触感染 \n",
      "{'QTYPE': '进阶题', 'AMODE': 'Single-Span-Extraction', 'ASPAN': [{'text': '喉咙', 'end': 574, 'start': 572}, {'text': '粪便', 'end': 577, 'start': 575}, {'text': '传染力', 'end': 588, 'start': 585}, {'text': '接触感染', 'end': 800, 'start': 796}, {'text': '空气传播', 'end': 806, 'start': 802}, {'text': '两者皆有', 'end': 812, 'start': 808}], 'ATYPE': 'Misc', 'SHINT': [{'text': '\\n疾管署表示，肠病毒感染者在发病前几天，喉咙与粪便就有病毒存在且具传染力，发病后一周内传染力最高，痊愈后肠病毒会随著粪便排出达8到12周之久', 'end': 622, 'start': 552}, {'text': ', Q:肠病毒的传染途径传染途径是接触感染还是空气传播或是两者皆有?, A:两者皆有', 'end': 821, 'start': 779}], 'QTEXT': '肠病毒的传染途径传染途径是接触感染还是空气传播或是两者皆有?', 'QID': 'D322Q05', 'ANSWER': [{'ATOKEN': [{'text': '两者皆有', 'start': -1}], 'ATEXT': '两者皆有'}]}\n",
      "aspan error: 空气传播 \n",
      "{'QTYPE': '进阶题', 'AMODE': 'Single-Span-Extraction', 'ASPAN': [{'text': '喉咙', 'end': 574, 'start': 572}, {'text': '粪便', 'end': 577, 'start': 575}, {'text': '传染力', 'end': 588, 'start': 585}, {'text': '接触感染', 'end': 800, 'start': 796}, {'text': '空气传播', 'end': 806, 'start': 802}, {'text': '两者皆有', 'end': 812, 'start': 808}], 'ATYPE': 'Misc', 'SHINT': [{'text': '\\n疾管署表示，肠病毒感染者在发病前几天，喉咙与粪便就有病毒存在且具传染力，发病后一周内传染力最高，痊愈后肠病毒会随著粪便排出达8到12周之久', 'end': 622, 'start': 552}, {'text': ', Q:肠病毒的传染途径传染途径是接触感染还是空气传播或是两者皆有?, A:两者皆有', 'end': 821, 'start': 779}], 'QTEXT': '肠病毒的传染途径传染途径是接触感染还是空气传播或是两者皆有?', 'QID': 'D322Q05', 'ANSWER': [{'ATOKEN': [{'text': '两者皆有', 'start': -1}], 'ATEXT': '两者皆有'}]}\n",
      "aspan error: 两者皆有 \n",
      "{'QTYPE': '进阶题', 'AMODE': 'Single-Span-Extraction', 'ASPAN': [{'text': '喉咙', 'end': 574, 'start': 572}, {'text': '粪便', 'end': 577, 'start': 575}, {'text': '传染力', 'end': 588, 'start': 585}, {'text': '接触感染', 'end': 800, 'start': 796}, {'text': '空气传播', 'end': 806, 'start': 802}, {'text': '两者皆有', 'end': 812, 'start': 808}], 'ATYPE': 'Misc', 'SHINT': [{'text': '\\n疾管署表示，肠病毒感染者在发病前几天，喉咙与粪便就有病毒存在且具传染力，发病后一周内传染力最高，痊愈后肠病毒会随著粪便排出达8到12周之久', 'end': 622, 'start': 552}, {'text': ', Q:肠病毒的传染途径传染途径是接触感染还是空气传播或是两者皆有?, A:两者皆有', 'end': 821, 'start': 779}], 'QTEXT': '肠病毒的传染途径传染途径是接触感染还是空气传播或是两者皆有?', 'QID': 'D322Q05', 'ANSWER': [{'ATOKEN': [{'text': '两者皆有', 'start': -1}], 'ATEXT': '两者皆有'}]}\n",
      "\n",
      "data size = 203\n",
      "start training ... 1 epochs\n"
     ]
    },
    {
     "name": "stderr",
     "output_type": "stream",
     "text": [
      "Exception ignored in: <function _DataLoaderIter.__del__ at 0x7f9a7cdf6e60>\n",
      "Traceback (most recent call last):\n",
      "  File \"/home/moju/anaconda3/envs/pytorch/lib/python3.7/site-packages/torch/utils/data/dataloader.py\", line 675, in __del__\n",
      "    def __del__(self):\n",
      "KeyboardInterrupt\n",
      "ERROR:root:Internal Python error in the inspect module.\n",
      "Below is the traceback from this internal error.\n",
      "\n"
     ]
    },
    {
     "name": "stdout",
     "output_type": "stream",
     "text": [
      "Traceback (most recent call last):\n",
      "  File \"/home/moju/anaconda3/envs/pytorch/lib/python3.7/site-packages/IPython/core/interactiveshell.py\", line 3326, in run_code\n",
      "    exec(code_obj, self.user_global_ns, self.user_ns)\n",
      "  File \"<ipython-input-4-4dc2ba0c028a>\", line 1, in <module>\n",
      "    train_model()\n",
      "  File \"/media/moju/data/work/fgc_support_retri/fgc_support_retri/train.py\", line 66, in train_model\n",
      "    labels=labels)\n",
      "  File \"/home/moju/anaconda3/envs/pytorch/lib/python3.7/site-packages/torch/nn/modules/module.py\", line 493, in __call__\n",
      "    result = self.forward(*input, **kwargs)\n",
      "  File \"/media/moju/data/work/fgc_support_retri/fgc_support_retri/sup_model.py\", line 20, in forward\n",
      "    sequence_output, pooled_output = self.bert_encoder(input_ids, token_type_ids, attention_mask)\n",
      "  File \"/home/moju/anaconda3/envs/pytorch/lib/python3.7/site-packages/torch/nn/modules/module.py\", line 493, in __call__\n",
      "    result = self.forward(*input, **kwargs)\n",
      "  File \"/home/moju/anaconda3/envs/pytorch/lib/python3.7/site-packages/transformers/modeling_bert.py\", line 627, in forward\n",
      "    head_mask=head_mask)\n",
      "  File \"/home/moju/anaconda3/envs/pytorch/lib/python3.7/site-packages/torch/nn/modules/module.py\", line 493, in __call__\n",
      "    result = self.forward(*input, **kwargs)\n",
      "  File \"/home/moju/anaconda3/envs/pytorch/lib/python3.7/site-packages/transformers/modeling_bert.py\", line 348, in forward\n",
      "    layer_outputs = layer_module(hidden_states, attention_mask, head_mask[i])\n",
      "  File \"/home/moju/anaconda3/envs/pytorch/lib/python3.7/site-packages/torch/nn/modules/module.py\", line 493, in __call__\n",
      "    result = self.forward(*input, **kwargs)\n",
      "  File \"/home/moju/anaconda3/envs/pytorch/lib/python3.7/site-packages/transformers/modeling_bert.py\", line 328, in forward\n",
      "    intermediate_output = self.intermediate(attention_output)\n",
      "  File \"/home/moju/anaconda3/envs/pytorch/lib/python3.7/site-packages/torch/nn/modules/module.py\", line 493, in __call__\n",
      "    result = self.forward(*input, **kwargs)\n",
      "  File \"/home/moju/anaconda3/envs/pytorch/lib/python3.7/site-packages/transformers/modeling_bert.py\", line 299, in forward\n",
      "    hidden_states = self.dense(hidden_states)\n",
      "  File \"/home/moju/anaconda3/envs/pytorch/lib/python3.7/site-packages/torch/nn/modules/module.py\", line 493, in __call__\n",
      "    result = self.forward(*input, **kwargs)\n",
      "  File \"/home/moju/anaconda3/envs/pytorch/lib/python3.7/site-packages/torch/nn/modules/linear.py\", line 92, in forward\n",
      "    return F.linear(input, self.weight, self.bias)\n",
      "  File \"/home/moju/anaconda3/envs/pytorch/lib/python3.7/site-packages/torch/nn/functional.py\", line 1408, in linear\n",
      "    output = input.matmul(weight.t())\n",
      "KeyboardInterrupt\n",
      "\n",
      "During handling of the above exception, another exception occurred:\n",
      "\n",
      "Traceback (most recent call last):\n",
      "  File \"/home/moju/anaconda3/envs/pytorch/lib/python3.7/site-packages/IPython/core/interactiveshell.py\", line 2040, in showtraceback\n",
      "    stb = value._render_traceback_()\n",
      "AttributeError: 'KeyboardInterrupt' object has no attribute '_render_traceback_'\n",
      "\n",
      "During handling of the above exception, another exception occurred:\n",
      "\n",
      "Traceback (most recent call last):\n",
      "  File \"/home/moju/anaconda3/envs/pytorch/lib/python3.7/site-packages/IPython/core/ultratb.py\", line 1101, in get_records\n",
      "    return _fixed_getinnerframes(etb, number_of_lines_of_context, tb_offset)\n",
      "  File \"/home/moju/anaconda3/envs/pytorch/lib/python3.7/site-packages/IPython/core/ultratb.py\", line 319, in wrapped\n",
      "    return f(*args, **kwargs)\n",
      "  File \"/home/moju/anaconda3/envs/pytorch/lib/python3.7/site-packages/IPython/core/ultratb.py\", line 353, in _fixed_getinnerframes\n",
      "    records = fix_frame_records_filenames(inspect.getinnerframes(etb, context))\n",
      "  File \"/home/moju/anaconda3/envs/pytorch/lib/python3.7/inspect.py\", line 1502, in getinnerframes\n",
      "    frameinfo = (tb.tb_frame,) + getframeinfo(tb, context)\n",
      "  File \"/home/moju/anaconda3/envs/pytorch/lib/python3.7/inspect.py\", line 1460, in getframeinfo\n",
      "    filename = getsourcefile(frame) or getfile(frame)\n",
      "  File \"/home/moju/anaconda3/envs/pytorch/lib/python3.7/inspect.py\", line 696, in getsourcefile\n",
      "    if getattr(getmodule(object, filename), '__loader__', None) is not None:\n",
      "  File \"/home/moju/anaconda3/envs/pytorch/lib/python3.7/inspect.py\", line 742, in getmodule\n",
      "    os.path.realpath(f)] = module.__name__\n",
      "  File \"/home/moju/anaconda3/envs/pytorch/lib/python3.7/posixpath.py\", line 395, in realpath\n",
      "    path, ok = _joinrealpath(filename[:0], filename, {})\n",
      "  File \"/home/moju/anaconda3/envs/pytorch/lib/python3.7/posixpath.py\", line 429, in _joinrealpath\n",
      "    if not islink(newpath):\n",
      "  File \"/home/moju/anaconda3/envs/pytorch/lib/python3.7/posixpath.py\", line 171, in islink\n",
      "    st = os.lstat(path)\n",
      "KeyboardInterrupt\n"
     ]
    },
    {
     "ename": "KeyboardInterrupt",
     "evalue": "",
     "output_type": "error",
     "traceback": [
      "\u001b[0;31m---------------------------------------------------------------------------\u001b[0m"
     ]
    }
   ],
   "source": [
    "train_model()"
   ]
  },
  {
   "cell_type": "code",
   "execution_count": null,
   "metadata": {},
   "outputs": [],
   "source": []
  }
 ],
 "metadata": {
  "kernelspec": {
   "display_name": "Python 3",
   "language": "python",
   "name": "python3"
  },
  "language_info": {
   "codemirror_mode": {
    "name": "ipython",
    "version": 3
   },
   "file_extension": ".py",
   "mimetype": "text/x-python",
   "name": "python",
   "nbconvert_exporter": "python",
   "pygments_lexer": "ipython3",
   "version": "3.7.4"
  }
 },
 "nbformat": 4,
 "nbformat_minor": 4
}
