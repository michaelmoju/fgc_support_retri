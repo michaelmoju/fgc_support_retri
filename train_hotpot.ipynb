{
 "cells": [
  {
   "cell_type": "code",
   "execution_count": 1,
   "metadata": {},
   "outputs": [
    {
     "data": {
      "text/plain": [
       "'/media/moju/data/work'"
      ]
     },
     "execution_count": 1,
     "metadata": {},
     "output_type": "execute_result"
    }
   ],
   "source": [
    "import os\n",
    "import sys\n",
    "import torchvision\n",
    "import json\n",
    "from transformers.tokenization_bert import BertTokenizer\n",
    "\n",
    "w_dir = %pwd\n",
    "work_dir = os.path.dirname(w_dir)\n",
    "work_dir"
   ]
  },
  {
   "cell_type": "code",
   "execution_count": 2,
   "metadata": {},
   "outputs": [],
   "source": [
    "sys.path.append(w_dir+'/fgc_support_retri')"
   ]
  },
  {
   "cell_type": "code",
   "execution_count": 5,
   "metadata": {},
   "outputs": [],
   "source": [
    "import torch\n",
    "import torch.nn as nn\n",
    "import torchvision\n",
    "from transformers.tokenization_bert import BertTokenizer\n",
    "import config\n",
    "from fgc_preprocess import FgcSerDataset, BertIdx\n",
    "from torch.utils.data import DataLoader\n",
    "from sup_model import BertSupSentClassification\n",
    "from transformers import BertModel\n",
    "from transformers.optimization import AdamW, get_linear_schedule_with_warmup\n",
    "from tqdm import tqdm_notebook as tqdm\n",
    "from fgc_support_retri.fgc_preprocess import HotpotDataset"
   ]
  },
  {
   "cell_type": "code",
   "execution_count": 6,
   "metadata": {},
   "outputs": [
    {
     "data": {
      "text/plain": [
       "PosixPath('/media/moju/data/work/fgc_support_retri/data/hotpot_dataset/FGC_hotpot_dev_distractor_v1(cn_refn).json')"
      ]
     },
     "execution_count": 6,
     "metadata": {},
     "output_type": "execute_result"
    }
   ],
   "source": [
    "config.HOTPOT_DEV"
   ]
  },
  {
   "cell_type": "code",
   "execution_count": 5,
   "metadata": {},
   "outputs": [],
   "source": [
    "def get_sup(item):\n",
    "    item['SENTS'] = item['DTEXT'].split('\\n')[:-1]\n",
    "    sup_evidence = [0] * len(item['SENTS'])\n",
    "    \n",
    "    for shi in item['SHINT']:\n",
    "        for s_i, s in enumerate(item['SENTS']):\n",
    "            if shi['text'] == s:\n",
    "                sup_evidence[s_i] = 1\n",
    "    item['SUP_EVIDENCE'] = sup_evidence"
   ]
  },
  {
   "cell_type": "code",
   "execution_count": 6,
   "metadata": {},
   "outputs": [
    {
     "name": "stdout",
     "output_type": "stream",
     "text": [
      "7405 questions\n"
     ]
    }
   ],
   "source": [
    "with open(config.HOTPOT_DEV) as f:\n",
    "    items = json.load(f)\n",
    "print(\"{} questions\".format(len(items)))\n",
    "\n",
    "for item in items:\n",
    "    assert len(item['QUESTIONS']) == 1\n",
    "    for k, v in item['QUESTIONS'][0].items():\n",
    "        item[k] = v\n",
    "    del item['QUESTIONS']\n",
    "    get_sup(item)\n",
    "    assert 1 in item['SUP_EVIDENCE']\n",
    "    del item['SHINT']\n",
    "    del item ['ASPAN']"
   ]
  },
  {
   "cell_type": "code",
   "execution_count": 7,
   "metadata": {},
   "outputs": [
    {
     "data": {
      "text/plain": [
       "{'DID': '5a8b57f25542995d1e6f1371',\n",
       " 'DTEXT': '斯科特·德里克森（1966年7月16日出生）是美国导演、编剧和制片人。\\n他住在加州洛杉矶。\\n他最出名的是执导恐怖电影，如《险恶》、《艾米丽·罗斯的驱魔》、《让我们远离邪恶》，以及2016年惊奇电影宇宙版的《奇怪医生》\\n爱德华·戴维斯·伍德（1924年10月10日至1978年12月10日）是美国电影制片人、演员、作家、制片人和导演。\\n',\n",
       " 'QID': '1',\n",
       " 'QTEXT': '斯科特·德里克森和埃德·伍德是同一国籍的吗？',\n",
       " 'QTYPE': '进阶题',\n",
       " 'AMODE': 'Comparing-Members',\n",
       " 'ANSWER': [{'ATEXT': '对', 'ATOKEN': {'text': '对', 'start': 0}},\n",
       "  {'ATEXT': 'yes', 'ATOKEN': {'text': 'yes', 'start': 0}}],\n",
       " 'SENTS': ['斯科特·德里克森（1966年7月16日出生）是美国导演、编剧和制片人。',\n",
       "  '他住在加州洛杉矶。',\n",
       "  '他最出名的是执导恐怖电影，如《险恶》、《艾米丽·罗斯的驱魔》、《让我们远离邪恶》，以及2016年惊奇电影宇宙版的《奇怪医生》',\n",
       "  '爱德华·戴维斯·伍德（1924年10月10日至1978年12月10日）是美国电影制片人、演员、作家、制片人和导演。'],\n",
       " 'SUP_EVIDENCE': [1, 0, 0, 1]}"
      ]
     },
     "execution_count": 7,
     "metadata": {},
     "output_type": "execute_result"
    }
   ],
   "source": [
    "items[0]"
   ]
  },
  {
   "cell_type": "code",
   "execution_count": 8,
   "metadata": {},
   "outputs": [],
   "source": [
    "bert_model_name = 'bert-base-chinese'\n",
    "tokenizer = BertTokenizer.from_pretrained(bert_model_name)\n",
    "dataset = HotpotDataset(items, transform=BertIdx(tokenizer))"
   ]
  },
  {
   "cell_type": "code",
   "execution_count": 9,
   "metadata": {},
   "outputs": [
    {
     "data": {
      "text/plain": [
       "dict_keys(['DID', 'SID', 'QTEXT', 'sentence', 'label', 'input_ids', 'token_type_ids', 'attention_mask'])"
      ]
     },
     "execution_count": 9,
     "metadata": {},
     "output_type": "execute_result"
    }
   ],
   "source": [
    "dataset[0].keys()"
   ]
  },
  {
   "cell_type": "code",
   "execution_count": 10,
   "metadata": {},
   "outputs": [
    {
     "data": {
      "text/plain": [
       "56"
      ]
     },
     "execution_count": 10,
     "metadata": {},
     "output_type": "execute_result"
    }
   ],
   "source": [
    "len(dataset[0]['input_ids'])"
   ]
  },
  {
   "cell_type": "code",
   "execution_count": 11,
   "metadata": {},
   "outputs": [
    {
     "data": {
      "text/plain": [
       "34"
      ]
     },
     "execution_count": 11,
     "metadata": {},
     "output_type": "execute_result"
    }
   ],
   "source": [
    "len(dataset[1]['input_ids'])"
   ]
  },
  {
   "cell_type": "code",
   "execution_count": 12,
   "metadata": {},
   "outputs": [
    {
     "data": {
      "text/plain": [
       "47988"
      ]
     },
     "execution_count": 12,
     "metadata": {},
     "output_type": "execute_result"
    }
   ],
   "source": [
    "len(dataset)"
   ]
  },
  {
   "cell_type": "code",
   "execution_count": 13,
   "metadata": {},
   "outputs": [
    {
     "data": {
      "text/plain": [
       "<fgc_support_retri.fgc_preprocess.HotpotDataset at 0x7fb17a230d90>"
      ]
     },
     "execution_count": 13,
     "metadata": {},
     "output_type": "execute_result"
    }
   ],
   "source": [
    "dataset"
   ]
  },
  {
   "cell_type": "code",
   "execution_count": 15,
   "metadata": {},
   "outputs": [],
   "source": [
    "# dataloader_train = DataLoader(dataset, batch_size=32, collate_fn=bert_collate)\n",
    "# for batch in dataloader_train:\n",
    "#     print(batch)\n",
    "#     import pdb; pdb.set_trace()"
   ]
  },
  {
   "cell_type": "code",
   "execution_count": null,
   "metadata": {},
   "outputs": [],
   "source": []
  }
 ],
 "metadata": {
  "kernelspec": {
   "display_name": "Python 3",
   "language": "python",
   "name": "python3"
  },
  "language_info": {
   "codemirror_mode": {
    "name": "ipython",
    "version": 3
   },
   "file_extension": ".py",
   "mimetype": "text/x-python",
   "name": "python",
   "nbconvert_exporter": "python",
   "pygments_lexer": "ipython3",
   "version": "3.7.4"
  }
 },
 "nbformat": 4,
 "nbformat_minor": 4
}
