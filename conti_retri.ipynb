{
 "cells": [
  {
   "cell_type": "code",
   "execution_count": 1,
   "metadata": {},
   "outputs": [
    {
     "data": {
      "text/plain": [
       "'/work'"
      ]
     },
     "execution_count": 1,
     "metadata": {},
     "output_type": "execute_result"
    }
   ],
   "source": [
    "import os\n",
    "import sys\n",
    "import json\n",
    "\n",
    "w_dir = %pwd\n",
    "work_dir = os.path.dirname(w_dir)\n",
    "work_dir"
   ]
  },
  {
   "cell_type": "code",
   "execution_count": 2,
   "metadata": {},
   "outputs": [
    {
     "name": "stderr",
     "output_type": "stream",
     "text": [
      "I0405 13:13:16.141911 139978298066752 file_utils.py:39] PyTorch version 1.1.0 available.\n"
     ]
    }
   ],
   "source": [
    "sys.path.append(w_dir+'/fgc_support_retri')\n",
    "from fgc_support_retri.train import *\n",
    "from fgc_support_retri.utils import *"
   ]
  },
  {
   "cell_type": "code",
   "execution_count": 3,
   "metadata": {},
   "outputs": [],
   "source": [
    "def get_target_s(sp_list, s_len, window=2, bidirectional=False):\n",
    "    \n",
    "    def is_single(sp_i, sp_list):\n",
    "        if ((sp_i-1) in sp_list and (sp_i+1) in sp_list):\n",
    "            return False\n",
    "        else:\n",
    "            return True\n",
    "    \n",
    "    out = []\n",
    "    \n",
    "    for sp_i in sp_list:\n",
    "        if is_single(sp_i, sp_list):\n",
    "            if bidirectional:\n",
    "                for t_i in range(max(sp_i-window, 0), min(sp_i+window+1, s_len)):\n",
    "                    if t_i not in sp_list:\n",
    "                        out.append((sp_i, t_i))\n",
    "            else:\n",
    "                for t_i in range(max(sp_i-window, 0), sp_i):\n",
    "                    if t_i not in sp_list:\n",
    "                        out.append((sp_i, t_i))\n",
    "    return out"
   ]
  },
  {
   "cell_type": "code",
   "execution_count": 4,
   "metadata": {},
   "outputs": [
    {
     "data": {
      "text/plain": [
       "[(1, 0), (2, 0), (5, 3), (5, 4), (6, 4), (10, 8), (10, 9)]"
      ]
     },
     "execution_count": 4,
     "metadata": {},
     "output_type": "execute_result"
    }
   ],
   "source": [
    "get_target_s([1,2,5,6,10], 1000000000000000)"
   ]
  },
  {
   "cell_type": "code",
   "execution_count": 26,
   "metadata": {},
   "outputs": [],
   "source": [
    "data = json_load('prediction/ematch+sf_test.json')"
   ]
  },
  {
   "cell_type": "code",
   "execution_count": 27,
   "metadata": {},
   "outputs": [
    {
     "data": {
      "text/plain": [
       "{'QID': 'D033Q02',\n",
       " 'QTYPE': '進階題',\n",
       " 'ATYPE': 'Object',\n",
       " 'AMODE': ['Single-Span-Extraction'],\n",
       " 'QTEXT': '「北美自由貿易協議2.0」的英文簡稱為何?',\n",
       " 'QTEXT_CN': '「北美自由贸易协议2.0」的英文简称为何?',\n",
       " 'SENTS': [{'text': '「北美自由贸易协议2.0」的英文简称为何?',\n",
       "   'start': 0,\n",
       "   'end': 21,\n",
       "   'IE': {'NER': [{'id': 'D0-S0-M0',\n",
       "      'string': '北美',\n",
       "      'type': 'LOC',\n",
       "      'char_b': 1,\n",
       "      'char_e': 3},\n",
       "     {'id': 'D0-S0-M1',\n",
       "      'string': '2.0',\n",
       "      'type': 'NUMBER',\n",
       "      'char_b': 9,\n",
       "      'char_e': 12},\n",
       "     {'id': 'D0-S0-M2',\n",
       "      'string': '英文',\n",
       "      'type': 'DEMONYM',\n",
       "      'char_b': 14,\n",
       "      'char_e': 16}],\n",
       "    'COREF': {},\n",
       "    'RELATION': [],\n",
       "    'TOKEN': [{'word': '「', 'char_b': 0, 'char_e': 1, 'pos': 'PU'},\n",
       "     {'word': '北美', 'char_b': 1, 'char_e': 3, 'pos': 'NR'},\n",
       "     {'word': '自由', 'char_b': 3, 'char_e': 5, 'pos': 'JJ'},\n",
       "     {'word': '贸易', 'char_b': 5, 'char_e': 7, 'pos': 'NN'},\n",
       "     {'word': '协议', 'char_b': 7, 'char_e': 9, 'pos': 'NN'},\n",
       "     {'word': '2.0', 'char_b': 9, 'char_e': 12, 'pos': 'CD'},\n",
       "     {'word': '」', 'char_b': 12, 'char_e': 13, 'pos': 'PU'},\n",
       "     {'word': '的', 'char_b': 13, 'char_e': 14, 'pos': 'DEC'},\n",
       "     {'word': '英文', 'char_b': 14, 'char_e': 16, 'pos': 'NN'},\n",
       "     {'word': '简称', 'char_b': 16, 'char_e': 18, 'pos': 'NN'},\n",
       "     {'word': '为何', 'char_b': 18, 'char_e': 20, 'pos': 'AD'},\n",
       "     {'word': '?', 'char_b': 20, 'char_e': 21, 'pos': 'PU'}]}}],\n",
       " 'SHINT': [0, 2],\n",
       " 'ANSWER': [{'ATEXT': 'USMCA',\n",
       "   'ATEXT_CN': 'USMCA',\n",
       "   'ATOKEN': [{'text': 'USMCA', 'text_cn': 'USMCA', 'start': 63, 'end': 68}]}],\n",
       " 'ASPAN': [{'text': '北美自由贸易协议2.0', 'start': 209, 'end': 220},\n",
       "  {'text': 'USMCA', 'start': 63, 'end': 68},\n",
       "  {'text': '《美国－墨西哥－加拿大协议》', 'start': 0, 'end': 14},\n",
       "  {'text': '它', 'start': 203, 'end': 204},\n",
       "  {'text': '称为', 'start': 206, 'end': 208}],\n",
       " 'answer_sp': [0],\n",
       " 'sp': [0, 2],\n",
       " 'sp_scores': [0.5758741497993469,\n",
       "  0.0011936561204493046,\n",
       "  0.9197339415550232,\n",
       "  0.2197505086660385,\n",
       "  0.002392697148025036,\n",
       "  0.0023336000740528107,\n",
       "  0.001696522580459714,\n",
       "  0.001223769853822887,\n",
       "  0.0010844665812328458,\n",
       "  0.03479605168104172,\n",
       "  0.0009576200391165912,\n",
       "  0.005684820003807545,\n",
       "  0.0005546147003769875,\n",
       "  0.0012737164506688714,\n",
       "  0.0012830030173063278,\n",
       "  0.0007960697403177619]}"
      ]
     },
     "execution_count": 27,
     "metadata": {},
     "output_type": "execute_result"
    }
   ],
   "source": [
    "data[18]['QUESTIONS'][0]"
   ]
  },
  {
   "cell_type": "code",
   "execution_count": 28,
   "metadata": {},
   "outputs": [
    {
     "data": {
      "text/plain": [
       "193"
      ]
     },
     "execution_count": 28,
     "metadata": {},
     "output_type": "execute_result"
    }
   ],
   "source": [
    "len(data)"
   ]
  },
  {
   "cell_type": "code",
   "execution_count": 53,
   "metadata": {},
   "outputs": [],
   "source": [
    "miss_t_proportion = 0 \n",
    "hit_t_proportion = 0\n",
    "miss_s_proportion = 0\n",
    "all_hit_proportion = 0\n",
    "d_len = 0\n",
    "\n",
    "window = 3\n",
    "bidirectional = True\n",
    "\n",
    "for d in data:\n",
    "    for q in d['QUESTIONS']:\n",
    "        shint_len = len(q['SHINT']) \n",
    "        if shint_len == 0:\n",
    "            q['miss_t'] = set()\n",
    "            continue\n",
    "        \n",
    "        hit_s = 0\n",
    "        miss_s = 0\n",
    "        miss_t = 0\n",
    "        hit_s_t = 0\n",
    "        \n",
    "        hit_s_list = []\n",
    "        for sp_i in q['sp']:\n",
    "            if sp_i in q['SHINT']:\n",
    "                hit_s += 1\n",
    "                hit_s_list.append(sp_i)\n",
    "            else:\n",
    "                miss_s += 1\n",
    "                \n",
    "        targets = get_target_s(q['sp'], len(d['SENTS']), window=window, bidirectional=bidirectional)\n",
    "        targets_hit_s_t = get_target_s(hit_s_list, len(d['SENTS']), window=window, bidirectional=bidirectional)\n",
    "        \n",
    "        hit_t_set = set()\n",
    "        for t in targets:\n",
    "            if t[1] in q['SHINT']:\n",
    "                hit_t_set.add(t[1])\n",
    "                \n",
    "        hit_s_t_set = set()\n",
    "        for t in targets_hit_s_t:\n",
    "            if t[1] in q['SHINT']:\n",
    "                hit_s_t_set.add(t[1])\n",
    "                \n",
    "                \n",
    "        target_set = set([t[1] for t in targets])\n",
    "\n",
    "        miss_t_set = set(q['SHINT']) - set(q['sp']) - target_set\n",
    "        miss_t = len(miss_t_set)\n",
    "        q['miss_t'] = miss_t_set\n",
    "        \n",
    "        require_sp_len = len(set(q['SHINT']) - set(q['sp']) )\n",
    "        if require_sp_len == 0:\n",
    "            continue\n",
    "            \n",
    "        d_len += 1\n",
    "        \n",
    "        miss_t_proportion += miss_t / require_sp_len\n",
    "        hit_t_proportion += len(hit_t_set) / require_sp_len\n",
    "        miss_s_proportion += miss_s / shint_len\n",
    "        all_hit_proportion += len(hit_s_t_set) / require_sp_len"
   ]
  },
  {
   "cell_type": "code",
   "execution_count": 54,
   "metadata": {},
   "outputs": [
    {
     "data": {
      "text/plain": [
       "104"
      ]
     },
     "execution_count": 54,
     "metadata": {},
     "output_type": "execute_result"
    }
   ],
   "source": [
    "d_len"
   ]
  },
  {
   "cell_type": "code",
   "execution_count": 55,
   "metadata": {},
   "outputs": [
    {
     "data": {
      "text/plain": [
       "0.24342948717948715"
      ]
     },
     "execution_count": 55,
     "metadata": {},
     "output_type": "execute_result"
    }
   ],
   "source": [
    "miss_t_proportion / d_len"
   ]
  },
  {
   "cell_type": "code",
   "execution_count": 56,
   "metadata": {},
   "outputs": [
    {
     "data": {
      "text/plain": [
       "0.7565705128205127"
      ]
     },
     "execution_count": 56,
     "metadata": {},
     "output_type": "execute_result"
    }
   ],
   "source": [
    "hit_t_proportion / d_len"
   ]
  },
  {
   "cell_type": "code",
   "execution_count": 57,
   "metadata": {},
   "outputs": [
    {
     "data": {
      "text/plain": [
       "0.5976877289377289"
      ]
     },
     "execution_count": 57,
     "metadata": {},
     "output_type": "execute_result"
    }
   ],
   "source": [
    "miss_s_proportion / d_len"
   ]
  },
  {
   "cell_type": "code",
   "execution_count": 58,
   "metadata": {},
   "outputs": [
    {
     "data": {
      "text/plain": [
       "0.6533653846153845"
      ]
     },
     "execution_count": 58,
     "metadata": {},
     "output_type": "execute_result"
    }
   ],
   "source": [
    "all_hit_proportion / d_len"
   ]
  },
  {
   "cell_type": "code",
   "execution_count": 52,
   "metadata": {},
   "outputs": [
    {
     "name": "stderr",
     "output_type": "stream",
     "text": [
      "100%|██████████| 193/193 [00:00<00:00, 91026.73it/s]"
     ]
    },
    {
     "name": "stdout",
     "output_type": "stream",
     "text": [
      "D003Q06\n",
      "D033Q10\n",
      "D033Q13\n",
      "D039Q04\n",
      "D039Q05\n",
      "D039Q06\n",
      "D039Q08\n",
      "D069Q03\n",
      "D069Q06\n",
      "D087Q01\n",
      "D087Q02\n",
      "D093Q04\n",
      "D093Q07\n",
      "D105Q01\n",
      "D105Q02\n",
      "D105Q10\n",
      "D117Q01\n",
      "D183Q01\n",
      "D201Q02\n",
      "D201Q04\n",
      "D201Q05\n",
      "D249Q02\n",
      "D249Q03\n",
      "D249Q04\n",
      "D255Q05\n",
      "D255Q06\n",
      "D255Q08\n",
      "D255Q10\n",
      "D261Q06\n",
      "D267Q03\n",
      "D285Q05\n",
      "D303Q01\n",
      "D309Q04\n",
      "D309Q05\n",
      "D309Q06\n",
      "D315Q01\n",
      "D315Q02\n",
      "D315Q07\n",
      "D315Q08\n"
     ]
    },
    {
     "name": "stderr",
     "output_type": "stream",
     "text": [
      "\n"
     ]
    }
   ],
   "source": [
    "for d in tqdm(data):\n",
    "    for q in d['QUESTIONS']:\n",
    "        if q['miss_t']:\n",
    "            print(q['QID'])"
   ]
  },
  {
   "cell_type": "code",
   "execution_count": 41,
   "metadata": {},
   "outputs": [
    {
     "data": {
      "text/plain": [
       "set()"
      ]
     },
     "execution_count": 41,
     "metadata": {},
     "output_type": "execute_result"
    }
   ],
   "source": [
    "data[1]['QUESTIONS'][0]['miss_t']"
   ]
  },
  {
   "cell_type": "code",
   "execution_count": null,
   "metadata": {},
   "outputs": [],
   "source": []
  }
 ],
 "metadata": {
  "kernelspec": {
   "display_name": "Python 3",
   "language": "python",
   "name": "python3"
  },
  "language_info": {
   "codemirror_mode": {
    "name": "ipython",
    "version": 3
   },
   "file_extension": ".py",
   "mimetype": "text/x-python",
   "name": "python",
   "nbconvert_exporter": "python",
   "pygments_lexer": "ipython3",
   "version": "3.6.8"
  }
 },
 "nbformat": 4,
 "nbformat_minor": 4
}
