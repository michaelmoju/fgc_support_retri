{
 "cells": [
  {
   "cell_type": "code",
   "execution_count": 1,
   "metadata": {},
   "outputs": [
    {
     "data": {
      "text/plain": [
       "'/media/moju/data/work'"
      ]
     },
     "execution_count": 1,
     "metadata": {},
     "output_type": "execute_result"
    }
   ],
   "source": [
    "import os\n",
    "import sys\n",
    "import json\n",
    "\n",
    "w_dir = %pwd\n",
    "work_dir = os.path.dirname(w_dir)\n",
    "work_dir"
   ]
  },
  {
   "cell_type": "code",
   "execution_count": 2,
   "metadata": {},
   "outputs": [],
   "source": [
    "sys.path.append(w_dir+'/fgc_support_retri')"
   ]
  },
  {
   "cell_type": "code",
   "execution_count": 3,
   "metadata": {},
   "outputs": [],
   "source": [
    "import config\n",
    "from utils import read_fgc"
   ]
  },
  {
   "cell_type": "code",
   "execution_count": 4,
   "metadata": {},
   "outputs": [
    {
     "name": "stdout",
     "output_type": "stream",
     "text": [
      "247\n",
      "no gold supporting evidence\n",
      "{'QID': 'D001Q11', 'QTYPE': '申論', 'ATYPE': 'Event', 'AMODE': ['Single-Span-Extraction'], 'QTEXT': '蘇東坡為何被後人認為是文學藝術史上的通才?', 'QTEXT_CN': '苏东坡为何被后人认为是文学艺术史上的通才?', 'SENTS': [{'text': '苏东坡为何被后人认为是文学艺术史上的通才?', 'start': 0, 'end': 21}]}\n",
      "no gold supporting evidence\n",
      "{'QID': 'D049Q04', 'QTYPE': '申論', 'ATYPE': 'Event', 'AMODE': ['Single-Span-Extraction'], 'QTEXT': '「雅婷逐字稿」的命名起源為何?', 'QTEXT_CN': '「雅婷逐字稿」的命名起源为何?', 'SENTS': [{'text': '「雅婷逐字稿」的命名起源为何?', 'start': 0, 'end': 15}]}\n",
      "no gold supporting evidence\n",
      "{'QID': 'D073Q12', 'QTYPE': '申論', 'ATYPE': 'Object', 'AMODE': ['Single-Span-Extraction'], 'QTEXT': '台灣對於鯨鯊保育做了哪些努力?', 'QTEXT_CN': '台湾对于鲸鲨保育做了哪些努力?', 'SENTS': [{'text': '台湾对于鲸鲨保育做了哪些努力?', 'start': 0, 'end': 15}]}\n",
      "no gold supporting evidence\n",
      "{'QID': 'D103Q07', 'QTYPE': '申論', 'ATYPE': 'Kinship', 'AMODE': ['Kinship'], 'QTEXT': '什麼是「325停課標準」?', 'QTEXT_CN': '什么是「325停课标准」?', 'SENTS': [{'text': '什么是「325停课标准」?', 'start': 0, 'end': 13}]}\n",
      "no gold supporting evidence\n",
      "{'QID': 'D289Q07', 'QTYPE': '申論', 'ATYPE': 'Kinship', 'AMODE': ['Kinship'], 'QTEXT': '人類藉由普羅米修斯認識了火，發現它不但會發熱發光，還可以做哪些事？', 'QTEXT_CN': '人类借由普罗米修斯认识了火，发现它不但会发热发光，还可以做哪些事？', 'SENTS': [{'text': '人类借由普罗米修斯认识了火，', 'start': 0, 'end': 14}, {'text': '发现它不但会发热发光，', 'start': 14, 'end': 25}, {'text': '还可以做哪些事？', 'start': 25, 'end': 33}]}\n",
      "247 documents\n",
      "8945 sentences\n",
      "36.21457489878542 sentences/document\n",
      "17.00167691447736 characters/sentence\n",
      "242 questions\n",
      "623 supporting evidence sentences\n",
      "2.574380165289256 supporting evidence sentences/question\n"
     ]
    }
   ],
   "source": [
    "data = read_fgc(config.FGC_DEV, eval=True)"
   ]
  },
  {
   "cell_type": "code",
   "execution_count": null,
   "metadata": {},
   "outputs": [],
   "source": []
  }
 ],
 "metadata": {
  "kernelspec": {
   "display_name": "Python 3",
   "language": "python",
   "name": "python3"
  },
  "language_info": {
   "codemirror_mode": {
    "name": "ipython",
    "version": 3
   },
   "file_extension": ".py",
   "mimetype": "text/x-python",
   "name": "python",
   "nbconvert_exporter": "python",
   "pygments_lexer": "ipython3",
   "version": "3.7.4"
  }
 },
 "nbformat": 4,
 "nbformat_minor": 4
}
