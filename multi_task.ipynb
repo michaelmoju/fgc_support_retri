{
 "cells": [
  {
   "cell_type": "code",
   "execution_count": 1,
   "metadata": {},
   "outputs": [
    {
     "data": {
      "text/plain": [
       "'/media/moju/data/work'"
      ]
     },
     "execution_count": 1,
     "metadata": {},
     "output_type": "execute_result"
    }
   ],
   "source": [
    "import os\n",
    "import sys\n",
    "import json\n",
    "\n",
    "w_dir = %pwd\n",
    "work_dir = os.path.dirname(w_dir)\n",
    "work_dir"
   ]
  },
  {
   "cell_type": "code",
   "execution_count": 2,
   "metadata": {},
   "outputs": [],
   "source": [
    "sys.path.append(w_dir+'/fgc_support_retri')"
   ]
  },
  {
   "cell_type": "code",
   "execution_count": 3,
   "metadata": {},
   "outputs": [],
   "source": [
    "import config\n",
    "from utils import read_fgc, json_load"
   ]
  },
  {
   "cell_type": "code",
   "execution_count": 4,
   "metadata": {},
   "outputs": [],
   "source": [
    "atypes = ['Person', 'Date-Duration', 'Location', 'Organization', 'Num-Measure', 'YesNo', 'Kinship', 'Event', 'Object', 'Misc']"
   ]
  },
  {
   "cell_type": "code",
   "execution_count": 6,
   "metadata": {},
   "outputs": [
    {
     "name": "stdout",
     "output_type": "stream",
     "text": [
      "25\n",
      "no gold supporting evidence\n",
      "{'QID': 'D032Q10', 'QTYPE': '进阶题', 'QTEXT': '第二次簽訂的北美貿易協定從簽署至生效過了幾日?', 'SENTS': [{'text': '第二次签订的北美贸易协定从签署至生效过了几日?', 'start': 0, 'end': 23}], 'ANSWER': [{'ATEXT': '資訊不足無法判定', 'ATOKEN': [{'text': '资讯不足无法判定', 'start': -1}], 'ATEXT_CN': '资讯不足无法判定'}], 'ATYPE': 'Date-Duration', 'AMODE': 'Date-Duration', 'ASPAN': [], 'SHINT': [], 'QTEXT_CN': '第二次签订的北美贸易协定从签署至生效过了几日?'}\n",
      "no gold supporting evidence\n",
      "{'QID': 'D049Q04', 'QTYPE': '申论', 'QTEXT': '「雅婷逐字稿」的命名起源為何?', 'SENTS': [{'text': '「雅婷逐字稿」的命名起源为何?', 'start': 0, 'end': 15}], 'ANSWER': [{'ATEXT': '', 'ATOKEN': [{'text': '', 'start': 0}], 'ATEXT_CN': ''}], 'ATYPE': 'Event', 'AMODE': 'Single-Span-Extraction', 'ASPAN': [], 'SHINT': [], 'QTEXT_CN': '「雅婷逐字稿」的命名起源为何?'}\n",
      "no gold supporting evidence\n",
      "{'QID': 'D086Q03', 'QTYPE': '申论', 'QTEXT': '不可再生能源的意義是什麼？', 'SENTS': [{'text': '不可再生能源的意义是什么？', 'start': 0, 'end': 13}], 'ANSWER': [{'ATEXT': '', 'ATOKEN': [{'text': '', 'start': 0}], 'ATEXT_CN': ''}], 'ATYPE': 'Object', 'AMODE': 'Single-Span-Extraction', 'ASPAN': [], 'SHINT': [], 'QTEXT_CN': '不可再生能源的意义是什么？'}\n",
      "no gold supporting evidence\n",
      "{'QID': 'D322Q07', 'QTYPE': '申论', 'QTEXT': '要如何降低腸病毒的傳播風險？', 'SENTS': [{'text': '要如何降低肠病毒的传播风险？', 'start': 0, 'end': 14}], 'ANSWER': [{'ATEXT': '', 'ATOKEN': [{'text': '', 'start': 0}], 'ATEXT_CN': ''}], 'ATYPE': 'Kinship', 'AMODE': 'Kinship', 'ASPAN': [], 'SHINT': [], 'QTEXT_CN': '要如何降低肠病毒的传播风险？'}\n"
     ]
    }
   ],
   "source": [
    "data = read_fgc(config.FGC_DEV)"
   ]
  },
  {
   "cell_type": "code",
   "execution_count": 7,
   "metadata": {},
   "outputs": [
    {
     "data": {
      "text/plain": [
       "{'QID': 'D004Q01',\n",
       " 'SENTS': [{'text': '元祐元年（1086年），', 'start': 0, 'end': 12},\n",
       "  {'text': '宋哲宗即位，', 'start': 12, 'end': 18},\n",
       "  {'text': '高太皇太后垂帘听政，', 'start': 18, 'end': 28},\n",
       "  {'text': '回朝任礼部郎中、中书舍人、翰林学士，', 'start': 28, 'end': 46},\n",
       "  {'text': '元祐四年（1089年）拜龙图阁学士，', 'start': 46, 'end': 64},\n",
       "  {'text': '曾出任杭州、颍州等知州职务，', 'start': 64, 'end': 78},\n",
       "  {'text': '官至礼部尚书。', 'start': 78, 'end': 85},\n",
       "  {'text': '\\n绍圣元年（1094年）被哲宗贬谪至惠州、儋州（海南岛）。', 'start': 85, 'end': 114},\n",
       "  {'text': '\\n元符三年（1100年），', 'start': 114, 'end': 127},\n",
       "  {'text': '宋徽宗即位，', 'start': 127, 'end': 133},\n",
       "  {'text': '向太后垂帘听政，', 'start': 133, 'end': 141},\n",
       "  {'text': '下诏让苏轼北还。', 'start': 141, 'end': 149},\n",
       "  {'text': '\\n建中靖国元年（1101年），', 'start': 149, 'end': 164},\n",
       "  {'text': '夏天因冷饮过度，', 'start': 164, 'end': 172},\n",
       "  {'text': '下痢不止，又误服黄芪，', 'start': 172, 'end': 183},\n",
       "  {'text': '结果病情恶化，', 'start': 183, 'end': 190},\n",
       "  {'text': '「齿间出血如蚯蚓者无数」，', 'start': 190, 'end': 203},\n",
       "  {'text': '七月二十八日于常州孙氏馆病卒，', 'start': 203, 'end': 218},\n",
       "  {'text': '享年六十四岁。', 'start': 218, 'end': 225},\n",
       "  {'text': '由弟苏辙归葬于郏县小峨眉山。', 'start': 225, 'end': 239},\n",
       "  {'text': '南宋宋孝宗追赠谥号「文忠」。', 'start': 239, 'end': 253},\n",
       "  {'text': '\\n苏轼疲于应付新旧党争，', 'start': 253, 'end': 265},\n",
       "  {'text': '遇事「如食内有蝇，吐之乃已」，', 'start': 265, 'end': 280},\n",
       "  {'text': '苏轼既反对王安石比较急进的改革措施，', 'start': 280, 'end': 298},\n",
       "  {'text': '也不同意旧党司马光尽废新法，', 'start': 298, 'end': 312},\n",
       "  {'text': '所以虽然新党一直称苏轼为旧党，', 'start': 312, 'end': 327},\n",
       "  {'text': '但其实他在新旧两党之间均受排斥，', 'start': 327, 'end': 343},\n",
       "  {'text': '仕途坎坷，时常远贬外方，', 'start': 343, 'end': 355},\n",
       "  {'text': '不过他在各地居官清正，', 'start': 355, 'end': 366},\n",
       "  {'text': '为民兴利除弊，', 'start': 366, 'end': 373},\n",
       "  {'text': '政绩颇善，口碑甚佳，', 'start': 373, 'end': 383},\n",
       "  {'text': '杭州西湖的苏堤就是实证。', 'start': 383, 'end': 395}],\n",
       " 'SUP_EVIDENCE': [1, 3, 4, 5, 6],\n",
       " 'QTEXT': '蘇東坡在宋哲宗時期,曾出任過哪些官職?',\n",
       " 'ANS': '禮部郎中、中書舍人、翰林學士、龍圖閣學士、知州與禮部尚書',\n",
       " 'ATYPE': 'Organization'}"
      ]
     },
     "execution_count": 7,
     "metadata": {},
     "output_type": "execute_result"
    }
   ],
   "source": [
    "data[0]"
   ]
  },
  {
   "cell_type": "code",
   "execution_count": null,
   "metadata": {},
   "outputs": [],
   "source": []
  }
 ],
 "metadata": {
  "kernelspec": {
   "display_name": "Python 3",
   "language": "python",
   "name": "python3"
  },
  "language_info": {
   "codemirror_mode": {
    "name": "ipython",
    "version": 3
   },
   "file_extension": ".py",
   "mimetype": "text/x-python",
   "name": "python",
   "nbconvert_exporter": "python",
   "pygments_lexer": "ipython3",
   "version": "3.7.4"
  }
 },
 "nbformat": 4,
 "nbformat_minor": 4
}
