{
 "cells": [
  {
   "cell_type": "code",
   "execution_count": 1,
   "metadata": {},
   "outputs": [
    {
     "data": {
      "text/plain": [
       "'/work'"
      ]
     },
     "execution_count": 1,
     "metadata": {},
     "output_type": "execute_result"
    }
   ],
   "source": [
    "import os\n",
    "import sys\n",
    "import json\n",
    "\n",
    "w_dir = %pwd\n",
    "work_dir = os.path.dirname(w_dir)\n",
    "work_dir"
   ]
  },
  {
   "cell_type": "code",
   "execution_count": 2,
   "metadata": {},
   "outputs": [],
   "source": [
    "sys.path.append(w_dir+'/fgc_support_retri')\n",
    "from fgc_support_retri.utils import *\n",
    "from fgc_support_retri import config"
   ]
  },
  {
   "cell_type": "code",
   "execution_count": 3,
   "metadata": {},
   "outputs": [],
   "source": [
    "data = json_load(config.FGC_TRAIN)"
   ]
  },
  {
   "cell_type": "code",
   "execution_count": 18,
   "metadata": {},
   "outputs": [],
   "source": [
    "def get_fold_datas(data, fold):\n",
    "    fold_len = int(len(data)/fold)\n",
    "    fold_datas = []\n",
    "    for i in range(fold):\n",
    "        if i == fold-1:\n",
    "            fold_data = data[fold_len*i:]\n",
    "        else:\n",
    "            fold_data = data[fold_len*i:fold_len * (i+1)]\n",
    "        fold_datas.append(fold_data)\n",
    "    return fold_datas"
   ]
  },
  {
   "cell_type": "code",
   "execution_count": 19,
   "metadata": {},
   "outputs": [],
   "source": [
    "fold_datas = get_fold_datas(data, 10)"
   ]
  },
  {
   "cell_type": "code",
   "execution_count": 20,
   "metadata": {},
   "outputs": [],
   "source": [
    "from fgc_support_retri.train import *\n",
    "\n",
    "def train_entity_match_model(num_epochs, batch_size, model_file_name, train_documents):\n",
    "    dataset_reader = CrossSentDataset\n",
    "    \n",
    "    tokenizer = BertTokenizer.from_pretrained(bert_model_name)\n",
    "    pretrained_bert = BertModel.from_pretrained(bert_model_name)\n",
    "    pretrained_bert.eval()\n",
    "    \n",
    "    model = EntityMatchModel.from_pretrained(bert_model_name)\n",
    "    \n",
    "    collate_fn = Sent_collate\n",
    "    indexer = SentIdx(tokenizer, pretrained_bert)\n",
    "    input_names = ['input_ids', 'token_type_ids', 'attention_mask',\n",
    "                   'tf_type', 'idf_type', 'sf_score', 'atype_ent_match', 'label']\n",
    "    trainer = SER_Trainer(model, collate_fn, indexer, dataset_reader, input_names)\n",
    "    trainer.train(num_epochs, batch_size, model_file_name, train_documents)"
   ]
  },
  {
   "cell_type": "code",
   "execution_count": null,
   "metadata": {},
   "outputs": [],
   "source": [
    "for i, train_documents in enumerate(fold_datas):\n",
    "    train_entity_match_model(10, 12, \"fold_{}_entity_match\".format(i), train_documents)"
   ]
  }
 ],
 "metadata": {
  "kernelspec": {
   "display_name": "Python 3",
   "language": "python",
   "name": "python3"
  },
  "language_info": {
   "codemirror_mode": {
    "name": "ipython",
    "version": 3
   },
   "file_extension": ".py",
   "mimetype": "text/x-python",
   "name": "python",
   "nbconvert_exporter": "python",
   "pygments_lexer": "ipython3",
   "version": "3.6.8"
  }
 },
 "nbformat": 4,
 "nbformat_minor": 4
}
