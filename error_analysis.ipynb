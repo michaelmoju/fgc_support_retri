{
 "cells": [
  {
   "cell_type": "code",
   "execution_count": 1,
   "metadata": {},
   "outputs": [
    {
     "data": {
      "text/plain": [
       "'/work'"
      ]
     },
     "execution_count": 1,
     "metadata": {},
     "output_type": "execute_result"
    }
   ],
   "source": [
    "import os\n",
    "import sys\n",
    "import json\n",
    "\n",
    "w_dir = %pwd\n",
    "work_dir = os.path.dirname(w_dir)\n",
    "work_dir"
   ]
  },
  {
   "cell_type": "code",
   "execution_count": 2,
   "metadata": {},
   "outputs": [],
   "source": [
    "sys.path.append(w_dir+'/fgc_support_retri')\n",
    "from fgc_support_retri.utils import *\n",
    "from fgc_support_retri import config"
   ]
  },
  {
   "cell_type": "code",
   "execution_count": 9,
   "metadata": {},
   "outputs": [],
   "source": [
    "def print_sent_ie(sp_i, d):\n",
    "    print(\"sentence{}\".format(sp_i))\n",
    "    print(d['SENTS'][sp_i])\n",
    "    for e in d['DIE']['NER']:\n",
    "        if  d['SENTS'][sp_i]['start'] <= e['char_b'] and e['char_e'] <= d['SENTS'][sp_i]['end']:\n",
    "            print(e)"
   ]
  },
  {
   "cell_type": "code",
   "execution_count": 10,
   "metadata": {},
   "outputs": [],
   "source": [
    "data = json_load(\"sp_pred.json\")"
   ]
  },
  {
   "cell_type": "code",
   "execution_count": 15,
   "metadata": {},
   "outputs": [
    {
     "name": "stdout",
     "output_type": "stream",
     "text": [
      "D003Q03\n",
      "在「乌台诗案」中，有哪些人出面救了苏东坡？\n",
      "atype:Person\n",
      "SHINT:[19, 20, 21]\n",
      "sp:[15, 20]\n",
      "sentence15\n",
      "{'text': '苏轼参加救灾。', 'start': 197, 'end': 204}\n",
      "sentence16\n",
      "{'text': '\\n元丰二年（1079年），', 'start': 204, 'end': 217}\n",
      "{'id': 'D0-S3-M0', 'string': '元丰', 'type': 'MISC', 'char_b': 205, 'char_e': 207}\n",
      "{'id': 'D0-S3-M1', 'string': '二年', 'type': 'DATE', 'char_b': 207, 'char_e': 209}\n",
      "{'id': 'D0-S3-M2', 'string': '1079年', 'type': 'DATE', 'char_b': 210, 'char_e': 215}\n",
      "sentence17\n",
      "{'text': '四十三岁时，', 'start': 217, 'end': 223}\n",
      "{'id': 'D0-S3-M3', 'string': '四十三', 'type': 'NUMBER', 'char_b': 217, 'char_e': 220}\n",
      "{'id': 'D0-S3-M4', 'string': '岁', 'type': 'MISC', 'char_b': 220, 'char_e': 221}\n",
      "sentence18\n",
      "{'text': '因乌台诗案入狱，', 'start': 223, 'end': 231}\n",
      "sentence19\n",
      "{'text': '几死，因为写文章向朝廷诀别，', 'start': 231, 'end': 245}\n",
      "{'id': 'D0-S3-M5', 'string': '几', 'type': 'NUMBER', 'char_b': 231, 'char_e': 232}\n",
      "sentence20\n",
      "{'text': '太皇太后曹氏、王安礼等人出面力挽，', 'start': 245, 'end': 262}\n",
      "{'id': 'D0-S3-M6', 'string': '王安礼', 'type': 'PER', 'char_b': 252, 'char_e': 255}\n",
      "sentence21\n",
      "{'text': '神宗动心，苏轼终免一死，', 'start': 262, 'end': 274}\n",
      "{'id': 'D0-S3-M7', 'string': '苏轼终', 'type': 'PER', 'char_b': 267, 'char_e': 270}\n",
      "{'id': 'D0-S3-M8', 'string': '一', 'type': 'NUMBER', 'char_b': 271, 'char_e': 272}\n"
     ]
    }
   ],
   "source": [
    "d = data[2]\n",
    "for q in d['QUESTIONS']:\n",
    "    print(q['QID'])\n",
    "    print(q['QTEXT_CN'])\n",
    "    print(\"atype:{}\".format(q['ATYPE']))\n",
    "    print(\"SHINT:{}\".format(q['SHINT']))\n",
    "    print(\"sp:{}\".format(q['sp']))\n",
    "    all_set = set(q['SHINT']) | set(q['sp'])\n",
    "    for sp_i in range(min(all_set), max(all_set) + 1):\n",
    "        print_sent_ie(sp_i, d)"
   ]
  },
  {
   "cell_type": "code",
   "execution_count": null,
   "metadata": {},
   "outputs": [],
   "source": []
  }
 ],
 "metadata": {
  "kernelspec": {
   "display_name": "Python 3",
   "language": "python",
   "name": "python3"
  },
  "language_info": {
   "codemirror_mode": {
    "name": "ipython",
    "version": 3
   },
   "file_extension": ".py",
   "mimetype": "text/x-python",
   "name": "python",
   "nbconvert_exporter": "python",
   "pygments_lexer": "ipython3",
   "version": "3.6.8"
  }
 },
 "nbformat": 4,
 "nbformat_minor": 4
}
