{
 "cells": [
  {
   "cell_type": "code",
   "execution_count": 1,
   "metadata": {},
   "outputs": [
    {
     "data": {
      "text/plain": [
       "'/work'"
      ]
     },
     "execution_count": 1,
     "metadata": {},
     "output_type": "execute_result"
    }
   ],
   "source": [
    "import os\n",
    "import sys\n",
    "import json\n",
    "import matplotlib.pyplot as plt\n",
    "import numpy as np\n",
    "from tqdm import tqdm_notebook as tqdm\n",
    "\n",
    "w_dir = %pwd\n",
    "work_dir = os.path.dirname(w_dir)\n",
    "work_dir"
   ]
  },
  {
   "cell_type": "code",
   "execution_count": 2,
   "metadata": {},
   "outputs": [],
   "source": [
    "sys.path.append(w_dir+'/fgc_support_retri')\n",
    "from fgc_support_retri.utils import *\n",
    "from fgc_support_retri import config\n",
    "from evaluation.eval import eval_sp_fgc, _update_sp"
   ]
  },
  {
   "cell_type": "code",
   "execution_count": 3,
   "metadata": {},
   "outputs": [],
   "source": [
    "def print_sent_ie(sp_i, d):\n",
    "    print(\"sentence{}\".format(sp_i))\n",
    "    print(d['SENTS'][sp_i]['text'])\n",
    "    for e in d['SENTS'][sp_i]['IE']['NER']:\n",
    "        print(e)"
   ]
  },
  {
   "cell_type": "code",
   "execution_count": 64,
   "metadata": {},
   "outputs": [],
   "source": [
    "def get_sent_ie(sp_i, d):\n",
    "    out_string = \"\"\n",
    "    out_string += \"sentence{}\".format(sp_i) + '\\n'\n",
    "    out_string += d['SENTS'][sp_i]['text'] + '\\n'\n",
    "    for e in d['SENTS'][sp_i]['IE']['NER']:\n",
    "        out_string += str(e) + '\\n'\n",
    "    return out_string"
   ]
  },
  {
   "cell_type": "code",
   "execution_count": 4,
   "metadata": {},
   "outputs": [],
   "source": [
    "def eval_from_threshold(data, threshold=0.5):\n",
    "    all_sp_predictions = []\n",
    "    all_items = []\n",
    "    all_answer_sp = []\n",
    "    for d in tqdm(data):\n",
    "        for q in d['QUESTIONS']:\n",
    "            if not q['SHINT']:\n",
    "                continue\n",
    "            sp_preds = []\n",
    "            max_i = 0\n",
    "            max_score = 0\n",
    "            assert len(q['sp_scores']) == len(d['SENTS'])\n",
    "            for sp_i, sp_score in enumerate(q['sp_scores']):\n",
    "                assert sp_score >= 0\n",
    "                if sp_score >= threshold:\n",
    "                    sp_preds.append(sp_i)\n",
    "                if sp_score > max_score:\n",
    "                    max_i = sp_i\n",
    "            if not sp_preds:\n",
    "                sp_preds.append(max_i)\n",
    "            q['sp'] = sp_preds\n",
    "            all_sp_predictions.append(sp_preds)\n",
    "            all_items.append(q['SHINT'])\n",
    "            all_answer_sp.append(q['answer_sp'])\n",
    "    return all_items, all_sp_predictions, all_answer_sp"
   ]
  },
  {
   "cell_type": "code",
   "execution_count": 49,
   "metadata": {},
   "outputs": [],
   "source": [
    "data = json_load(\"prediction/EM.json\")"
   ]
  },
  {
   "cell_type": "code",
   "execution_count": 50,
   "metadata": {},
   "outputs": [
    {
     "data": {
      "text/plain": [
       "193"
      ]
     },
     "execution_count": 50,
     "metadata": {},
     "output_type": "execute_result"
    }
   ],
   "source": [
    "len(data)"
   ]
  },
  {
   "cell_type": "code",
   "execution_count": 51,
   "metadata": {},
   "outputs": [
    {
     "name": "stderr",
     "output_type": "stream",
     "text": [
      "100%|██████████| 193/193 [00:00<00:00, 10516.27it/s]"
     ]
    },
    {
     "name": "stdout",
     "output_type": "stream",
     "text": [
      "{'text': '不具入侵能力但失控繁殖的细胞，称为良性肿瘤', 'start': 492, 'end': 513}\n",
      "{'text': '牠们会在夜晚成群的爬出洞穴，循著海浪的声音，利用海面光线的导引，快速的爬向大海的家', 'start': 431, 'end': 472}\n",
      "{'text': '企鹅是生长在极寒冷的冰天雪地里，被称为不会飞的鸟，牠的翅膀像鱼鳍，能跟海豚一般在碧波里游泳，', 'start': 58, 'end': 104}\n",
      "{'text': '企鹅是生长在极寒冷的冰天雪地里，被称为不会飞的鸟，牠的翅膀像鱼鳍，能跟海豚一般在碧波里游泳，却不能像海鸟一样飞翔在蔚蓝的天空。', 'start': 58, 'end': 121}\n"
     ]
    },
    {
     "name": "stderr",
     "output_type": "stream",
     "text": [
      "\n"
     ]
    }
   ],
   "source": [
    "get_SHINT(data)"
   ]
  },
  {
   "cell_type": "code",
   "execution_count": 52,
   "metadata": {},
   "outputs": [
    {
     "name": "stderr",
     "output_type": "stream",
     "text": [
      "100%|██████████| 193/193 [00:00<00:00, 20334.61it/s]\n"
     ]
    }
   ],
   "source": [
    "get_answer_sp(data, force=True)"
   ]
  },
  {
   "cell_type": "code",
   "execution_count": 53,
   "metadata": {},
   "outputs": [
    {
     "name": "stderr",
     "output_type": "stream",
     "text": [
      "100%|██████████| 193/193 [00:00<00:00, 85616.15it/s]\n"
     ]
    }
   ],
   "source": [
    "all_items, all_sp_predictions, all_answer_sp = eval_from_threshold(data, threshold=0.5)"
   ]
  },
  {
   "cell_type": "code",
   "execution_count": 54,
   "metadata": {},
   "outputs": [
    {
     "name": "stdout",
     "output_type": "stream",
     "text": [
      "{'sp_em': 0.2, 'sp_prec': 0.611, 'sp_recall': 0.592, 'sp_f1': 0.55}\n"
     ]
    }
   ],
   "source": [
    "metrics = eval_sp_fgc(all_items, all_sp_predictions)"
   ]
  },
  {
   "cell_type": "code",
   "execution_count": 55,
   "metadata": {},
   "outputs": [
    {
     "name": "stdout",
     "output_type": "stream",
     "text": [
      "{'sp_em': 0.147, 'sp_prec': 0.352, 'sp_recall': 0.546, 'sp_f1': 0.394}\n"
     ]
    }
   ],
   "source": [
    "metrics = eval_sp_fgc(all_answer_sp, all_sp_predictions)"
   ]
  },
  {
   "cell_type": "code",
   "execution_count": 56,
   "metadata": {},
   "outputs": [
    {
     "data": {
      "text/plain": [
       "190"
      ]
     },
     "execution_count": 56,
     "metadata": {},
     "output_type": "execute_result"
    }
   ],
   "source": [
    "len(all_answer_sp)"
   ]
  },
  {
   "cell_type": "code",
   "execution_count": 57,
   "metadata": {},
   "outputs": [],
   "source": [
    "def get_interval(score):\n",
    "    # get interval span\n",
    "    intervals = []\n",
    "    last = 0\n",
    "    step = 10\n",
    "    for i in range(step):\n",
    "        now = round(last+1/step, 1)\n",
    "        intervals.append((last, now))\n",
    "        last = now\n",
    "    \n",
    "    # get interv_i\n",
    "    for interv_i, interv in enumerate(intervals):\n",
    "        if interv[0] <= score < interv[1]:\n",
    "            return interv_i"
   ]
  },
  {
   "cell_type": "code",
   "execution_count": 58,
   "metadata": {},
   "outputs": [],
   "source": [
    "interv_scores_p = [0] * 10\n",
    "interv_scores_n = [0] * 10\n",
    "interv_scores_answer = [0] * 10\n",
    "interv_scores_not_answer = [0] * 10\n",
    "for document in data:\n",
    "    for question in document['QUESTIONS']:\n",
    "        if not question['SHINT']:\n",
    "            continue\n",
    "        for sent_i, sp_score in enumerate(question['sp_scores']):\n",
    "            if sent_i in question['SHINT']:\n",
    "                interv_scores_p[get_interval(sp_score)] += 1\n",
    "                if sent_i in question['answer_sp']:\n",
    "                    interv_scores_answer[get_interval(sp_score)] += 1\n",
    "                else:\n",
    "                    interv_scores_not_answer[get_interval(sp_score)] += 1\n",
    "            else:\n",
    "                interv_scores_n[get_interval(sp_score)] += 1"
   ]
  },
  {
   "cell_type": "code",
   "execution_count": 59,
   "metadata": {},
   "outputs": [],
   "source": [
    "def createLabels(data):\n",
    "    for item in data:\n",
    "        height = item.get_height()\n",
    "        plt.text(\n",
    "            item.get_x()+item.get_width()/2., \n",
    "            height*1.05, \n",
    "            '%d' % int(height),\n",
    "            ha = \"center\",\n",
    "            va = \"bottom\",\n",
    "        )"
   ]
  },
  {
   "cell_type": "code",
   "execution_count": 60,
   "metadata": {},
   "outputs": [
    {
     "data": {
      "text/plain": [
       "Text(0.5, 1.0, 'all sp')"
      ]
     },
     "execution_count": 60,
     "metadata": {},
     "output_type": "execute_result"
    },
    {
     "data": {
      "image/png": "[encoded data removed]",
      "text/plain": [
       "<Figure size 2160x432 with 1 Axes>"
      ]
     },
     "metadata": {
      "needs_background": "light"
     },
     "output_type": "display_data"
    }
   ],
   "source": [
    "plt.figure(figsize=(30, 6))\n",
    "plt.subplot(131)\n",
    "A = plt.bar([str(interv[1]) for interv in intervals], interv_scores_p)\n",
    "createLabels(A)\n",
    "plt.title('all sp')"
   ]
  },
  {
   "cell_type": "code",
   "execution_count": 61,
   "metadata": {},
   "outputs": [
    {
     "data": {
      "text/plain": [
       "Text(0.5, 1.0, 'not sp')"
      ]
     },
     "execution_count": 61,
     "metadata": {},
     "output_type": "execute_result"
    },
    {
     "data": {
      "image/png": "[encoded data removed]",
      "text/plain": [
       "<Figure size 2160x432 with 1 Axes>"
      ]
     },
     "metadata": {
      "needs_background": "light"
     },
     "output_type": "display_data"
    }
   ],
   "source": [
    "plt.figure(figsize=(30, 6))\n",
    "plt.subplot(131)\n",
    "B = plt.bar([str(interv[1]) for interv in intervals], interv_scores_n)\n",
    "createLabels(B)\n",
    "plt.title('not sp')"
   ]
  },
  {
   "cell_type": "code",
   "execution_count": 62,
   "metadata": {},
   "outputs": [
    {
     "data": {
      "text/plain": [
       "Text(0.5, 1.0, 'answer sp')"
      ]
     },
     "execution_count": 62,
     "metadata": {},
     "output_type": "execute_result"
    },
    {
     "data": {
      "image/png": "[encoded data removed]",
      "text/plain": [
       "<Figure size 2160x432 with 1 Axes>"
      ]
     },
     "metadata": {
      "needs_background": "light"
     },
     "output_type": "display_data"
    }
   ],
   "source": [
    "plt.figure(figsize=(30, 6))\n",
    "plt.subplot(131)\n",
    "B = plt.bar([str(interv[1]) for interv in intervals], interv_scores_answer)\n",
    "createLabels(B)\n",
    "plt.title('answer sp')"
   ]
  },
  {
   "cell_type": "code",
   "execution_count": 63,
   "metadata": {},
   "outputs": [
    {
     "data": {
      "text/plain": [
       "Text(0.5, 1.0, 'not answer sp')"
      ]
     },
     "execution_count": 63,
     "metadata": {},
     "output_type": "execute_result"
    },
    {
     "data": {
      "image/png": "[encoded data removed]",
      "text/plain": [
       "<Figure size 2160x432 with 1 Axes>"
      ]
     },
     "metadata": {
      "needs_background": "light"
     },
     "output_type": "display_data"
    }
   ],
   "source": [
    "plt.figure(figsize=(30, 6))\n",
    "plt.subplot(131)\n",
    "B = plt.bar([str(interv[1]) for interv in intervals], interv_scores_not_answer)\n",
    "createLabels(B)\n",
    "plt.title('not answer sp')"
   ]
  },
  {
   "cell_type": "code",
   "execution_count": 43,
   "metadata": {},
   "outputs": [],
   "source": [
    "def find_q(qid, data):\n",
    "    for d in data:\n",
    "        for q in d['QUESTIONS']:\n",
    "            if q['QID'] == qid:\n",
    "                print(q)"
   ]
  },
  {
   "cell_type": "code",
   "execution_count": 39,
   "metadata": {},
   "outputs": [],
   "source": [
    "def print_analysis_from_qid(qid, data):\n",
    "    for d in data:\n",
    "        for q in d['QUESTIONS']:\n",
    "            if q['QID'] == qid:\n",
    "                print(q['QID'])\n",
    "                print(q['QTEXT_CN'])\n",
    "                print(\"atype:{}\".format(q['ATYPE']))\n",
    "                print(\"SHINT:{}\".format(q['SHINT']))\n",
    "                print(\"sp:{}\".format(q['sp']))\n",
    "                print(\"answer:{}\".format(q['ANSWER']))\n",
    "                all_set = set(q['SHINT']) | set(q['sp'])\n",
    "                for sp_i in range(min(all_set), max(all_set) + 1):\n",
    "                    print_sent_ie(sp_i, d)\n",
    "                    print()"
   ]
  },
  {
   "cell_type": "code",
   "execution_count": 40,
   "metadata": {},
   "outputs": [
    {
     "name": "stdout",
     "output_type": "stream",
     "text": [
      "D105Q01\n",
      "全民健保于哪一年实施?\n",
      "atype:Date-Duration\n",
      "SHINT:[0, 1, 36]\n",
      "sp:[0, 1, 4, 8, 9, 15, 36]\n",
      "answer:[{'ATEXT': '1995年', 'ATEXT_CN': '1995年', 'ATOKEN': [{'text': '1995年', 'text_cn': '1995年', 'start': 510, 'end': 515}]}]\n",
      "sentence0\n",
      "全民健康保险，\n",
      "\n",
      "sentence1\n",
      "一般简称为「全民健保」或「健保」，\n",
      "\n",
      "sentence2\n",
      "是一种强制性保险的福利政策，\n",
      "{'id': 'D0-S0-M0', 'string': '一', 'type': 'NUMBER', 'char_b': 1, 'char_e': 2}\n",
      "\n",
      "sentence3\n",
      "法源是依据《中华民国宪法增修条文》所实施的全民医疗保险制度。\n",
      "{'id': 'D0-S0-M0', 'string': '中华民国宪法增修条文', 'type': 'MISC', 'char_b': 6, 'char_e': 16}\n",
      "\n",
      "sentence4\n",
      "\n",
      "在全民健康保险实施以前，\n",
      "\n",
      "sentence5\n",
      "台湾按照职业别分别实施军人保险（军保）、公教人员保险（公保）、劳工保险（劳保）、农民健康保险（农保），\n",
      "{'id': 'D0-S0-M0', 'string': '台湾', 'type': 'STATE_OR_PROVINCE', 'char_b': 0, 'char_e': 2}\n",
      "{'id': 'D0-S0-M1', 'string': '公保', 'type': 'PER', 'char_b': 27, 'char_e': 29}\n",
      "{'id': 'D0-S0-M2', 'string': '农民', 'type': 'TITLE', 'char_b': 40, 'char_e': 42}\n",
      "\n",
      "sentence6\n",
      "并有保险业各自承保的健康保险。\n",
      "\n",
      "sentence7\n",
      " 1986年5月，\n",
      "{'id': 'D0-S0-M0', 'string': '1986年5月', 'type': 'DATE', 'char_b': 1, 'char_e': 8}\n",
      "\n",
      "sentence8\n",
      "行政院核定的「中华民国台湾经济长期展望」中提到以2000年为全民健保开办目标年，\n",
      "{'id': 'D0-S0-M0', 'string': '行政院', 'type': 'LOC', 'char_b': 0, 'char_e': 3}\n",
      "{'id': 'D0-S0-M1', 'string': '中华民国台湾经济长期展望', 'type': 'MISC', 'char_b': 7, 'char_e': 19}\n",
      "{'id': 'D0-S0-M2', 'string': '2000年', 'type': 'DATE', 'char_b': 24, 'char_e': 29}\n",
      "\n",
      "sentence9\n",
      "这是官方首次明确指出将实施健保。\n",
      "{'id': 'D0-S0-M0', 'string': '首', 'type': 'ORDINAL', 'char_b': 4, 'char_e': 5}\n",
      "{'id': 'D0-S0-M1', 'string': '次', 'type': 'MISC', 'char_b': 5, 'char_e': 6}\n",
      "\n",
      "sentence10\n",
      "而后在1988年，\n",
      "{'id': 'D0-S0-M0', 'string': '1988年', 'type': 'DATE', 'char_b': 3, 'char_e': 8}\n",
      "\n",
      "sentence11\n",
      "行政院经建会专责规画小组，\n",
      "{'id': 'D0-S0-M0', 'string': '行政院', 'type': 'LOC', 'char_b': 0, 'char_e': 3}\n",
      "{'id': 'D0-S0-M1', 'string': '经建会', 'type': 'ORG', 'char_b': 3, 'char_e': 6}\n",
      "\n",
      "sentence12\n",
      "著手于全民健康保险之规划，\n",
      "\n",
      "sentence13\n",
      "并完成全民健康保险规划报告。\n",
      "\n",
      "sentence14\n",
      "1990年7月，\n",
      "{'id': 'D0-S0-M0', 'string': '1990年7月', 'type': 'DATE', 'char_b': 0, 'char_e': 7}\n",
      "\n",
      "sentence15\n",
      "行政院卫生署接手规划全民健康保险。\n",
      "{'id': 'D0-S0-M0', 'string': '行政院', 'type': 'LOC', 'char_b': 0, 'char_e': 3}\n",
      "{'id': 'D0-S0-M1', 'string': '卫生署', 'type': 'ORG', 'char_b': 3, 'char_e': 6}\n",
      "\n",
      "sentence16\n",
      "1991年2月，\n",
      "{'id': 'D0-S0-M0', 'string': '1991年2月', 'type': 'DATE', 'char_b': 0, 'char_e': 7}\n",
      "\n",
      "sentence17\n",
      "卫生署成立全民健康保险规划小组，\n",
      "{'id': 'D0-S0-M0', 'string': '卫生署', 'type': 'ORG', 'char_b': 0, 'char_e': 3}\n",
      "\n",
      "sentence18\n",
      "进行细节讨论作业。\n",
      "\n",
      "sentence19\n",
      "1992年，\n",
      "{'id': 'D0-S0-M0', 'string': '1992年', 'type': 'DATE', 'char_b': 0, 'char_e': 5}\n",
      "\n",
      "sentence20\n",
      "行政院院长郝柏村指示全民健康保险提前办理，\n",
      "{'id': 'D0-S0-M0', 'string': '行政院院长', 'type': 'TITLE', 'char_b': 0, 'char_e': 5}\n",
      "{'id': 'D0-S0-M1', 'string': '郝柏村', 'type': 'PER', 'char_b': 5, 'char_e': 8}\n",
      "\n",
      "sentence21\n",
      "但没有明确指示实施时间。\n",
      "\n",
      "sentence22\n",
      "1993年，\n",
      "{'id': 'D0-S0-M0', 'string': '1993年', 'type': 'DATE', 'char_b': 0, 'char_e': 5}\n",
      "\n",
      "sentence23\n",
      "行政院院长连战指示提前于1994年办理。\n",
      "{'id': 'D0-S0-M0', 'string': '行政院院长', 'type': 'TITLE', 'char_b': 0, 'char_e': 5}\n",
      "{'id': 'D0-S0-M1', 'string': '连战', 'type': 'PER', 'char_b': 5, 'char_e': 7}\n",
      "{'id': 'D0-S0-M2', 'string': '1994年', 'type': 'DATE', 'char_b': 12, 'char_e': 17}\n",
      "\n",
      "sentence24\n",
      "1993年12月，\n",
      "{'id': 'D0-S0-M0', 'string': '1993年12月', 'type': 'DATE', 'char_b': 0, 'char_e': 8}\n",
      "\n",
      "sentence25\n",
      "行政院卫生署成立中央健康保险局筹备处。\n",
      "{'id': 'D0-S0-M0', 'string': '行政院', 'type': 'LOC', 'char_b': 0, 'char_e': 3}\n",
      "{'id': 'D0-S0-M1', 'string': '卫生署', 'type': 'ORG', 'char_b': 3, 'char_e': 6}\n",
      "{'id': 'D0-S0-M2', 'string': '中央健康保险局', 'type': 'ORG', 'char_b': 8, 'char_e': 15}\n",
      "\n",
      "sentence26\n",
      " 1994年7月19日，\n",
      "{'id': 'D0-S0-M0', 'string': '1994年7月19日', 'type': 'DATE', 'char_b': 1, 'char_e': 11}\n",
      "\n",
      "sentence27\n",
      "立法院三读通过《全民健康保险法》，\n",
      "{'id': 'D0-S0-M0', 'string': '立法院', 'type': 'LOC', 'char_b': 0, 'char_e': 3}\n",
      "{'id': 'D0-S0-M1', 'string': '三', 'type': 'NUMBER', 'char_b': 3, 'char_e': 4}\n",
      "{'id': 'D0-S0-M2', 'string': '全民健康保险法', 'type': 'MISC', 'char_b': 8, 'char_e': 15}\n",
      "\n",
      "sentence28\n",
      "宣告了全民健保正式获得民意授权，\n",
      "\n",
      "sentence29\n",
      "得以展开最后准备。\n",
      "\n",
      "sentence30\n",
      "1994年12月30日，\n",
      "{'id': 'D0-S0-M0', 'string': '1994年12月30日', 'type': 'DATE', 'char_b': 0, 'char_e': 11}\n",
      "\n",
      "sentence31\n",
      "总统令，制定公布《中央健康保险局组织条例》。\n",
      "{'id': 'D0-S0-M0', 'string': '中央健康保险局组织条例', 'type': 'MISC', 'char_b': 9, 'char_e': 20}\n",
      "\n",
      "sentence32\n",
      " 历经近九年的努力，\n",
      "{'id': 'D0-S0-M0', 'string': '近', 'type': 'MISC', 'char_b': 3, 'char_e': 4}\n",
      "{'id': 'D0-S0-M1', 'string': '九', 'type': 'NUMBER', 'char_b': 4, 'char_e': 5}\n",
      "{'id': 'D0-S0-M2', 'string': '年', 'type': 'MISC', 'char_b': 5, 'char_e': 6}\n",
      "\n",
      "sentence33\n",
      "1995年1月1日，\n",
      "{'id': 'D0-S0-M0', 'string': '1995年1月1日', 'type': 'DATE', 'char_b': 0, 'char_e': 9}\n",
      "\n",
      "sentence34\n",
      "行政院卫生署正式成立「中央健康保险局」，\n",
      "{'id': 'D0-S0-M0', 'string': '行政院', 'type': 'LOC', 'char_b': 0, 'char_e': 3}\n",
      "{'id': 'D0-S0-M1', 'string': '卫生署', 'type': 'ORG', 'char_b': 3, 'char_e': 6}\n",
      "{'id': 'D0-S0-M2', 'string': '中央健康保险局', 'type': 'ORG', 'char_b': 11, 'char_e': 18}\n",
      "\n",
      "sentence35\n",
      "首长职称为「总经理」。\n",
      "{'id': 'D0-S0-M0', 'string': '总经理', 'type': 'TITLE', 'char_b': 6, 'char_e': 9}\n",
      "\n",
      "sentence36\n",
      "1995年3月1日正式全面实施「全民健康保险」。\n",
      "{'id': 'D0-S0-M0', 'string': '1995年3月1日', 'type': 'DATE', 'char_b': 0, 'char_e': 9}\n",
      "\n"
     ]
    }
   ],
   "source": [
    "print_analysis_from_qid('D105Q01', data)"
   ]
  },
  {
   "cell_type": "code",
   "execution_count": 41,
   "metadata": {},
   "outputs": [
    {
     "name": "stdout",
     "output_type": "stream",
     "text": [
      "{'QID': 'D033Q04', 'QTYPE': '進階題', 'ATYPE': 'Object', 'AMODE': ['Single-Span-Extraction'], 'QTEXT': '「北美自由貿易協議2.0」的法文簡稱為何?', 'QTEXT_CN': '「北美自由贸易协议2.0」的法文简称为何?', 'SENTS': [{'text': '「北美自由贸易协议2.0」的法文简称为何?', 'start': 0, 'end': 21, 'IE': {'NER': [{'id': 'D0-S0-M0', 'string': '北美', 'type': 'LOC', 'char_b': 1, 'char_e': 3}, {'id': 'D0-S0-M1', 'string': '2.0', 'type': 'NUMBER', 'char_b': 9, 'char_e': 12}, {'id': 'D0-S0-M2', 'string': '法文', 'type': 'DEMONYM', 'char_b': 14, 'char_e': 16}], 'COREF': {}, 'RELATION': [], 'TOKEN': [{'word': '「', 'char_b': 0, 'char_e': 1, 'pos': 'PU'}, {'word': '北美', 'char_b': 1, 'char_e': 3, 'pos': 'NR'}, {'word': '自由', 'char_b': 3, 'char_e': 5, 'pos': 'JJ'}, {'word': '贸易', 'char_b': 5, 'char_e': 7, 'pos': 'NN'}, {'word': '协议', 'char_b': 7, 'char_e': 9, 'pos': 'NN'}, {'word': '2.0', 'char_b': 9, 'char_e': 12, 'pos': 'CD'}, {'word': '」', 'char_b': 12, 'char_e': 13, 'pos': 'PU'}, {'word': '的', 'char_b': 13, 'char_e': 14, 'pos': 'DEC'}, {'word': '法文', 'char_b': 14, 'char_e': 16, 'pos': 'NN'}, {'word': '简称', 'char_b': 16, 'char_e': 18, 'pos': 'NN'}, {'word': '为何', 'char_b': 18, 'char_e': 20, 'pos': 'AD'}, {'word': '?', 'char_b': 20, 'char_e': 21, 'pos': 'PU'}]}}], 'SHINT': [0, 2], 'ANSWER': [{'ATEXT': 'ACEUM', 'ATEXT_CN': 'ACEUM', 'ATOKEN': [{'text': 'ACEUM', 'text_cn': 'ACEUM', 'start': 162, 'end': 167}]}], 'ASPAN': [{'text': '北美自由贸易协议2.0', 'start': 209, 'end': 220}, {'text': '它', 'start': 203, 'end': 204}, {'text': '《美国－墨西哥－加拿大协议》', 'start': 0, 'end': 14}, {'text': '法语', 'start': 126, 'end': 128}, {'text': 'ACEUM', 'start': 162, 'end': 167}], 'answer_sp': [0], 'sp': [2], 'sp_scores': [0.43054839968681335, 2.0365243472042494e-05, 0.9436641335487366, 0.00030192668782547116, 7.795514102326706e-05, 0.0005987572367303073, 2.381234116910491e-05, 3.8497644709423184e-05, 1.9374268958927132e-05, 2.9180706405895762e-05, 1.389847238897346e-05, 2.113794835167937e-05, 1.6753330783103593e-05, 1.3535809557652101e-05, 1.5082790923770517e-05, 1.4824251593381632e-05]}\n"
     ]
    }
   ],
   "source": [
    "find_q('D033Q04', data)"
   ]
  },
  {
   "cell_type": "code",
   "execution_count": 42,
   "metadata": {},
   "outputs": [
    {
     "data": {
      "text/plain": [
       "{'DID': 'D201',\n",
       " 'QUESTIONS': [{'QID': 'D201Q02',\n",
       "   'QTYPE': '進階題',\n",
       "   'ATYPE': 'YesNo',\n",
       "   'AMODE': ['YesNo'],\n",
       "   'QTEXT': '內政部所發布的新聞稿是否享有著作權?',\n",
       "   'QTEXT_CN': '内政部所发布的新闻稿是否享有著作权?',\n",
       "   'SENTS': [{'text': '内政部所发布的新闻稿是否享有著作权?',\n",
       "     'start': 0,\n",
       "     'end': 18,\n",
       "     'IE': {'NER': [{'id': 'D0-S0-M0',\n",
       "        'string': '内政部',\n",
       "        'type': 'LOC',\n",
       "        'char_b': 0,\n",
       "        'char_e': 3}],\n",
       "      'COREF': {},\n",
       "      'RELATION': [],\n",
       "      'TOKEN': [{'word': '内政部', 'char_b': 0, 'char_e': 3, 'pos': 'NN'},\n",
       "       {'word': '所', 'char_b': 3, 'char_e': 4, 'pos': 'MSP'},\n",
       "       {'word': '发布', 'char_b': 4, 'char_e': 6, 'pos': 'VV'},\n",
       "       {'word': '的', 'char_b': 6, 'char_e': 7, 'pos': 'DEC'},\n",
       "       {'word': '新闻稿', 'char_b': 7, 'char_e': 10, 'pos': 'NN'},\n",
       "       {'word': '是否', 'char_b': 10, 'char_e': 12, 'pos': 'AD'},\n",
       "       {'word': '享有', 'char_b': 12, 'char_e': 14, 'pos': 'VV'},\n",
       "       {'word': '著作权', 'char_b': 14, 'char_e': 17, 'pos': 'NN'},\n",
       "       {'word': '?', 'char_b': 17, 'char_e': 18, 'pos': 'PU'}]}}],\n",
       "   'SHINT': [7, 8, 13],\n",
       "   'ANSWER': [{'ATEXT': '否',\n",
       "     'ATEXT_CN': '否',\n",
       "     'ATOKEN': [{'text': '否', 'text_cn': '否', 'start': -1, 'end': 0}]}],\n",
       "   'ASPAN': [{'text': '新闻稿', 'start': 250, 'end': 253},\n",
       "    {'text': '公务员', 'start': 234, 'end': 237},\n",
       "    {'text': '公文', 'start': 127, 'end': 129},\n",
       "    {'text': '不得为著作权之标的', 'start': 108, 'end': 117}],\n",
       "   'answer_sp': [7, 8, 13],\n",
       "   'sp': [13],\n",
       "   'sp_scores': [0.0057837385684251785,\n",
       "    4.7869267291389406e-05,\n",
       "    0.13279496133327484,\n",
       "    2.5509159968351014e-05,\n",
       "    3.671785816550255e-05,\n",
       "    0.0011482259724289179,\n",
       "    0.0032301133032888174,\n",
       "    0.4212956428527832,\n",
       "    0.0009019454591907561,\n",
       "    0.0009157869499176741,\n",
       "    0.004877206403762102,\n",
       "    1.6491192582179792e-05,\n",
       "    0.011016324162483215,\n",
       "    0.003767505520954728]}],\n",
       " 'DTEXT': '第六十一條。\\n接著於新聞紙雜誌或網路上有關政治、經濟或社會上時事問題之論述。\\n得由其他新聞紙雜誌轉載，或由廣播或電視公開播送，或於網路上公開傳輸。\\n但經註明，不許轉載，公開播送或公開傳輸者，不在此限。\\n第九條下列各款不得為著作權之標的，依憲法、法律命令或公文。二、中央或地方機關就錢款著作做成之翻譯誤或編輯誤。\\n三標語及通用之符號名詞、公視術表表格不測或實力是單純為傳達事實之新聞報導所作成之語文著作。\\n依法令舉行之各類考試試題積習備用實體。\\n前項第一款所稱公文，包括公務員於職務上草擬之文告、講稿、新聞稿及其他文書。',\n",
       " 'DTEXT_CN': '第六十一条。\\n接著于新闻纸杂志或网路上有关政治、经济或社会上时事问题之论述。\\n得由其他新闻纸杂志转载，或由广播或电视公开播送，或于网路上公开传输。\\n但经注明，不许转载，公开播送或公开传输者，不在此限。\\n第九条下列各款不得为著作权之标的，依宪法、法律命令或公文。二、中央或地方机关就钱款著作做成之翻译误或编辑误。\\n三标语及通用之符号名词、公视术表表格不测或实力是单纯为传达事实之新闻报导所作成之语文著作。\\n依法令举行之各类考试试题积习备用实体。\\n前项第一款所称公文，包括公务员于职务上草拟之文告、讲稿、新闻稿及其他文书。',\n",
       " 'SENTS': [{'text': '第六十一条。',\n",
       "   'start': 0,\n",
       "   'end': 6,\n",
       "   'IE': {'NER': [{'id': 'D0-S0-M0',\n",
       "      'string': '第六十一',\n",
       "      'type': 'ORDINAL',\n",
       "      'char_b': 0,\n",
       "      'char_e': 4}],\n",
       "    'COREF': {},\n",
       "    'RELATION': [],\n",
       "    'TOKEN': [{'word': '第六十一', 'char_b': 0, 'char_e': 4, 'pos': 'OD'},\n",
       "     {'word': '条', 'char_b': 4, 'char_e': 5, 'pos': 'M'},\n",
       "     {'word': '。', 'char_b': 5, 'char_e': 6, 'pos': 'PU'}]}},\n",
       "  {'text': '\\n接著于新闻纸杂志或网路上有关政治、经济或社会上时事问题之论述。',\n",
       "   'start': 6,\n",
       "   'end': 38,\n",
       "   'IE': {'NER': [],\n",
       "    'COREF': {},\n",
       "    'RELATION': [],\n",
       "    'TOKEN': [{'word': '接著', 'char_b': 1, 'char_e': 3, 'pos': 'VV'},\n",
       "     {'word': '于', 'char_b': 3, 'char_e': 4, 'pos': 'P'},\n",
       "     {'word': '新闻', 'char_b': 4, 'char_e': 6, 'pos': 'NN'},\n",
       "     {'word': '纸', 'char_b': 6, 'char_e': 7, 'pos': 'NN'},\n",
       "     {'word': '杂志', 'char_b': 7, 'char_e': 9, 'pos': 'NN'},\n",
       "     {'word': '或', 'char_b': 9, 'char_e': 10, 'pos': 'CC'},\n",
       "     {'word': '网路', 'char_b': 10, 'char_e': 12, 'pos': 'NN'},\n",
       "     {'word': '上', 'char_b': 12, 'char_e': 13, 'pos': 'LC'},\n",
       "     {'word': '有关', 'char_b': 13, 'char_e': 15, 'pos': 'P'},\n",
       "     {'word': '政治', 'char_b': 15, 'char_e': 17, 'pos': 'NN'},\n",
       "     {'word': '、', 'char_b': 17, 'char_e': 18, 'pos': 'PU'},\n",
       "     {'word': '经济', 'char_b': 18, 'char_e': 20, 'pos': 'NN'},\n",
       "     {'word': '或', 'char_b': 20, 'char_e': 21, 'pos': 'CC'},\n",
       "     {'word': '社会', 'char_b': 21, 'char_e': 23, 'pos': 'NN'},\n",
       "     {'word': '上', 'char_b': 23, 'char_e': 24, 'pos': 'LC'},\n",
       "     {'word': '时事', 'char_b': 24, 'char_e': 26, 'pos': 'NN'},\n",
       "     {'word': '问题', 'char_b': 26, 'char_e': 28, 'pos': 'NN'},\n",
       "     {'word': '之', 'char_b': 28, 'char_e': 29, 'pos': 'DEG'},\n",
       "     {'word': '论述', 'char_b': 29, 'char_e': 31, 'pos': 'NN'},\n",
       "     {'word': '。', 'char_b': 31, 'char_e': 32, 'pos': 'PU'}]}},\n",
       "  {'text': '\\n得由其他新闻纸杂志转载，',\n",
       "   'start': 38,\n",
       "   'end': 51,\n",
       "   'IE': {'NER': [{'id': 'D0-S0-M0',\n",
       "      'string': '其他',\n",
       "      'type': 'IDEOLOGY',\n",
       "      'char_b': 3,\n",
       "      'char_e': 5}],\n",
       "    'COREF': {},\n",
       "    'RELATION': [],\n",
       "    'TOKEN': [{'word': '得', 'char_b': 1, 'char_e': 2, 'pos': 'VV'},\n",
       "     {'word': '由', 'char_b': 2, 'char_e': 3, 'pos': 'P'},\n",
       "     {'word': '其他', 'char_b': 3, 'char_e': 5, 'pos': 'DT'},\n",
       "     {'word': '新闻纸', 'char_b': 5, 'char_e': 8, 'pos': 'NN'},\n",
       "     {'word': '杂志', 'char_b': 8, 'char_e': 10, 'pos': 'NN'},\n",
       "     {'word': '转载', 'char_b': 10, 'char_e': 12, 'pos': 'VV'},\n",
       "     {'word': '，', 'char_b': 12, 'char_e': 13, 'pos': 'PU'}]}},\n",
       "  {'text': '或由广播或电视公开播送，',\n",
       "   'start': 51,\n",
       "   'end': 63,\n",
       "   'IE': {'NER': [],\n",
       "    'COREF': {},\n",
       "    'RELATION': [],\n",
       "    'TOKEN': [{'word': '或由', 'char_b': 0, 'char_e': 2, 'pos': 'AD'},\n",
       "     {'word': '广播', 'char_b': 2, 'char_e': 4, 'pos': 'NN'},\n",
       "     {'word': '或', 'char_b': 4, 'char_e': 5, 'pos': 'CC'},\n",
       "     {'word': '电视', 'char_b': 5, 'char_e': 7, 'pos': 'NN'},\n",
       "     {'word': '公开', 'char_b': 7, 'char_e': 9, 'pos': 'AD'},\n",
       "     {'word': '播送', 'char_b': 9, 'char_e': 11, 'pos': 'VV'},\n",
       "     {'word': '，', 'char_b': 11, 'char_e': 12, 'pos': 'PU'}]}},\n",
       "  {'text': '或于网路上公开传输。',\n",
       "   'start': 63,\n",
       "   'end': 73,\n",
       "   'IE': {'NER': [],\n",
       "    'COREF': {},\n",
       "    'RELATION': [],\n",
       "    'TOKEN': [{'word': '或', 'char_b': 0, 'char_e': 1, 'pos': 'CC'},\n",
       "     {'word': '于', 'char_b': 1, 'char_e': 2, 'pos': 'P'},\n",
       "     {'word': '网路', 'char_b': 2, 'char_e': 4, 'pos': 'NN'},\n",
       "     {'word': '上', 'char_b': 4, 'char_e': 5, 'pos': 'LC'},\n",
       "     {'word': '公开', 'char_b': 5, 'char_e': 7, 'pos': 'AD'},\n",
       "     {'word': '传输', 'char_b': 7, 'char_e': 9, 'pos': 'VV'},\n",
       "     {'word': '。', 'char_b': 9, 'char_e': 10, 'pos': 'PU'}]}},\n",
       "  {'text': '\\n但经注明，',\n",
       "   'start': 73,\n",
       "   'end': 79,\n",
       "   'IE': {'NER': [],\n",
       "    'COREF': {},\n",
       "    'RELATION': [],\n",
       "    'TOKEN': [{'word': '但', 'char_b': 1, 'char_e': 2, 'pos': 'AD'},\n",
       "     {'word': '经', 'char_b': 2, 'char_e': 3, 'pos': 'P'},\n",
       "     {'word': '注明', 'char_b': 3, 'char_e': 5, 'pos': 'VV'},\n",
       "     {'word': '，', 'char_b': 5, 'char_e': 6, 'pos': 'PU'}]}},\n",
       "  {'text': '不许转载，公开播送或公开传输者，',\n",
       "   'start': 79,\n",
       "   'end': 95,\n",
       "   'IE': {'NER': [],\n",
       "    'COREF': {},\n",
       "    'RELATION': [],\n",
       "    'TOKEN': [{'word': '不许', 'char_b': 0, 'char_e': 2, 'pos': 'VV'},\n",
       "     {'word': '转载', 'char_b': 2, 'char_e': 4, 'pos': 'NN'},\n",
       "     {'word': '，', 'char_b': 4, 'char_e': 5, 'pos': 'PU'},\n",
       "     {'word': '公开', 'char_b': 5, 'char_e': 7, 'pos': 'AD'},\n",
       "     {'word': '播送', 'char_b': 7, 'char_e': 9, 'pos': 'VV'},\n",
       "     {'word': '或', 'char_b': 9, 'char_e': 10, 'pos': 'CC'},\n",
       "     {'word': '公开', 'char_b': 10, 'char_e': 12, 'pos': 'AD'},\n",
       "     {'word': '传输者', 'char_b': 12, 'char_e': 15, 'pos': 'NN'},\n",
       "     {'word': '，', 'char_b': 15, 'char_e': 16, 'pos': 'PU'}]}},\n",
       "  {'text': '不在此限。\\n第九条下列各款不得为著作权之标的，',\n",
       "   'start': 95,\n",
       "   'end': 118,\n",
       "   'IE': {'NER': [{'id': 'D0-S1-M0',\n",
       "      'string': '第九',\n",
       "      'type': 'ORDINAL',\n",
       "      'char_b': 6,\n",
       "      'char_e': 8}],\n",
       "    'COREF': {},\n",
       "    'RELATION': [],\n",
       "    'TOKEN': [{'word': '不在此', 'char_b': 0, 'char_e': 3, 'pos': 'AD'},\n",
       "     {'word': '限', 'char_b': 3, 'char_e': 4, 'pos': 'VV'},\n",
       "     {'word': '。', 'char_b': 4, 'char_e': 5, 'pos': 'PU'},\n",
       "     {'word': '第九', 'char_b': 6, 'char_e': 8, 'pos': 'OD'},\n",
       "     {'word': '条', 'char_b': 8, 'char_e': 9, 'pos': 'M'},\n",
       "     {'word': '下列', 'char_b': 9, 'char_e': 11, 'pos': 'JJ'},\n",
       "     {'word': '各', 'char_b': 11, 'char_e': 12, 'pos': 'DT'},\n",
       "     {'word': '款', 'char_b': 12, 'char_e': 13, 'pos': 'M'},\n",
       "     {'word': '不得为', 'char_b': 13, 'char_e': 16, 'pos': 'JJ'},\n",
       "     {'word': '著作权', 'char_b': 16, 'char_e': 19, 'pos': 'NN'},\n",
       "     {'word': '之', 'char_b': 19, 'char_e': 20, 'pos': 'DEG'},\n",
       "     {'word': '标的', 'char_b': 20, 'char_e': 22, 'pos': 'NN'},\n",
       "     {'word': '，', 'char_b': 22, 'char_e': 23, 'pos': 'PU'}]}},\n",
       "  {'text': '依宪法、法律命令或公文。',\n",
       "   'start': 118,\n",
       "   'end': 130,\n",
       "   'IE': {'NER': [],\n",
       "    'COREF': {},\n",
       "    'RELATION': [],\n",
       "    'TOKEN': [{'word': '依', 'char_b': 0, 'char_e': 1, 'pos': 'P'},\n",
       "     {'word': '宪法', 'char_b': 1, 'char_e': 3, 'pos': 'NN'},\n",
       "     {'word': '、', 'char_b': 3, 'char_e': 4, 'pos': 'PU'},\n",
       "     {'word': '法律', 'char_b': 4, 'char_e': 6, 'pos': 'NN'},\n",
       "     {'word': '命令', 'char_b': 6, 'char_e': 8, 'pos': 'NN'},\n",
       "     {'word': '或', 'char_b': 8, 'char_e': 9, 'pos': 'CC'},\n",
       "     {'word': '公文', 'char_b': 9, 'char_e': 11, 'pos': 'NN'},\n",
       "     {'word': '。', 'char_b': 11, 'char_e': 12, 'pos': 'PU'}]}},\n",
       "  {'text': '二、中央或地方机关就钱款著作做成之翻译误或编辑误。',\n",
       "   'start': 130,\n",
       "   'end': 155,\n",
       "   'IE': {'NER': [{'id': 'D0-S0-M0',\n",
       "      'string': '二',\n",
       "      'type': 'NUMBER',\n",
       "      'char_b': 0,\n",
       "      'char_e': 1},\n",
       "     {'id': 'D0-S0-M1',\n",
       "      'string': '编辑',\n",
       "      'type': 'TITLE',\n",
       "      'char_b': 21,\n",
       "      'char_e': 23}],\n",
       "    'COREF': {},\n",
       "    'RELATION': [],\n",
       "    'TOKEN': [{'word': '二', 'char_b': 0, 'char_e': 1, 'pos': 'CD'},\n",
       "     {'word': '、', 'char_b': 1, 'char_e': 2, 'pos': 'PU'},\n",
       "     {'word': '中央', 'char_b': 2, 'char_e': 4, 'pos': 'NN'},\n",
       "     {'word': '或', 'char_b': 4, 'char_e': 5, 'pos': 'CC'},\n",
       "     {'word': '地方', 'char_b': 5, 'char_e': 7, 'pos': 'NN'},\n",
       "     {'word': '机关', 'char_b': 7, 'char_e': 9, 'pos': 'NN'},\n",
       "     {'word': '就', 'char_b': 9, 'char_e': 10, 'pos': 'AD'},\n",
       "     {'word': '钱款', 'char_b': 10, 'char_e': 12, 'pos': 'VV'},\n",
       "     {'word': '著作', 'char_b': 12, 'char_e': 14, 'pos': 'NN'},\n",
       "     {'word': '做成', 'char_b': 14, 'char_e': 16, 'pos': 'VV'},\n",
       "     {'word': '之', 'char_b': 16, 'char_e': 17, 'pos': 'DEC'},\n",
       "     {'word': '翻译', 'char_b': 17, 'char_e': 19, 'pos': 'NN'},\n",
       "     {'word': '误', 'char_b': 19, 'char_e': 20, 'pos': 'AD'},\n",
       "     {'word': '或', 'char_b': 20, 'char_e': 21, 'pos': 'CC'},\n",
       "     {'word': '编辑', 'char_b': 21, 'char_e': 23, 'pos': 'VV'},\n",
       "     {'word': '误', 'char_b': 23, 'char_e': 24, 'pos': 'VV'},\n",
       "     {'word': '。', 'char_b': 24, 'char_e': 25, 'pos': 'PU'}]}},\n",
       "  {'text': '\\n三标语及通用之符号名词、公视术表表格不测或实力是单纯为传达事实之新闻报导所作成之语文著作。',\n",
       "   'start': 155,\n",
       "   'end': 201,\n",
       "   'IE': {'NER': [{'id': 'D0-S0-M0',\n",
       "      'string': '三',\n",
       "      'type': 'NUMBER',\n",
       "      'char_b': 1,\n",
       "      'char_e': 2},\n",
       "     {'id': 'D0-S0-M1',\n",
       "      'string': '公视',\n",
       "      'type': 'ORG',\n",
       "      'char_b': 13,\n",
       "      'char_e': 15}],\n",
       "    'COREF': {},\n",
       "    'RELATION': [],\n",
       "    'TOKEN': [{'word': '三', 'char_b': 1, 'char_e': 2, 'pos': 'CD'},\n",
       "     {'word': '标语', 'char_b': 2, 'char_e': 4, 'pos': 'NN'},\n",
       "     {'word': '及', 'char_b': 4, 'char_e': 5, 'pos': 'CC'},\n",
       "     {'word': '通用', 'char_b': 5, 'char_e': 7, 'pos': 'NN'},\n",
       "     {'word': '之', 'char_b': 7, 'char_e': 8, 'pos': 'DEG'},\n",
       "     {'word': '符号', 'char_b': 8, 'char_e': 10, 'pos': 'NN'},\n",
       "     {'word': '名词', 'char_b': 10, 'char_e': 12, 'pos': 'NN'},\n",
       "     {'word': '、', 'char_b': 12, 'char_e': 13, 'pos': 'PU'},\n",
       "     {'word': '公视', 'char_b': 13, 'char_e': 15, 'pos': 'NR'},\n",
       "     {'word': '术', 'char_b': 15, 'char_e': 16, 'pos': 'NN'},\n",
       "     {'word': '表表', 'char_b': 16, 'char_e': 18, 'pos': 'NN'},\n",
       "     {'word': '格', 'char_b': 18, 'char_e': 19, 'pos': 'VV'},\n",
       "     {'word': '不测', 'char_b': 19, 'char_e': 21, 'pos': 'VV'},\n",
       "     {'word': '或', 'char_b': 21, 'char_e': 22, 'pos': 'CC'},\n",
       "     {'word': '实力', 'char_b': 22, 'char_e': 24, 'pos': 'NN'},\n",
       "     {'word': '是', 'char_b': 24, 'char_e': 25, 'pos': 'VC'},\n",
       "     {'word': '单纯', 'char_b': 25, 'char_e': 27, 'pos': 'AD'},\n",
       "     {'word': '为', 'char_b': 27, 'char_e': 28, 'pos': 'VC'},\n",
       "     {'word': '传达', 'char_b': 28, 'char_e': 30, 'pos': 'VV'},\n",
       "     {'word': '事实', 'char_b': 30, 'char_e': 32, 'pos': 'NN'},\n",
       "     {'word': '之', 'char_b': 32, 'char_e': 33, 'pos': 'DEG'},\n",
       "     {'word': '新闻', 'char_b': 33, 'char_e': 35, 'pos': 'NN'},\n",
       "     {'word': '报导', 'char_b': 35, 'char_e': 37, 'pos': 'NN'},\n",
       "     {'word': '所', 'char_b': 37, 'char_e': 38, 'pos': 'MSP'},\n",
       "     {'word': '作成', 'char_b': 38, 'char_e': 40, 'pos': 'VV'},\n",
       "     {'word': '之', 'char_b': 40, 'char_e': 41, 'pos': 'DEC'},\n",
       "     {'word': '语文', 'char_b': 41, 'char_e': 43, 'pos': 'NN'},\n",
       "     {'word': '著作', 'char_b': 43, 'char_e': 45, 'pos': 'NN'},\n",
       "     {'word': '。', 'char_b': 45, 'char_e': 46, 'pos': 'PU'}]}},\n",
       "  {'text': '\\n依法令举行之各类考试试题积习备用实体。',\n",
       "   'start': 201,\n",
       "   'end': 221,\n",
       "   'IE': {'NER': [],\n",
       "    'COREF': {},\n",
       "    'RELATION': [],\n",
       "    'TOKEN': [{'word': '依法', 'char_b': 1, 'char_e': 3, 'pos': 'AD'},\n",
       "     {'word': '令', 'char_b': 3, 'char_e': 4, 'pos': 'VV'},\n",
       "     {'word': '举行', 'char_b': 4, 'char_e': 6, 'pos': 'VV'},\n",
       "     {'word': '之', 'char_b': 6, 'char_e': 7, 'pos': 'DEC'},\n",
       "     {'word': '各', 'char_b': 7, 'char_e': 8, 'pos': 'DT'},\n",
       "     {'word': '类', 'char_b': 8, 'char_e': 9, 'pos': 'M'},\n",
       "     {'word': '考试', 'char_b': 9, 'char_e': 11, 'pos': 'NN'},\n",
       "     {'word': '试题', 'char_b': 11, 'char_e': 13, 'pos': 'NN'},\n",
       "     {'word': '积习', 'char_b': 13, 'char_e': 15, 'pos': 'VV'},\n",
       "     {'word': '备用', 'char_b': 15, 'char_e': 17, 'pos': 'JJ'},\n",
       "     {'word': '实体', 'char_b': 17, 'char_e': 19, 'pos': 'NN'},\n",
       "     {'word': '。', 'char_b': 19, 'char_e': 20, 'pos': 'PU'}]}},\n",
       "  {'text': '\\n前项第一款所称公文，',\n",
       "   'start': 221,\n",
       "   'end': 232,\n",
       "   'IE': {'NER': [{'id': 'D0-S0-M0',\n",
       "      'string': '第一',\n",
       "      'type': 'ORDINAL',\n",
       "      'char_b': 3,\n",
       "      'char_e': 5}],\n",
       "    'COREF': {},\n",
       "    'RELATION': [],\n",
       "    'TOKEN': [{'word': '前项', 'char_b': 1, 'char_e': 3, 'pos': 'NN'},\n",
       "     {'word': '第一', 'char_b': 3, 'char_e': 5, 'pos': 'OD'},\n",
       "     {'word': '款', 'char_b': 5, 'char_e': 6, 'pos': 'M'},\n",
       "     {'word': '所', 'char_b': 6, 'char_e': 7, 'pos': 'MSP'},\n",
       "     {'word': '称', 'char_b': 7, 'char_e': 8, 'pos': 'VV'},\n",
       "     {'word': '公文', 'char_b': 8, 'char_e': 10, 'pos': 'NN'},\n",
       "     {'word': '，', 'char_b': 10, 'char_e': 11, 'pos': 'PU'}]}},\n",
       "  {'text': '包括公务员于职务上草拟之文告、讲稿、新闻稿及其他文书。',\n",
       "   'start': 232,\n",
       "   'end': 259,\n",
       "   'IE': {'NER': [{'id': 'D0-S0-M0',\n",
       "      'string': '公务员',\n",
       "      'type': 'TITLE',\n",
       "      'char_b': 2,\n",
       "      'char_e': 5},\n",
       "     {'id': 'D0-S0-M1',\n",
       "      'string': '其他',\n",
       "      'type': 'IDEOLOGY',\n",
       "      'char_b': 22,\n",
       "      'char_e': 24}],\n",
       "    'COREF': {},\n",
       "    'RELATION': [],\n",
       "    'TOKEN': [{'word': '包括', 'char_b': 0, 'char_e': 2, 'pos': 'VV'},\n",
       "     {'word': '公务员', 'char_b': 2, 'char_e': 5, 'pos': 'NN'},\n",
       "     {'word': '于', 'char_b': 5, 'char_e': 6, 'pos': 'P'},\n",
       "     {'word': '职务', 'char_b': 6, 'char_e': 8, 'pos': 'NN'},\n",
       "     {'word': '上', 'char_b': 8, 'char_e': 9, 'pos': 'LC'},\n",
       "     {'word': '草拟', 'char_b': 9, 'char_e': 11, 'pos': 'VV'},\n",
       "     {'word': '之', 'char_b': 11, 'char_e': 12, 'pos': 'DEC'},\n",
       "     {'word': '文告', 'char_b': 12, 'char_e': 14, 'pos': 'NN'},\n",
       "     {'word': '、', 'char_b': 14, 'char_e': 15, 'pos': 'PU'},\n",
       "     {'word': '讲稿', 'char_b': 15, 'char_e': 17, 'pos': 'NN'},\n",
       "     {'word': '、', 'char_b': 17, 'char_e': 18, 'pos': 'PU'},\n",
       "     {'word': '新闻稿', 'char_b': 18, 'char_e': 21, 'pos': 'NN'},\n",
       "     {'word': '及', 'char_b': 21, 'char_e': 22, 'pos': 'CC'},\n",
       "     {'word': '其他', 'char_b': 22, 'char_e': 24, 'pos': 'DT'},\n",
       "     {'word': '文书', 'char_b': 24, 'char_e': 26, 'pos': 'NN'},\n",
       "     {'word': '。', 'char_b': 26, 'char_e': 27, 'pos': 'PU'}]}}]}"
      ]
     },
     "execution_count": 42,
     "metadata": {},
     "output_type": "execute_result"
    }
   ],
   "source": [
    "data[100]"
   ]
  },
  {
   "cell_type": "code",
   "execution_count": 69,
   "metadata": {},
   "outputs": [],
   "source": [
    "def write_analysis(file_path, data):\n",
    "    f = open(file_path, 'w')\n",
    "    for d in data:\n",
    "        for q in d['QUESTIONS']:\n",
    "            f.write(q['QID'] + '\\n')\n",
    "            f.write(q['QTEXT_CN'] + '\\n')\n",
    "            f.write(\"atype:{}\".format(q['ATYPE']) + '\\n')\n",
    "            f.write(\"SHINT:{}\".format(q['SHINT']) + '\\n')\n",
    "            f.write(\"answer_sp:{}\".format(q['answer_sp']) + '\\n')\n",
    "            f.write(\"sp:{}\".format(q['sp']) + '\\n')\n",
    "            f.write('\\n')\n",
    "            for sp_i in range(min(all_set), max(all_set) + 1):\n",
    "                f.write(q['sp_scores'][sp_i] + '\\n')\n",
    "                f.write(get_sent_ie(sp_i, d))\n",
    "    f.close()"
   ]
  },
  {
   "cell_type": "code",
   "execution_count": 67,
   "metadata": {},
   "outputs": [
    {
     "name": "stdout",
     "output_type": "stream",
     "text": [
      "D201Q02\n",
      "内政部所发布的新闻稿是否享有著作权?\n",
      "atype:YesNo\n",
      "SHINT:[7, 8, 13]\n",
      "answer_sp:[7, 8, 13]\n",
      "sp:[13]\n",
      "\n",
      "0.12617291510105133\n",
      "sentence7\n",
      "不在此限。\n",
      "第九条下列各款不得为著作权之标的，\n",
      "{'id': 'D0-S1-M0', 'string': '第九', 'type': 'ORDINAL', 'char_b': 6, 'char_e': 8}\n",
      "\n",
      "0.041321951895952225\n",
      "sentence8\n",
      "依宪法、法律命令或公文。\n",
      "\n",
      "0.005994434468448162\n",
      "sentence9\n",
      "二、中央或地方机关就钱款著作做成之翻译误或编辑误。\n",
      "{'id': 'D0-S0-M0', 'string': '二', 'type': 'NUMBER', 'char_b': 0, 'char_e': 1}\n",
      "{'id': 'D0-S0-M1', 'string': '编辑', 'type': 'TITLE', 'char_b': 21, 'char_e': 23}\n",
      "\n",
      "0.1578790843486786\n",
      "sentence10\n",
      "\n",
      "三标语及通用之符号名词、公视术表表格不测或实力是单纯为传达事实之新闻报导所作成之语文著作。\n",
      "{'id': 'D0-S0-M0', 'string': '三', 'type': 'NUMBER', 'char_b': 1, 'char_e': 2}\n",
      "{'id': 'D0-S0-M1', 'string': '公视', 'type': 'ORG', 'char_b': 13, 'char_e': 15}\n",
      "\n",
      "0.0006482252501882613\n",
      "sentence11\n",
      "\n",
      "依法令举行之各类考试试题积习备用实体。\n",
      "\n",
      "0.020966751500964165\n",
      "sentence12\n",
      "\n",
      "前项第一款所称公文，\n",
      "{'id': 'D0-S0-M0', 'string': '第一', 'type': 'ORDINAL', 'char_b': 3, 'char_e': 5}\n",
      "\n",
      "0.1404472440481186\n",
      "sentence13\n",
      "包括公务员于职务上草拟之文告、讲稿、新闻稿及其他文书。\n",
      "{'id': 'D0-S0-M0', 'string': '公务员', 'type': 'TITLE', 'char_b': 2, 'char_e': 5}\n",
      "{'id': 'D0-S0-M1', 'string': '其他', 'type': 'IDEOLOGY', 'char_b': 22, 'char_e': 24}\n",
      "\n"
     ]
    }
   ],
   "source": [
    "d = data[100]\n",
    "for q in d['QUESTIONS']:\n",
    "    print(q['QID'])\n",
    "    print(q['QTEXT_CN'])\n",
    "    print(\"atype:{}\".format(q['ATYPE']))\n",
    "    print(\"SHINT:{}\".format(q['SHINT']))\n",
    "    print(\"answer_sp:{}\".format(q['answer_sp']))\n",
    "    print(\"sp:{}\".format(q['sp']))\n",
    "    print()\n",
    "    all_set = set(q['SHINT']) | set(q['sp'])\n",
    "    for sp_i in range(min(all_set), max(all_set) + 1):\n",
    "        print(q['sp_scores'][sp_i])\n",
    "        print(get_sent_ie(sp_i, d))"
   ]
  },
  {
   "cell_type": "code",
   "execution_count": null,
   "metadata": {},
   "outputs": [],
   "source": []
  },
  {
   "cell_type": "code",
   "execution_count": null,
   "metadata": {},
   "outputs": [],
   "source": []
  }
 ],
 "metadata": {
  "kernelspec": {
   "display_name": "Python 3",
   "language": "python",
   "name": "python3"
  },
  "language_info": {
   "codemirror_mode": {
    "name": "ipython",
    "version": 3
   },
   "file_extension": ".py",
   "mimetype": "text/x-python",
   "name": "python",
   "nbconvert_exporter": "python",
   "pygments_lexer": "ipython3",
   "version": "3.6.8"
  }
 },
 "nbformat": 4,
 "nbformat_minor": 4
}
