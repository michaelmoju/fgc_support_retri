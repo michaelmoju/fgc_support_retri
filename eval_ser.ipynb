{
 "cells": [
  {
   "cell_type": "code",
   "execution_count": 1,
   "metadata": {},
   "outputs": [
    {
     "name": "stderr",
     "output_type": "stream",
     "text": [
      "I0327 03:43:57.595453 140481912182592 file_utils.py:39] PyTorch version 1.1.0 available.\n"
     ]
    },
    {
     "data": {
      "text/plain": [
       "'/work'"
      ]
     },
     "execution_count": 1,
     "metadata": {},
     "output_type": "execute_result"
    }
   ],
   "source": [
    "import os\n",
    "import sys\n",
    "import json\n",
    "import torch\n",
    "import torchvision\n",
    "import matplotlib.pyplot as plt\n",
    "from tqdm import tqdm_notebook as tqdm\n",
    "from transformers import BertModel, BertTokenizer\n",
    "\n",
    "w_dir = %pwd\n",
    "work_dir = os.path.dirname(w_dir)\n",
    "work_dir"
   ]
  },
  {
   "cell_type": "code",
   "execution_count": 2,
   "metadata": {},
   "outputs": [],
   "source": [
    "sys.path.append(w_dir+'/fgc_support_retri')"
   ]
  },
  {
   "cell_type": "code",
   "execution_count": 3,
   "metadata": {},
   "outputs": [
    {
     "ename": "TabError",
     "evalue": "inconsistent use of tabs and spaces in indentation (bert_model.py, line 48)",
     "output_type": "error",
     "traceback": [
      "Traceback \u001b[0;36m(most recent call last)\u001b[0m:\n",
      "  File \u001b[1;32m\"/usr/local/lib/python3.6/dist-packages/IPython/core/interactiveshell.py\"\u001b[0m, line \u001b[1;32m3325\u001b[0m, in \u001b[1;35mrun_code\u001b[0m\n    exec(code_obj, self.user_global_ns, self.user_ns)\n",
      "  File \u001b[1;32m\"<ipython-input-3-4edabf2855b5>\"\u001b[0m, line \u001b[1;32m1\u001b[0m, in \u001b[1;35m<module>\u001b[0m\n    from fgc_support_retri.ser_extractor import *\n",
      "\u001b[0;36m  File \u001b[0;32m\"/work/fgc_support_retri/fgc_support_retri/ser_extractor.py\"\u001b[0;36m, line \u001b[0;32m11\u001b[0;36m, in \u001b[0;35m<module>\u001b[0;36m\u001b[0m\n\u001b[0;31m    from .nn_model.bert_model import *\u001b[0m\n",
      "\u001b[0;36m  File \u001b[0;32m\"/work/fgc_support_retri/fgc_support_retri/nn_model/bert_model.py\"\u001b[0;36m, line \u001b[0;32m48\u001b[0m\n\u001b[0;31m    max_score = score\u001b[0m\n\u001b[0m                     ^\u001b[0m\n\u001b[0;31mTabError\u001b[0m\u001b[0;31m:\u001b[0m inconsistent use of tabs and spaces in indentation\n"
     ]
    }
   ],
   "source": [
    "from fgc_support_retri.ser_extractor import *\n",
    "from fgc_support_retri.utils import *\n",
    "from fgc_support_retri import config\n",
    "from evaluation.fgc_eval import *\n",
    "from evaluation.eval import eval_sp_fgc, eval_fgc_atype"
   ]
  },
  {
   "cell_type": "code",
   "execution_count": null,
   "metadata": {},
   "outputs": [],
   "source": [
    "model_folder = config.TRAINED_MODELS / \"old_etype\" / \"20200323_entity_lr=2e-5\" "
   ]
  },
  {
   "cell_type": "code",
   "execution_count": 4,
   "metadata": {},
   "outputs": [
    {
     "ename": "NameError",
     "evalue": "name 'Entity_extractor' is not defined",
     "output_type": "error",
     "traceback": [
      "\u001b[0;31m---------------------------------------------------------------------------\u001b[0m",
      "\u001b[0;31mNameError\u001b[0m                                 Traceback (most recent call last)",
      "\u001b[0;32m<ipython-input-4-de37c6cd7ba3>\u001b[0m in \u001b[0;36m<module>\u001b[0;34m\u001b[0m\n\u001b[0;32m----> 1\u001b[0;31m \u001b[0mextractor\u001b[0m \u001b[0;34m=\u001b[0m \u001b[0mEntity_extractor\u001b[0m\u001b[0;34m(\u001b[0m\u001b[0mmodel_folder\u001b[0m\u001b[0;34m)\u001b[0m\u001b[0;34m\u001b[0m\u001b[0;34m\u001b[0m\u001b[0m\n\u001b[0m",
      "\u001b[0;31mNameError\u001b[0m: name 'Entity_extractor' is not defined"
     ]
    }
   ],
   "source": [
    "extractor = Entity_extractor(model_folder)"
   ]
  },
  {
   "cell_type": "code",
   "execution_count": 36,
   "metadata": {},
   "outputs": [],
   "source": [
    "eval_data = json_load(config.FGC_DEV)"
   ]
  },
  {
   "cell_type": "code",
   "execution_count": 37,
   "metadata": {},
   "outputs": [
    {
     "name": "stderr",
     "output_type": "stream",
     "text": [
      "100%|██████████| 247/247 [00:00<00:00, 32686.33it/s]\n"
     ]
    }
   ],
   "source": [
    "get_answer_sp(eval_data, force=True)"
   ]
  },
  {
   "cell_type": "code",
   "execution_count": 38,
   "metadata": {},
   "outputs": [
    {
     "name": "stderr",
     "output_type": "stream",
     "text": [
      "100%|██████████| 247/247 [04:37<00:00,  1.14s/it]\n"
     ]
    }
   ],
   "source": [
    "all_sp_predictions = []\n",
    "all_atype_predictions = []\n",
    "all_items = []\n",
    "for d in tqdm(eval_data):\n",
    "    for q in d['QUESTIONS']:\n",
    "        sp_preds, _, sp_scores = extractor.predict(q, d)\n",
    "        q['sp'] = sp_preds\n",
    "        q['sp_scores'] = sp_scores"
   ]
  },
  {
   "cell_type": "code",
   "execution_count": 39,
   "metadata": {},
   "outputs": [
    {
     "name": "stderr",
     "output_type": "stream",
     "text": [
      "100%|██████████| 247/247 [00:00<00:00, 68018.72it/s]\n"
     ]
    }
   ],
   "source": [
    "all_items, all_sp_predictions, all_answer_sp = eval_from_threshold(eval_data, threshold=0.5)"
   ]
  },
  {
   "cell_type": "code",
   "execution_count": 40,
   "metadata": {},
   "outputs": [
    {
     "name": "stdout",
     "output_type": "stream",
     "text": [
      "{'sp_em': 0.172, 'sp_prec': 0.614, 'sp_recall': 0.625, 'sp_f1': 0.574}\n"
     ]
    }
   ],
   "source": [
    "metrics = eval_sp_fgc(all_items, all_sp_predictions)"
   ]
  },
  {
   "cell_type": "code",
   "execution_count": 41,
   "metadata": {},
   "outputs": [
    {
     "name": "stdout",
     "output_type": "stream",
     "text": [
      "{'sp_em': 0.155, 'sp_prec': 0.376, 'sp_recall': 0.591, 'sp_f1': 0.424}\n"
     ]
    }
   ],
   "source": [
    "metrics = eval_sp_fgc(all_answer_sp, all_sp_predictions)"
   ]
  },
  {
   "cell_type": "markdown",
   "metadata": {},
   "source": [
    "# draw intervals"
   ]
  },
  {
   "cell_type": "code",
   "execution_count": 42,
   "metadata": {},
   "outputs": [],
   "source": [
    "def get_interval_span():\n",
    "    intervals = []\n",
    "    last = 0\n",
    "    step = 10\n",
    "    for i in range(step):\n",
    "        now = round(last+1/step, 1)\n",
    "        intervals.append((last, now))\n",
    "        last = now\n",
    "    return intervals"
   ]
  },
  {
   "cell_type": "code",
   "execution_count": 43,
   "metadata": {},
   "outputs": [],
   "source": [
    "def get_interval(score):\n",
    "    # get interval span\n",
    "    intervals = []\n",
    "    last = 0\n",
    "    step = 10\n",
    "    for i in range(step):\n",
    "        now = round(last+1/step, 1)\n",
    "        intervals.append((last, now))\n",
    "        last = now\n",
    "    \n",
    "    # get interv_i\n",
    "    for interv_i, interv in enumerate(intervals):\n",
    "        if interv[0] <= score < interv[1]:\n",
    "            return interv_i"
   ]
  },
  {
   "cell_type": "code",
   "execution_count": 44,
   "metadata": {},
   "outputs": [],
   "source": [
    "def createLabels(data):\n",
    "    all_height = 0\n",
    "    for item in data:\n",
    "        all_height += item.get_height()\n",
    "    for item in data:\n",
    "        height = item.get_height()\n",
    "        plt.text(\n",
    "            item.get_x()+item.get_width()/2., \n",
    "            height*1.05, \n",
    "            '{}% ({})'.format(int(height/all_height*100), int(height)),\n",
    "            ha = \"center\",\n",
    "            va = \"bottom\",\n",
    "        )"
   ]
  },
  {
   "cell_type": "code",
   "execution_count": 45,
   "metadata": {},
   "outputs": [],
   "source": [
    "intervals = get_interval_span()"
   ]
  },
  {
   "cell_type": "code",
   "execution_count": 46,
   "metadata": {},
   "outputs": [],
   "source": [
    "interv_scores_p = [0] * 10\n",
    "interv_scores_n = [0] * 10\n",
    "interv_scores_answer = [0] * 10\n",
    "interv_scores_not_answer = [0] * 10\n",
    "for document in eval_data:\n",
    "    for question in document['QUESTIONS']:\n",
    "        if not question['SHINT']:\n",
    "            continue\n",
    "        for sent_i, sp_score in enumerate(question['sp_scores']):\n",
    "            if sent_i in question['SHINT']:\n",
    "                interv_scores_p[get_interval(sp_score)] += 1\n",
    "                if sent_i in question['answer_sp']:\n",
    "                    interv_scores_answer[get_interval(sp_score)] += 1\n",
    "                else:\n",
    "                    interv_scores_not_answer[get_interval(sp_score)] += 1\n",
    "            else:\n",
    "                interv_scores_n[get_interval(sp_score)] += 1"
   ]
  },
  {
   "cell_type": "code",
   "execution_count": 47,
   "metadata": {},
   "outputs": [
    {
     "name": "stderr",
     "output_type": "stream",
     "text": [
      "I0327 03:37:28.188687 140575910225728 category.py:225] Using categorical units to plot a list of strings that are all parsable as floats or dates. If these strings should be plotted as numbers, cast to the appropriate data type before plotting.\n",
      "I0327 03:37:28.190625 140575910225728 category.py:225] Using categorical units to plot a list of strings that are all parsable as floats or dates. If these strings should be plotted as numbers, cast to the appropriate data type before plotting.\n"
     ]
    },
    {
     "data": {
      "text/plain": [
       "Text(0.5, 1.0, 'all sp')"
      ]
     },
     "execution_count": 47,
     "metadata": {},
     "output_type": "execute_result"
    },
    {
     "data": {
      "image/png": "[encoded data removed]",
      "text/plain": [
       "<Figure size 2160x432 with 1 Axes>"
      ]
     },
     "metadata": {
      "needs_background": "light"
     },
     "output_type": "display_data"
    }
   ],
   "source": [
    "plt.figure(figsize=(30, 6))\n",
    "plt.subplot(131)\n",
    "A = plt.bar([str(interv[1]) for interv in intervals], interv_scores_p)\n",
    "createLabels(A)\n",
    "plt.title('all sp')"
   ]
  },
  {
   "cell_type": "code",
   "execution_count": 48,
   "metadata": {},
   "outputs": [
    {
     "name": "stderr",
     "output_type": "stream",
     "text": [
      "I0327 03:37:28.547932 140575910225728 category.py:225] Using categorical units to plot a list of strings that are all parsable as floats or dates. If these strings should be plotted as numbers, cast to the appropriate data type before plotting.\n",
      "I0327 03:37:28.550042 140575910225728 category.py:225] Using categorical units to plot a list of strings that are all parsable as floats or dates. If these strings should be plotted as numbers, cast to the appropriate data type before plotting.\n"
     ]
    },
    {
     "data": {
      "text/plain": [
       "Text(0.5, 1.0, 'not sp')"
      ]
     },
     "execution_count": 48,
     "metadata": {},
     "output_type": "execute_result"
    },
    {
     "data": {
      "image/png": "[encoded data removed]",
      "text/plain": [
       "<Figure size 2160x432 with 1 Axes>"
      ]
     },
     "metadata": {
      "needs_background": "light"
     },
     "output_type": "display_data"
    }
   ],
   "source": [
    "plt.figure(figsize=(30, 6))\n",
    "plt.subplot(131)\n",
    "B = plt.bar([str(interv[1]) for interv in intervals], interv_scores_n)\n",
    "createLabels(B)\n",
    "plt.title('not sp')"
   ]
  },
  {
   "cell_type": "code",
   "execution_count": 49,
   "metadata": {},
   "outputs": [
    {
     "name": "stderr",
     "output_type": "stream",
     "text": [
      "I0327 03:37:28.886749 140575910225728 category.py:225] Using categorical units to plot a list of strings that are all parsable as floats or dates. If these strings should be plotted as numbers, cast to the appropriate data type before plotting.\n",
      "I0327 03:37:28.888634 140575910225728 category.py:225] Using categorical units to plot a list of strings that are all parsable as floats or dates. If these strings should be plotted as numbers, cast to the appropriate data type before plotting.\n"
     ]
    },
    {
     "data": {
      "text/plain": [
       "Text(0.5, 1.0, 'answer sp')"
      ]
     },
     "execution_count": 49,
     "metadata": {},
     "output_type": "execute_result"
    },
    {
     "data": {
      "image/png": "[encoded data removed]",
      "text/plain": [
       "<Figure size 2160x432 with 1 Axes>"
      ]
     },
     "metadata": {
      "needs_background": "light"
     },
     "output_type": "display_data"
    }
   ],
   "source": [
    "plt.figure(figsize=(30, 6))\n",
    "plt.subplot(131)\n",
    "B = plt.bar([str(interv[1]) for interv in intervals], interv_scores_answer)\n",
    "createLabels(B)\n",
    "plt.title('answer sp')"
   ]
  },
  {
   "cell_type": "code",
   "execution_count": 50,
   "metadata": {},
   "outputs": [
    {
     "name": "stderr",
     "output_type": "stream",
     "text": [
      "I0327 03:37:29.218639 140575910225728 category.py:225] Using categorical units to plot a list of strings that are all parsable as floats or dates. If these strings should be plotted as numbers, cast to the appropriate data type before plotting.\n",
      "I0327 03:37:29.220345 140575910225728 category.py:225] Using categorical units to plot a list of strings that are all parsable as floats or dates. If these strings should be plotted as numbers, cast to the appropriate data type before plotting.\n"
     ]
    },
    {
     "data": {
      "text/plain": [
       "Text(0.5, 1.0, 'not answer sp')"
      ]
     },
     "execution_count": 50,
     "metadata": {},
     "output_type": "execute_result"
    },
    {
     "data": {
      "image/png": "[encoded data removed]",
      "text/plain": [
       "<Figure size 2160x432 with 1 Axes>"
      ]
     },
     "metadata": {
      "needs_background": "light"
     },
     "output_type": "display_data"
    }
   ],
   "source": [
    "plt.figure(figsize=(30, 6))\n",
    "plt.subplot(131)\n",
    "B = plt.bar([str(interv[1]) for interv in intervals], interv_scores_not_answer)\n",
    "createLabels(B)\n",
    "plt.title('not answer sp')"
   ]
  }
 ],
 "metadata": {
  "kernelspec": {
   "display_name": "Python 3",
   "language": "python",
   "name": "python3"
  },
  "language_info": {
   "codemirror_mode": {
    "name": "ipython",
    "version": 3
   },
   "file_extension": ".py",
   "mimetype": "text/x-python",
   "name": "python",
   "nbconvert_exporter": "python",
   "pygments_lexer": "ipython3",
   "version": "3.6.8"
  }
 },
 "nbformat": 4,
 "nbformat_minor": 4
}
