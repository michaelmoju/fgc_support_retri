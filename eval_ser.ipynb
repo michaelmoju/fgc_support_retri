{
 "cells": [
  {
   "cell_type": "code",
   "execution_count": 1,
   "metadata": {},
   "outputs": [
    {
     "name": "stderr",
     "output_type": "stream",
     "text": [
      "I0407 02:27:56.940594 140552974911296 file_utils.py:39] PyTorch version 1.1.0 available.\n"
     ]
    },
    {
     "data": {
      "text/plain": [
       "'/work'"
      ]
     },
     "execution_count": 1,
     "metadata": {},
     "output_type": "execute_result"
    }
   ],
   "source": [
    "import os\n",
    "import sys\n",
    "import json\n",
    "import torch\n",
    "import torchvision\n",
    "import matplotlib.pyplot as plt\n",
    "from tqdm import tqdm_notebook as tqdm\n",
    "from transformers import BertModel, BertTokenizer\n",
    "\n",
    "w_dir = %pwd\n",
    "work_dir = os.path.dirname(w_dir)\n",
    "work_dir"
   ]
  },
  {
   "cell_type": "code",
   "execution_count": 2,
   "metadata": {},
   "outputs": [],
   "source": [
    "sys.path.append(w_dir+'/fgc_support_retri')"
   ]
  },
  {
   "cell_type": "code",
   "execution_count": 3,
   "metadata": {},
   "outputs": [],
   "source": [
    "from fgc_support_retri.ser_extractor import *\n",
    "from fgc_support_retri.utils import *\n",
    "from fgc_support_retri import config\n",
    "from evaluation.fgc_eval import *\n",
    "from evaluation.eval import eval_sp_fgc, eval_fgc_atype"
   ]
  },
  {
   "cell_type": "code",
   "execution_count": 4,
   "metadata": {},
   "outputs": [],
   "source": [
    "model_folder = config.TRAINED_MODELS / \"20200406_amatch_EM+sf_lr=2e-5\" "
   ]
  },
  {
   "cell_type": "code",
   "execution_count": 5,
   "metadata": {},
   "outputs": [
    {
     "data": {
      "text/plain": [
       "PosixPath('/work/fgc_support_retri/results/trainedmodels/20200406_amatch_EM+sf_lr=2e-5')"
      ]
     },
     "execution_count": 5,
     "metadata": {},
     "output_type": "execute_result"
    }
   ],
   "source": [
    "model_folder"
   ]
  },
  {
   "cell_type": "code",
   "execution_count": 6,
   "metadata": {},
   "outputs": [
    {
     "name": "stderr",
     "output_type": "stream",
     "text": [
      "I0407 02:27:59.371538 140552974911296 tokenization_utils.py:375] loading file https://s3.amazonaws.com/models.huggingface.co/bert/bert-base-chinese-vocab.txt from cache at /root/.cache/torch/transformers/8a0c070123c1f794c42a29c6904beb7c1b8715741e235bee04aca2c7636fc83f.9b42061518a39ca00b8b52059fd2bede8daa613f8a8671500e518a8c29de8c00\n",
      "I0407 02:28:00.282514 140552974911296 configuration_utils.py:152] loading configuration file https://s3.amazonaws.com/models.huggingface.co/bert/bert-base-chinese-config.json from cache at /root/.cache/torch/transformers/8a3b1cfe5da58286e12a0f5d7d182b8d6eca88c08e26c332ee3817548cf7e60a.3767c74c8ed285531d04153fe84a0791672aff52f7249b27df341dbce09b8305\n",
      "I0407 02:28:00.285485 140552974911296 configuration_utils.py:169] Model config {\n",
      "  \"architectures\": [\n",
      "    \"BertForMaskedLM\"\n",
      "  ],\n",
      "  \"attention_probs_dropout_prob\": 0.1,\n",
      "  \"directionality\": \"bidi\",\n",
      "  \"finetuning_task\": null,\n",
      "  \"hidden_act\": \"gelu\",\n",
      "  \"hidden_dropout_prob\": 0.1,\n",
      "  \"hidden_size\": 768,\n",
      "  \"initializer_range\": 0.02,\n",
      "  \"intermediate_size\": 3072,\n",
      "  \"is_decoder\": false,\n",
      "  \"layer_norm_eps\": 1e-12,\n",
      "  \"max_position_embeddings\": 512,\n",
      "  \"num_attention_heads\": 12,\n",
      "  \"num_hidden_layers\": 12,\n",
      "  \"num_labels\": 2,\n",
      "  \"output_attentions\": false,\n",
      "  \"output_hidden_states\": false,\n",
      "  \"output_past\": true,\n",
      "  \"pooler_fc_size\": 768,\n",
      "  \"pooler_num_attention_heads\": 12,\n",
      "  \"pooler_num_fc_layers\": 3,\n",
      "  \"pooler_size_per_head\": 128,\n",
      "  \"pooler_type\": \"first_token_transform\",\n",
      "  \"pruned_heads\": {},\n",
      "  \"torchscript\": false,\n",
      "  \"type_vocab_size\": 2,\n",
      "  \"use_bfloat16\": false,\n",
      "  \"vocab_size\": 21128\n",
      "}\n",
      "\n",
      "I0407 02:28:01.163532 140552974911296 modeling_utils.py:387] loading weights file https://s3.amazonaws.com/models.huggingface.co/bert/bert-base-chinese-pytorch_model.bin from cache at /root/.cache/torch/transformers/b1b5e295889f2d0979ede9a78ad9cb5dc6a0e25ab7f9417b315f0a2c22f4683d.929717ca66a3ba9eb9ec2f85973c6398c54c38a4faa464636a491d7a705f7eb6\n",
      "I0407 02:28:03.400875 140552974911296 modeling_utils.py:457] Weights of AmatchModel not initialized from pretrained model: ['bert.embeddings.tf_embeddings.weight', 'bert.embeddings.idf_embeddings.weight', 'bert.embeddings.amatch_embeddings.weight', 'bert.embeddings.sf_embeddings.weight', 'classifier.weight', 'classifier.bias']\n",
      "I0407 02:28:03.402264 140552974911296 modeling_utils.py:460] Weights from pretrained model not used in AmatchModel: ['cls.predictions.bias', 'cls.predictions.transform.dense.weight', 'cls.predictions.transform.dense.bias', 'cls.predictions.decoder.weight', 'cls.seq_relationship.weight', 'cls.seq_relationship.bias', 'cls.predictions.transform.LayerNorm.weight', 'cls.predictions.transform.LayerNorm.bias']\n",
      "I0407 02:28:08.984960 140552974911296 configuration_utils.py:152] loading configuration file https://s3.amazonaws.com/models.huggingface.co/bert/bert-base-chinese-config.json from cache at /root/.cache/torch/transformers/8a3b1cfe5da58286e12a0f5d7d182b8d6eca88c08e26c332ee3817548cf7e60a.3767c74c8ed285531d04153fe84a0791672aff52f7249b27df341dbce09b8305\n",
      "I0407 02:28:08.989433 140552974911296 configuration_utils.py:169] Model config {\n",
      "  \"architectures\": [\n",
      "    \"BertForMaskedLM\"\n",
      "  ],\n",
      "  \"attention_probs_dropout_prob\": 0.1,\n",
      "  \"directionality\": \"bidi\",\n",
      "  \"finetuning_task\": null,\n",
      "  \"hidden_act\": \"gelu\",\n",
      "  \"hidden_dropout_prob\": 0.1,\n",
      "  \"hidden_size\": 768,\n",
      "  \"initializer_range\": 0.02,\n",
      "  \"intermediate_size\": 3072,\n",
      "  \"is_decoder\": false,\n",
      "  \"layer_norm_eps\": 1e-12,\n",
      "  \"max_position_embeddings\": 512,\n",
      "  \"num_attention_heads\": 12,\n",
      "  \"num_hidden_layers\": 12,\n",
      "  \"num_labels\": 2,\n",
      "  \"output_attentions\": false,\n",
      "  \"output_hidden_states\": false,\n",
      "  \"output_past\": true,\n",
      "  \"pooler_fc_size\": 768,\n",
      "  \"pooler_num_attention_heads\": 12,\n",
      "  \"pooler_num_fc_layers\": 3,\n",
      "  \"pooler_size_per_head\": 128,\n",
      "  \"pooler_type\": \"first_token_transform\",\n",
      "  \"pruned_heads\": {},\n",
      "  \"torchscript\": false,\n",
      "  \"type_vocab_size\": 2,\n",
      "  \"use_bfloat16\": false,\n",
      "  \"vocab_size\": 21128\n",
      "}\n",
      "\n",
      "I0407 02:28:09.869294 140552974911296 modeling_utils.py:387] loading weights file https://s3.amazonaws.com/models.huggingface.co/bert/bert-base-chinese-pytorch_model.bin from cache at /root/.cache/torch/transformers/b1b5e295889f2d0979ede9a78ad9cb5dc6a0e25ab7f9417b315f0a2c22f4683d.929717ca66a3ba9eb9ec2f85973c6398c54c38a4faa464636a491d7a705f7eb6\n"
     ]
    }
   ],
   "source": [
    "extractor = AMatch_extractor(model_folder, \"EM+sf\")"
   ]
  },
  {
   "cell_type": "code",
   "execution_count": 7,
   "metadata": {},
   "outputs": [],
   "source": [
    "eval_data = json_load(config.FGC_TEST)"
   ]
  },
  {
   "cell_type": "code",
   "execution_count": 8,
   "metadata": {},
   "outputs": [
    {
     "name": "stderr",
     "output_type": "stream",
     "text": [
      "100%|██████████| 193/193 [00:00<00:00, 26070.88it/s]\n"
     ]
    }
   ],
   "source": [
    "get_answer_sp(eval_data, force=True)"
   ]
  },
  {
   "cell_type": "code",
   "execution_count": 9,
   "metadata": {},
   "outputs": [
    {
     "name": "stderr",
     "output_type": "stream",
     "text": [
      "100%|██████████| 193/193 [02:10<00:00,  1.09s/it]\n"
     ]
    }
   ],
   "source": [
    "all_sp_predictions = []\n",
    "all_atype_predictions = []\n",
    "all_items = []\n",
    "for d in tqdm(eval_data):\n",
    "    for q in d['QUESTIONS']:\n",
    "        sp_preds = []\n",
    "        sp_scores = []\n",
    "        sp_preds, _, sp_scores = extractor.predict(q, d)\n",
    "        assert sp_preds != []\n",
    "        assert sp_scores != []\n",
    "        q['sp'] = sp_preds\n",
    "        q['sp_scores'] = sp_scores"
   ]
  },
  {
   "cell_type": "code",
   "execution_count": 10,
   "metadata": {},
   "outputs": [
    {
     "name": "stderr",
     "output_type": "stream",
     "text": [
      "100%|██████████| 193/193 [00:00<00:00, 81949.86it/s]\n"
     ]
    }
   ],
   "source": [
    "all_items, all_sp_predictions, all_answer_sp = eval_from_threshold(eval_data, threshold=0.5)"
   ]
  },
  {
   "cell_type": "code",
   "execution_count": 11,
   "metadata": {},
   "outputs": [
    {
     "name": "stdout",
     "output_type": "stream",
     "text": [
      "{'sp_em': 0.258, 'sp_prec': 0.737, 'sp_recall': 0.678, 'sp_f1': 0.651}\n"
     ]
    }
   ],
   "source": [
    "metrics = eval_sp_fgc(all_items, all_sp_predictions)"
   ]
  },
  {
   "cell_type": "code",
   "execution_count": 12,
   "metadata": {},
   "outputs": [
    {
     "name": "stdout",
     "output_type": "stream",
     "text": [
      "{'sp_em': 0.226, 'sp_prec': 0.515, 'sp_recall': 0.713, 'sp_f1': 0.534}\n"
     ]
    }
   ],
   "source": [
    "metrics = eval_sp_fgc(all_answer_sp, all_sp_predictions)"
   ]
  },
  {
   "cell_type": "code",
   "execution_count": 13,
   "metadata": {},
   "outputs": [],
   "source": [
    "from fgc_support_retri.extractor_stage2 import *"
   ]
  },
  {
   "cell_type": "code",
   "execution_count": 14,
   "metadata": {},
   "outputs": [
    {
     "name": "stderr",
     "output_type": "stream",
     "text": [
      "100%|██████████| 193/193 [00:00<00:00, 7358.90it/s]\n"
     ]
    }
   ],
   "source": [
    "all_sp_predictions = []\n",
    "all_atype_predictions = []\n",
    "all_items = []\n",
    "for d in tqdm(eval_data):\n",
    "    for q in d['QUESTIONS']:\n",
    "        sp2, sp2_scores = stage2_extract(d, q['sp'], q['sp_scores'])\n",
    "        q['sp'] = sp2\n",
    "        q['sp_scores'] = sp2_scores"
   ]
  },
  {
   "cell_type": "code",
   "execution_count": 15,
   "metadata": {},
   "outputs": [
    {
     "name": "stderr",
     "output_type": "stream",
     "text": [
      "100%|██████████| 193/193 [00:00<00:00, 56926.91it/s]\n"
     ]
    }
   ],
   "source": [
    "all_items, all_sp_predictions, all_answer_sp = eval_from_threshold(eval_data, threshold=0.5)"
   ]
  },
  {
   "cell_type": "code",
   "execution_count": 16,
   "metadata": {},
   "outputs": [
    {
     "name": "stdout",
     "output_type": "stream",
     "text": [
      "{'sp_em': 0.126, 'sp_prec': 0.586, 'sp_recall': 0.721, 'sp_f1': 0.597}\n"
     ]
    }
   ],
   "source": [
    "metrics = eval_sp_fgc(all_items, all_sp_predictions)"
   ]
  },
  {
   "cell_type": "code",
   "execution_count": 17,
   "metadata": {},
   "outputs": [
    {
     "name": "stdout",
     "output_type": "stream",
     "text": [
      "{'sp_em': 0.095, 'sp_prec': 0.392, 'sp_recall': 0.745, 'sp_f1': 0.461}\n"
     ]
    }
   ],
   "source": [
    "metrics = eval_sp_fgc(all_answer_sp, all_sp_predictions)"
   ]
  },
  {
   "cell_type": "code",
   "execution_count": 18,
   "metadata": {},
   "outputs": [],
   "source": [
    "def get_sent_ie(sp_i, d):\n",
    "    out_string = \"\"\n",
    "    out_string += \"sentence{}\".format(sp_i) + '\\n'\n",
    "    out_string += d['SENTS'][sp_i]['text'] + '\\n'\n",
    "    for e in d['SENTS'][sp_i]['IE']['NER']:\n",
    "        out_string += str(e) + '\\n'\n",
    "    return out_string"
   ]
  },
  {
   "cell_type": "code",
   "execution_count": 19,
   "metadata": {},
   "outputs": [],
   "source": [
    "def print_analysis_from_qid(qid, data):\n",
    "    for d_i, d in enumerate(data):\n",
    "        for q in d['QUESTIONS']:\n",
    "            if q['QID'] == qid:\n",
    "                print('d_i:{}'.format(d_i))\n",
    "                print(q['QID'])\n",
    "                print(q['QTEXT_CN'])\n",
    "                print(q['sp_scores'])\n",
    "                print(\"sent_len:{}\".format(len(d['SENTS'])))\n",
    "                print(\"atype:{}\".format(q['ATYPE']))\n",
    "                print(\"SHINT:{}\".format(q['SHINT']))\n",
    "                print(\"answer_sp:{}\".format(q['answer_sp']))\n",
    "                print(\"sp:{}\".format(q['sp']))\n",
    "                print()\n",
    "                all_set = set(q['SHINT']) | set(q['sp'])\n",
    "                for sp_i in range(min(all_set), max(all_set) + 1):\n",
    "                    print(q['sp_scores'][sp_i])\n",
    "                    print(get_sent_ie(sp_i, d))"
   ]
  },
  {
   "cell_type": "code",
   "execution_count": 20,
   "metadata": {},
   "outputs": [
    {
     "name": "stdout",
     "output_type": "stream",
     "text": [
      "d_i:28\n",
      "D031Q01\n",
      "新版的北美贸易协定英文简称为何?\n",
      "[0.020742785185575485, 0.0021737413480877876, 0.0005869779852218926, 0.31520652770996094, 0.0007627905579283834, 0.015408671461045742, 0.000806327210739255, 0.07138276100158691, 0.48101547360420227, 0.000564411049708724, 0.0004469889390747994, 0.48101547360420227, 0.20939001441001892, 0.018812473863363266, 0.021793726831674576]\n",
      "sent_len:15\n",
      "atype:Object\n",
      "SHINT:[7, 14]\n",
      "answer_sp:[14]\n",
      "sp:[8]\n",
      "\n",
      "0.07138276100158691\n",
      "sentence7\n",
      "成为美、加、墨3国去年谈判以期达成一项新的北美贸易协定的重大障碍。\n",
      "{'id': 'D0-S0-M0', 'string': '美', 'type': 'GPE', 'char_b': 2, 'char_e': 3}\n",
      "{'id': 'D0-S0-M1', 'string': '加', 'type': 'GPE', 'char_b': 4, 'char_e': 5}\n",
      "{'id': 'D0-S0-M2', 'string': '墨', 'type': 'GPE', 'char_b': 6, 'char_e': 7}\n",
      "{'id': 'D0-S0-M3', 'string': '3', 'type': 'NUMBER', 'char_b': 7, 'char_e': 8}\n",
      "{'id': 'D0-S0-M4', 'string': '去年', 'type': 'DATE', 'char_b': 9, 'char_e': 11}\n",
      "{'id': 'D0-S0-M5', 'string': '一', 'type': 'NUMBER', 'char_b': 17, 'char_e': 18}\n",
      "{'id': 'D0-S0-M6', 'string': '北美', 'type': 'LOC', 'char_b': 21, 'char_e': 23}\n",
      "\n",
      "0.48101547360420227\n",
      "sentence8\n",
      "\n",
      "加拿大总理杜鲁道（Justin Trudeau）在渥太华告诉记者，\n",
      "{'id': 'D0-S0-M0', 'string': '加拿大', 'type': 'LOC', 'char_b': 1, 'char_e': 4}\n",
      "{'id': 'D0-S0-M1', 'string': '总理', 'type': 'TITLE', 'char_b': 4, 'char_e': 6}\n",
      "{'id': 'D0-S0-M2', 'string': '杜鲁道', 'type': 'PER', 'char_b': 6, 'char_e': 9}\n",
      "{'id': 'D0-S0-M3', 'string': 'Justin Trudeau', 'type': 'PER', 'char_b': 10, 'char_e': 24}\n",
      "{'id': 'D0-S0-M4', 'string': '渥太华', 'type': 'GPE', 'char_b': 26, 'char_e': 29}\n",
      "{'id': 'D0-S0-M5', 'string': '记者', 'type': 'TITLE', 'char_b': 31, 'char_e': 33}\n",
      "\n",
      "0.000564411049708724\n",
      "sentence9\n",
      "之前已有共识，\n",
      "\n",
      "0.0004469889390747994\n",
      "sentence10\n",
      "即「这些关税对彼此劳工和消费者都带来伤害」，\n",
      "\n",
      "0.48101547360420227\n",
      "sentence11\n",
      "且对新的自由贸易协定「没有多大意义」。\n",
      "\n",
      "0.20939001441001892\n",
      "sentence12\n",
      "\n",
      "「很明显地，持续对钢铝课征关税及我们的反抗手段，都代表著朝达成新的北美自由贸易协定的重大障碍。」他提到的是签署达24年之久的北美自由贸易协定（NAFTA）。\n",
      "{'id': 'D0-S0-M0', 'string': '代表', 'type': 'TITLE', 'char_b': 26, 'char_e': 28}\n",
      "{'id': 'D0-S0-M1', 'string': '北美', 'type': 'LOC', 'char_b': 34, 'char_e': 36}\n",
      "{'id': 'D0-S1-M0', 'string': '24', 'type': 'NUMBER', 'char_b': 57, 'char_e': 59}\n",
      "{'id': 'D0-S1-M1', 'string': '年', 'type': 'MISC', 'char_b': 59, 'char_e': 60}\n",
      "{'id': 'D0-S1-M2', 'string': '北美', 'type': 'LOC', 'char_b': 63, 'char_e': 65}\n",
      "\n",
      "0.018812473863363266\n",
      "sentence13\n",
      "\n",
      "杜鲁道表示：「现在我们已完全撤销这些关税，我们将与美国就正式通过（协议）的时机携手合作，我们相当乐观未来数周能有明显进展。」\n",
      "墨西哥首席谈判代表希德（Jesus Seade）也以类似推文指出，\n",
      "{'id': 'D0-S0-M0', 'string': '杜鲁道', 'type': 'PER', 'char_b': 1, 'char_e': 4}\n",
      "{'id': 'D0-S0-M1', 'string': '现在', 'type': 'DATE', 'char_b': 8, 'char_e': 10}\n",
      "{'id': 'D0-S0-M2', 'string': '美国', 'type': 'LOC', 'char_b': 26, 'char_e': 28}\n",
      "{'id': 'D0-S0-M3', 'string': '未来', 'type': 'DATE', 'char_b': 51, 'char_e': 53}\n",
      "{'id': 'D0-S1-M0', 'string': '墨西哥', 'type': 'LOC', 'char_b': 64, 'char_e': 67}\n",
      "{'id': 'D0-S1-M1', 'string': '谈判代表', 'type': 'TITLE', 'char_b': 69, 'char_e': 73}\n",
      "{'id': 'D0-S1-M2', 'string': '德', 'type': 'GPE', 'char_b': 74, 'char_e': 75}\n",
      "{'id': 'D0-S1-M3', 'string': 'Jesus Seade', 'type': 'PER', 'char_b': 76, 'char_e': 87}\n",
      "\n",
      "0.021793726831674576\n",
      "sentence14\n",
      "撤销钢铝关税「清除了达成美国-墨西哥-加拿大协定（USMCA）的障碍」。\n",
      "{'id': 'D0-S0-M0', 'string': '美国', 'type': 'LOC', 'char_b': 12, 'char_e': 14}\n",
      "{'id': 'D0-S0-M1', 'string': '墨西哥', 'type': 'LOC', 'char_b': 15, 'char_e': 18}\n",
      "{'id': 'D0-S0-M2', 'string': '加拿大', 'type': 'LOC', 'char_b': 19, 'char_e': 22}\n",
      "\n"
     ]
    }
   ],
   "source": [
    "print_analysis_from_qid('D031Q01', eval_data)"
   ]
  },
  {
   "cell_type": "markdown",
   "metadata": {},
   "source": [
    "# draw intervals"
   ]
  },
  {
   "cell_type": "code",
   "execution_count": 21,
   "metadata": {},
   "outputs": [],
   "source": [
    "def get_interval_span():\n",
    "    intervals = []\n",
    "    last = 0\n",
    "    step = 10\n",
    "    for i in range(step):\n",
    "        now = round(last+1/step, 1)\n",
    "        intervals.append((last, now))\n",
    "        last = now\n",
    "    return intervals"
   ]
  },
  {
   "cell_type": "code",
   "execution_count": 22,
   "metadata": {},
   "outputs": [],
   "source": [
    "def get_interval(score):\n",
    "    # get interval span\n",
    "    intervals = []\n",
    "    last = 0\n",
    "    step = 10\n",
    "    for i in range(step):\n",
    "        now = round(last+1/step, 1)\n",
    "        intervals.append((last, now))\n",
    "        last = now\n",
    "    \n",
    "    # get interv_i\n",
    "    for interv_i, interv in enumerate(intervals):\n",
    "        if interv[0] <= score < interv[1]:\n",
    "            return interv_i"
   ]
  },
  {
   "cell_type": "code",
   "execution_count": 23,
   "metadata": {},
   "outputs": [],
   "source": [
    "def createLabels(data):\n",
    "    all_height = 0\n",
    "    for item in data:\n",
    "        all_height += item.get_height()\n",
    "    for item in data:\n",
    "        height = item.get_height()\n",
    "        plt.text(\n",
    "            item.get_x()+item.get_width()/2., \n",
    "            height*1.05, \n",
    "            '{}% ({})'.format(int(height/all_height*100), int(height)),\n",
    "            ha = \"center\",\n",
    "            va = \"bottom\",\n",
    "        )"
   ]
  },
  {
   "cell_type": "code",
   "execution_count": 24,
   "metadata": {},
   "outputs": [],
   "source": [
    "intervals = get_interval_span()"
   ]
  },
  {
   "cell_type": "code",
   "execution_count": 25,
   "metadata": {},
   "outputs": [],
   "source": [
    "interv_scores_p = [0] * 10\n",
    "interv_scores_n = [0] * 10\n",
    "interv_scores_answer = [0] * 10\n",
    "interv_scores_not_answer = [0] * 10\n",
    "for document in eval_data:\n",
    "    for question in document['QUESTIONS']:\n",
    "        if not question['SHINT']:\n",
    "            continue\n",
    "        for sent_i, sp_score in enumerate(question['sp_scores']):\n",
    "            if sent_i in question['SHINT']:\n",
    "                interv_scores_p[get_interval(sp_score)] += 1\n",
    "                if sent_i in question['answer_sp']:\n",
    "                    interv_scores_answer[get_interval(sp_score)] += 1\n",
    "                else:\n",
    "                    interv_scores_not_answer[get_interval(sp_score)] += 1\n",
    "            else:\n",
    "                interv_scores_n[get_interval(sp_score)] += 1"
   ]
  },
  {
   "cell_type": "code",
   "execution_count": 26,
   "metadata": {},
   "outputs": [
    {
     "name": "stderr",
     "output_type": "stream",
     "text": [
      "I0406 01:52:26.908480 140300218378048 category.py:225] Using categorical units to plot a list of strings that are all parsable as floats or dates. If these strings should be plotted as numbers, cast to the appropriate data type before plotting.\n",
      "I0406 01:52:26.910680 140300218378048 category.py:225] Using categorical units to plot a list of strings that are all parsable as floats or dates. If these strings should be plotted as numbers, cast to the appropriate data type before plotting.\n"
     ]
    },
    {
     "data": {
      "text/plain": [
       "Text(0.5, 1.0, 'all sp')"
      ]
     },
     "execution_count": 26,
     "metadata": {},
     "output_type": "execute_result"
    },
    {
     "data": {
      "image/png": "[encoded data removed]",
      "text/plain": [
       "<Figure size 2160x432 with 1 Axes>"
      ]
     },
     "metadata": {
      "needs_background": "light"
     },
     "output_type": "display_data"
    }
   ],
   "source": [
    "plt.figure(figsize=(30, 6))\n",
    "plt.subplot(131)\n",
    "A = plt.bar([str(interv[1]) for interv in intervals], interv_scores_p)\n",
    "createLabels(A)\n",
    "plt.title('all sp')"
   ]
  },
  {
   "cell_type": "code",
   "execution_count": 27,
   "metadata": {},
   "outputs": [
    {
     "name": "stderr",
     "output_type": "stream",
     "text": [
      "I0406 01:52:27.244924 140300218378048 category.py:225] Using categorical units to plot a list of strings that are all parsable as floats or dates. If these strings should be plotted as numbers, cast to the appropriate data type before plotting.\n",
      "I0406 01:52:27.247107 140300218378048 category.py:225] Using categorical units to plot a list of strings that are all parsable as floats or dates. If these strings should be plotted as numbers, cast to the appropriate data type before plotting.\n"
     ]
    },
    {
     "data": {
      "text/plain": [
       "Text(0.5, 1.0, 'not sp')"
      ]
     },
     "execution_count": 27,
     "metadata": {},
     "output_type": "execute_result"
    },
    {
     "data": {
      "image/png": "[encoded data removed]",
      "text/plain": [
       "<Figure size 2160x432 with 1 Axes>"
      ]
     },
     "metadata": {
      "needs_background": "light"
     },
     "output_type": "display_data"
    }
   ],
   "source": [
    "plt.figure(figsize=(30, 6))\n",
    "plt.subplot(131)\n",
    "B = plt.bar([str(interv[1]) for interv in intervals], interv_scores_n)\n",
    "createLabels(B)\n",
    "plt.title('not sp')"
   ]
  },
  {
   "cell_type": "code",
   "execution_count": 28,
   "metadata": {},
   "outputs": [
    {
     "name": "stderr",
     "output_type": "stream",
     "text": [
      "I0406 01:52:27.554749 140300218378048 category.py:225] Using categorical units to plot a list of strings that are all parsable as floats or dates. If these strings should be plotted as numbers, cast to the appropriate data type before plotting.\n",
      "I0406 01:52:27.556846 140300218378048 category.py:225] Using categorical units to plot a list of strings that are all parsable as floats or dates. If these strings should be plotted as numbers, cast to the appropriate data type before plotting.\n"
     ]
    },
    {
     "data": {
      "text/plain": [
       "Text(0.5, 1.0, 'answer sp')"
      ]
     },
     "execution_count": 28,
     "metadata": {},
     "output_type": "execute_result"
    },
    {
     "data": {
      "image/png": "[encoded data removed]",
      "text/plain": [
       "<Figure size 2160x432 with 1 Axes>"
      ]
     },
     "metadata": {
      "needs_background": "light"
     },
     "output_type": "display_data"
    }
   ],
   "source": [
    "plt.figure(figsize=(30, 6))\n",
    "plt.subplot(131)\n",
    "B = plt.bar([str(interv[1]) for interv in intervals], interv_scores_answer)\n",
    "createLabels(B)\n",
    "plt.title('answer sp')"
   ]
  },
  {
   "cell_type": "code",
   "execution_count": 29,
   "metadata": {},
   "outputs": [
    {
     "name": "stderr",
     "output_type": "stream",
     "text": [
      "I0406 01:52:27.849059 140300218378048 category.py:225] Using categorical units to plot a list of strings that are all parsable as floats or dates. If these strings should be plotted as numbers, cast to the appropriate data type before plotting.\n",
      "I0406 01:52:27.850770 140300218378048 category.py:225] Using categorical units to plot a list of strings that are all parsable as floats or dates. If these strings should be plotted as numbers, cast to the appropriate data type before plotting.\n"
     ]
    },
    {
     "data": {
      "text/plain": [
       "Text(0.5, 1.0, 'not answer sp')"
      ]
     },
     "execution_count": 29,
     "metadata": {},
     "output_type": "execute_result"
    },
    {
     "data": {
      "image/png": "[encoded data removed]",
      "text/plain": [
       "<Figure size 2160x432 with 1 Axes>"
      ]
     },
     "metadata": {
      "needs_background": "light"
     },
     "output_type": "display_data"
    }
   ],
   "source": [
    "plt.figure(figsize=(30, 6))\n",
    "plt.subplot(131)\n",
    "B = plt.bar([str(interv[1]) for interv in intervals], interv_scores_not_answer)\n",
    "createLabels(B)\n",
    "plt.title('not answer sp')"
   ]
  },
  {
   "cell_type": "markdown",
   "metadata": {},
   "source": [
    "# Write output"
   ]
  },
  {
   "cell_type": "code",
   "execution_count": 13,
   "metadata": {},
   "outputs": [],
   "source": [
    "json_write(eval_data, 'prediction/ematch+sf_dev.json')"
   ]
  },
  {
   "cell_type": "code",
   "execution_count": null,
   "metadata": {},
   "outputs": [],
   "source": []
  }
 ],
 "metadata": {
  "kernelspec": {
   "display_name": "Python 3",
   "language": "python",
   "name": "python3"
  },
  "language_info": {
   "codemirror_mode": {
    "name": "ipython",
    "version": 3
   },
   "file_extension": ".py",
   "mimetype": "text/x-python",
   "name": "python",
   "nbconvert_exporter": "python",
   "pygments_lexer": "ipython3",
   "version": "3.6.8"
  }
 },
 "nbformat": 4,
 "nbformat_minor": 4
}
