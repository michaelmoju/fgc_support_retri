{
 "cells": [
  {
   "cell_type": "code",
   "execution_count": 1,
   "metadata": {},
   "outputs": [
    {
     "name": "stderr",
     "output_type": "stream",
     "text": [
      "I0507 06:11:05.825528 140575364511552 file_utils.py:39] PyTorch version 1.1.0 available.\n"
     ]
    },
    {
     "data": {
      "text/plain": [
       "'/work'"
      ]
     },
     "execution_count": 1,
     "metadata": {},
     "output_type": "execute_result"
    }
   ],
   "source": [
    "import os\n",
    "import sys\n",
    "import json\n",
    "import torch\n",
    "import torchvision\n",
    "import matplotlib.pyplot as plt\n",
    "from tqdm import tqdm_notebook as tqdm\n",
    "from transformers import BertModel, BertTokenizer\n",
    "\n",
    "w_dir = %pwd\n",
    "work_dir = os.path.dirname(w_dir)\n",
    "work_dir"
   ]
  },
  {
   "cell_type": "code",
   "execution_count": 2,
   "metadata": {},
   "outputs": [],
   "source": [
    "sys.path.append(w_dir+'/fgc_support_retri')"
   ]
  },
  {
   "cell_type": "code",
   "execution_count": 3,
   "metadata": {},
   "outputs": [],
   "source": [
    "from fgc_support_retri.ser_extractor import *\n",
    "from fgc_support_retri.utils import *\n",
    "from fgc_support_retri import config\n",
    "from fgc_support_retri.evaluation.fgc_eval import *\n",
    "from fgc_support_retri.evaluation.eval import eval_sp_fgc, eval_fgc_atype"
   ]
  },
  {
   "cell_type": "markdown",
   "metadata": {},
   "source": [
    "# Extract se"
   ]
  },
  {
   "cell_type": "code",
   "execution_count": 4,
   "metadata": {},
   "outputs": [],
   "source": [
    "model_name = \"20200507_ematch+sf_ansForce_down_sample\" "
   ]
  },
  {
   "cell_type": "code",
   "execution_count": 5,
   "metadata": {},
   "outputs": [],
   "source": [
    "model_folder = config.TRAINED_MODELS / model_name"
   ]
  },
  {
   "cell_type": "code",
   "execution_count": 6,
   "metadata": {},
   "outputs": [
    {
     "data": {
      "text/plain": [
       "PosixPath('/work/fgc_support_retri/results/trainedmodels/20200507_ematch+sf_ansForce_down_sample')"
      ]
     },
     "execution_count": 6,
     "metadata": {},
     "output_type": "execute_result"
    }
   ],
   "source": [
    "model_folder"
   ]
  },
  {
   "cell_type": "code",
   "execution_count": 7,
   "metadata": {},
   "outputs": [
    {
     "name": "stderr",
     "output_type": "stream",
     "text": [
      "I0507 06:11:12.187815 140575364511552 tokenization_utils.py:375] loading file https://s3.amazonaws.com/models.huggingface.co/bert/bert-base-chinese-vocab.txt from cache at /root/.cache/torch/transformers/8a0c070123c1f794c42a29c6904beb7c1b8715741e235bee04aca2c7636fc83f.9b42061518a39ca00b8b52059fd2bede8daa613f8a8671500e518a8c29de8c00\n",
      "I0507 06:11:13.096121 140575364511552 configuration_utils.py:152] loading configuration file https://s3.amazonaws.com/models.huggingface.co/bert/bert-base-chinese-config.json from cache at /root/.cache/torch/transformers/8a3b1cfe5da58286e12a0f5d7d182b8d6eca88c08e26c332ee3817548cf7e60a.f12a4f986e43d8b328f5b067a641064d67b91597567a06c7b122d1ca7dfd9741\n",
      "I0507 06:11:13.099203 140575364511552 configuration_utils.py:169] Model config {\n",
      "  \"architectures\": [\n",
      "    \"BertForMaskedLM\"\n",
      "  ],\n",
      "  \"attention_probs_dropout_prob\": 0.1,\n",
      "  \"directionality\": \"bidi\",\n",
      "  \"finetuning_task\": null,\n",
      "  \"hidden_act\": \"gelu\",\n",
      "  \"hidden_dropout_prob\": 0.1,\n",
      "  \"hidden_size\": 768,\n",
      "  \"initializer_range\": 0.02,\n",
      "  \"intermediate_size\": 3072,\n",
      "  \"is_decoder\": false,\n",
      "  \"layer_norm_eps\": 1e-12,\n",
      "  \"max_position_embeddings\": 512,\n",
      "  \"model_type\": \"bert\",\n",
      "  \"num_attention_heads\": 12,\n",
      "  \"num_hidden_layers\": 12,\n",
      "  \"num_labels\": 2,\n",
      "  \"output_attentions\": false,\n",
      "  \"output_hidden_states\": false,\n",
      "  \"output_past\": true,\n",
      "  \"pad_token_id\": 0,\n",
      "  \"pooler_fc_size\": 768,\n",
      "  \"pooler_num_attention_heads\": 12,\n",
      "  \"pooler_num_fc_layers\": 3,\n",
      "  \"pooler_size_per_head\": 128,\n",
      "  \"pooler_type\": \"first_token_transform\",\n",
      "  \"pruned_heads\": {},\n",
      "  \"torchscript\": false,\n",
      "  \"type_vocab_size\": 2,\n",
      "  \"use_bfloat16\": false,\n",
      "  \"vocab_size\": 21128\n",
      "}\n",
      "\n",
      "I0507 06:11:13.957859 140575364511552 modeling_utils.py:387] loading weights file https://s3.amazonaws.com/models.huggingface.co/bert/bert-base-chinese-pytorch_model.bin from cache at /root/.cache/torch/transformers/b1b5e295889f2d0979ede9a78ad9cb5dc6a0e25ab7f9417b315f0a2c22f4683d.929717ca66a3ba9eb9ec2f85973c6398c54c38a4faa464636a491d7a705f7eb6\n",
      "I0507 06:11:16.320254 140575364511552 modeling_utils.py:457] Weights of EntityMatchModel not initialized from pretrained model: ['bert.embeddings.tf_embeddings.weight', 'bert.embeddings.idf_embeddings.weight', 'bert.embeddings.ae_match_embeddings.weight', 'bert.embeddings.sf_embeddings.weight', 'classifier.weight', 'classifier.bias']\n",
      "I0507 06:11:16.321517 140575364511552 modeling_utils.py:460] Weights from pretrained model not used in EntityMatchModel: ['cls.predictions.bias', 'cls.predictions.transform.dense.weight', 'cls.predictions.transform.dense.bias', 'cls.predictions.decoder.weight', 'cls.seq_relationship.weight', 'cls.seq_relationship.bias', 'cls.predictions.transform.LayerNorm.weight', 'cls.predictions.transform.LayerNorm.bias']\n",
      "I0507 06:11:21.945520 140575364511552 configuration_utils.py:152] loading configuration file https://s3.amazonaws.com/models.huggingface.co/bert/bert-base-chinese-config.json from cache at /root/.cache/torch/transformers/8a3b1cfe5da58286e12a0f5d7d182b8d6eca88c08e26c332ee3817548cf7e60a.f12a4f986e43d8b328f5b067a641064d67b91597567a06c7b122d1ca7dfd9741\n",
      "I0507 06:11:21.951514 140575364511552 configuration_utils.py:169] Model config {\n",
      "  \"architectures\": [\n",
      "    \"BertForMaskedLM\"\n",
      "  ],\n",
      "  \"attention_probs_dropout_prob\": 0.1,\n",
      "  \"directionality\": \"bidi\",\n",
      "  \"finetuning_task\": null,\n",
      "  \"hidden_act\": \"gelu\",\n",
      "  \"hidden_dropout_prob\": 0.1,\n",
      "  \"hidden_size\": 768,\n",
      "  \"initializer_range\": 0.02,\n",
      "  \"intermediate_size\": 3072,\n",
      "  \"is_decoder\": false,\n",
      "  \"layer_norm_eps\": 1e-12,\n",
      "  \"max_position_embeddings\": 512,\n",
      "  \"model_type\": \"bert\",\n",
      "  \"num_attention_heads\": 12,\n",
      "  \"num_hidden_layers\": 12,\n",
      "  \"num_labels\": 2,\n",
      "  \"output_attentions\": false,\n",
      "  \"output_hidden_states\": false,\n",
      "  \"output_past\": true,\n",
      "  \"pad_token_id\": 0,\n",
      "  \"pooler_fc_size\": 768,\n",
      "  \"pooler_num_attention_heads\": 12,\n",
      "  \"pooler_num_fc_layers\": 3,\n",
      "  \"pooler_size_per_head\": 128,\n",
      "  \"pooler_type\": \"first_token_transform\",\n",
      "  \"pruned_heads\": {},\n",
      "  \"torchscript\": false,\n",
      "  \"type_vocab_size\": 2,\n",
      "  \"use_bfloat16\": false,\n",
      "  \"vocab_size\": 21128\n",
      "}\n",
      "\n",
      "I0507 06:11:22.811904 140575364511552 modeling_utils.py:387] loading weights file https://s3.amazonaws.com/models.huggingface.co/bert/bert-base-chinese-pytorch_model.bin from cache at /root/.cache/torch/transformers/b1b5e295889f2d0979ede9a78ad9cb5dc6a0e25ab7f9417b315f0a2c22f4683d.929717ca66a3ba9eb9ec2f85973c6398c54c38a4faa464636a491d7a705f7eb6\n"
     ]
    }
   ],
   "source": [
    "extractor = EntityMatch_extractor(model_folder, 'sf')"
   ]
  },
  {
   "cell_type": "code",
   "execution_count": 8,
   "metadata": {},
   "outputs": [],
   "source": [
    "data = json_load(config.FGC_DEV)"
   ]
  },
  {
   "cell_type": "code",
   "execution_count": 9,
   "metadata": {},
   "outputs": [
    {
     "name": "stderr",
     "output_type": "stream",
     "text": [
      "100%|██████████| 247/247 [00:00<00:00, 18948.20it/s]\n"
     ]
    }
   ],
   "source": [
    "get_answer_sp(data, force=True)"
   ]
  },
  {
   "cell_type": "code",
   "execution_count": 76,
   "metadata": {},
   "outputs": [
    {
     "name": "stderr",
     "output_type": "stream",
     "text": [
      "100%|██████████| 247/247 [03:49<00:00,  1.06s/it]\n"
     ]
    }
   ],
   "source": [
    "all_sp_predictions = []\n",
    "all_atype_predictions = []\n",
    "all_items = []\n",
    "for d in tqdm(data):\n",
    "    for q in d['QUESTIONS']:\n",
    "        if not q['SHINT_']:\n",
    "            continue\n",
    "        sp_preds = []\n",
    "        sp_scores = []\n",
    "        sp_preds, _, sp_scores = extractor.predict_stage1(q, d)\n",
    "        assert sp_preds != []\n",
    "        assert sp_scores != []\n",
    "        q['sp'] = sp_preds\n",
    "        q['sp_scores'] = sp_scores"
   ]
  },
  {
   "cell_type": "code",
   "execution_count": 77,
   "metadata": {},
   "outputs": [
    {
     "name": "stderr",
     "output_type": "stream",
     "text": [
      "100%|██████████| 247/247 [00:00<00:00, 31286.60it/s]\n"
     ]
    }
   ],
   "source": [
    "all_items, all_sp_predictions, all_answer_sp = eval_from_threshold(data, threshold=0.5)"
   ]
  },
  {
   "cell_type": "code",
   "execution_count": 78,
   "metadata": {},
   "outputs": [
    {
     "name": "stdout",
     "output_type": "stream",
     "text": [
      "{'sp_em': 0.088, 'sp_prec': 0.442, 'sp_recall': 0.793, 'sp_f1': 0.493}\n"
     ]
    }
   ],
   "source": [
    "metrics = eval_sp_fgc(all_items, all_sp_predictions)"
   ]
  },
  {
   "cell_type": "code",
   "execution_count": 79,
   "metadata": {},
   "outputs": [
    {
     "name": "stdout",
     "output_type": "stream",
     "text": [
      "{'sp_em': 0.1, 'sp_prec': 0.34, 'sp_recall': 0.912, 'sp_f1': 0.419}\n"
     ]
    }
   ],
   "source": [
    "metrics = eval_sp_fgc(all_answer_sp, all_sp_predictions)"
   ]
  },
  {
   "cell_type": "code",
   "execution_count": 80,
   "metadata": {},
   "outputs": [
    {
     "data": {
      "text/plain": [
       "239"
      ]
     },
     "execution_count": 80,
     "metadata": {},
     "output_type": "execute_result"
    }
   ],
   "source": [
    "len(all_items)"
   ]
  },
  {
   "cell_type": "markdown",
   "metadata": {},
   "source": [
    "# Try covering rate"
   ]
  },
  {
   "cell_type": "code",
   "execution_count": 15,
   "metadata": {},
   "outputs": [
    {
     "name": "stderr",
     "output_type": "stream",
     "text": [
      "100%|██████████| 247/247 [00:00<00:00, 28635.21it/s]\n"
     ]
    }
   ],
   "source": [
    "import copy\n",
    "try_data = copy.deepcopy(data)\n",
    "\n",
    "for d in tqdm(try_data):\n",
    "    for q in d['QUESTIONS']:\n",
    "        if not q['SHINT_']:\n",
    "            continue\n",
    "        sp_preds = []\n",
    "        sp_scores = []\n",
    "        orig_sp = q['sp']\n",
    "        orig_scores = q['sp_scores']\n",
    "        \n",
    "        neighbor_pairs = get_target_s(orig_sp, len(d['SENTS']), window=1, bidirectional=False)\n",
    "        sp2_set = set([t for _, t in neighbor_pairs])\n",
    "        sp_preds = list(set(orig_sp).union(sp2_set))\n",
    "        sp_preds.sort()\n",
    "        for i in sp_preds:\n",
    "            orig_scores[i] = 1.0\n",
    "        sp_scores = orig_scores\n",
    "        assert sp_preds != []\n",
    "        assert sp_scores != []\n",
    "        q['sp'] = sp_preds\n",
    "        q['sp_scores'] = sp_scores"
   ]
  },
  {
   "cell_type": "code",
   "execution_count": 16,
   "metadata": {},
   "outputs": [
    {
     "name": "stderr",
     "output_type": "stream",
     "text": [
      "100%|██████████| 247/247 [00:00<00:00, 45600.29it/s]\n"
     ]
    }
   ],
   "source": [
    "all_items, all_sp_predictions, all_answer_sp = eval_from_threshold(try_data, threshold=0.5)"
   ]
  },
  {
   "cell_type": "code",
   "execution_count": 17,
   "metadata": {},
   "outputs": [
    {
     "name": "stdout",
     "output_type": "stream",
     "text": [
      "{'sp_em': 0.013, 'sp_prec': 0.255, 'sp_recall': 0.89, 'sp_f1': 0.354}\n",
      "{'sp_em': 0.008, 'sp_prec': 0.176, 'sp_recall': 0.936, 'sp_f1': 0.26}\n"
     ]
    }
   ],
   "source": [
    "metrics = eval_sp_fgc(all_items, all_sp_predictions)\n",
    "metrics = eval_sp_fgc(all_answer_sp, all_sp_predictions)"
   ]
  },
  {
   "cell_type": "markdown",
   "metadata": {},
   "source": [
    "# Write analysis"
   ]
  },
  {
   "cell_type": "code",
   "execution_count": 19,
   "metadata": {},
   "outputs": [],
   "source": [
    "write_analysis(model_name +'_ForceAns+Dwn_sample.txt', data, 'all')"
   ]
  },
  {
   "cell_type": "markdown",
   "metadata": {},
   "source": [
    "# Draw intervals"
   ]
  },
  {
   "cell_type": "code",
   "execution_count": 20,
   "metadata": {},
   "outputs": [],
   "source": [
    "def get_interval_span():\n",
    "    intervals = []\n",
    "    last = 0\n",
    "    step = 10\n",
    "    for i in range(step):\n",
    "        now = round(last+1/step, 1)\n",
    "        intervals.append((last, now))\n",
    "        last = now\n",
    "    return intervals"
   ]
  },
  {
   "cell_type": "code",
   "execution_count": 21,
   "metadata": {},
   "outputs": [],
   "source": [
    "def get_interval(score):\n",
    "    # get interval span\n",
    "    intervals = []\n",
    "    last = 0\n",
    "    step = 10\n",
    "    for i in range(step):\n",
    "        now = round(last+1/step, 1)\n",
    "        intervals.append((last, now))\n",
    "        last = now\n",
    "    \n",
    "    # get interv_i\n",
    "    for interv_i, interv in enumerate(intervals):\n",
    "        if interv[0] <= score < interv[1]:\n",
    "            return interv_i\n",
    "    if score == 1:\n",
    "        return step-1"
   ]
  },
  {
   "cell_type": "code",
   "execution_count": 22,
   "metadata": {},
   "outputs": [],
   "source": [
    "def createLabels(data):\n",
    "    all_height = 0\n",
    "    for item in data:\n",
    "        all_height += item.get_height()\n",
    "    for item in data:\n",
    "        height = item.get_height()\n",
    "        plt.text(\n",
    "            item.get_x()+item.get_width()/2., \n",
    "            height*1.05, \n",
    "            '{}% ({})'.format(int(height/all_height*100), int(height)),\n",
    "            ha = \"center\",\n",
    "            va = \"bottom\",\n",
    "        )"
   ]
  },
  {
   "cell_type": "code",
   "execution_count": 23,
   "metadata": {},
   "outputs": [],
   "source": [
    "intervals = get_interval_span()"
   ]
  },
  {
   "cell_type": "code",
   "execution_count": 24,
   "metadata": {},
   "outputs": [],
   "source": [
    "split_data = split_data_by_atype(data)"
   ]
  },
  {
   "cell_type": "code",
   "execution_count": 25,
   "metadata": {},
   "outputs": [
    {
     "data": {
      "text/plain": [
       "dict_keys(['Person', 'Date-Duration', 'Location', 'Organization', 'Num-Measure', 'YesNo', 'Kinship', 'Event', 'Object', 'Misc'])"
      ]
     },
     "execution_count": 25,
     "metadata": {},
     "output_type": "execute_result"
    }
   ],
   "source": [
    "split_data.keys()"
   ]
  },
  {
   "cell_type": "code",
   "execution_count": 26,
   "metadata": {},
   "outputs": [],
   "source": [
    "defined_data = []\n",
    "undefined_data = []\n",
    "not_yesno_data = []\n",
    "for atype in ATYPE_LIST:\n",
    "    if atype in atype2etype:\n",
    "        defined_data += split_data[atype]\n",
    "    else:\n",
    "        undefined_data += split_data[atype]\n",
    "    if atype != 'YesNo':\n",
    "        not_yesno_data += split_data[atype]"
   ]
  },
  {
   "cell_type": "code",
   "execution_count": 27,
   "metadata": {},
   "outputs": [],
   "source": [
    "data_to_eval = data"
   ]
  },
  {
   "cell_type": "code",
   "execution_count": 28,
   "metadata": {},
   "outputs": [
    {
     "data": {
      "text/plain": [
       "247"
      ]
     },
     "execution_count": 28,
     "metadata": {},
     "output_type": "execute_result"
    }
   ],
   "source": [
    "len(data_to_eval)"
   ]
  },
  {
   "cell_type": "code",
   "execution_count": 29,
   "metadata": {},
   "outputs": [],
   "source": [
    "def eval_data(data):\n",
    "    gold_se = []\n",
    "    gold_answer_se = []\n",
    "    predict_se = []\n",
    "    for d in tqdm(data):\n",
    "        for q in d['QUESTIONS']:\n",
    "            if not q['SHINT_']:\n",
    "                continue\n",
    "            gold_se.append(q['SHINT_'])\n",
    "            gold_answer_se.append(q['answer_sp'])\n",
    "            predict_se.append(q['sp'])\n",
    "    print(\"{} data\".format(len(predict_se)))\n",
    "    print(\"all se\")\n",
    "    print(eval_sp_fgc(gold_se, predict_se))\n",
    "    print(\"anser_se\")\n",
    "    print(eval_sp_fgc(gold_answer_se, predict_se))"
   ]
  },
  {
   "cell_type": "code",
   "execution_count": 30,
   "metadata": {},
   "outputs": [
    {
     "name": "stderr",
     "output_type": "stream",
     "text": [
      "100%|██████████| 247/247 [00:00<00:00, 112497.89it/s]"
     ]
    },
    {
     "name": "stdout",
     "output_type": "stream",
     "text": [
      "239 data\n",
      "all se\n",
      "{'sp_em': 0.071, 'sp_prec': 0.371, 'sp_recall': 0.84, 'sp_f1': 0.456}\n",
      "{'sp_em': 0.071, 'sp_prec': 0.371, 'sp_recall': 0.84, 'sp_f1': 0.456}\n",
      "anser_se\n",
      "{'sp_em': 0.046, 'sp_prec': 0.269, 'sp_recall': 0.92, 'sp_f1': 0.36}\n",
      "{'sp_em': 0.046, 'sp_prec': 0.269, 'sp_recall': 0.92, 'sp_f1': 0.36}\n"
     ]
    },
    {
     "name": "stderr",
     "output_type": "stream",
     "text": [
      "\n"
     ]
    }
   ],
   "source": [
    "eval_data(data_to_eval)"
   ]
  },
  {
   "cell_type": "code",
   "execution_count": 60,
   "metadata": {},
   "outputs": [],
   "source": [
    "interv_scores_p = [0] * 10\n",
    "interv_scores_n = [0] * 10\n",
    "interv_scores_answer = [0] * 10\n",
    "interv_scores_not_answer = [0] * 10\n",
    "\n",
    "low_score_data = set()\n",
    "miss_answer_se_set = set()\n",
    "\n",
    "for d_i, document in enumerate(data_to_eval):\n",
    "    for q in document['QUESTIONS']:\n",
    "        if not q['SHINT_']:\n",
    "            continue\n",
    "        if q['ATYPE_'] == 'YesNo':\n",
    "            continue\n",
    "        for sent_i, sp_score in enumerate(q['sp_scores']):\n",
    "            if sent_i in q['SHINT_']:\n",
    "                interv_scores_p[get_interval(sp_score)] += 1\n",
    "                if sent_i in q['answer_sp']:\n",
    "                    interv_scores_answer[get_interval(sp_score)] += 1\n",
    "                    if (get_interval(sp_score) == 0 or get_interval(sp_score) == 1):\n",
    "                        low_score_data.add(d_i)\n",
    "                    if sent_i not in q['sp']:\n",
    "                        miss_answer_se_set.add(d_i)\n",
    "                else:\n",
    "                    interv_scores_not_answer[get_interval(sp_score)] += 1\n",
    "            else:\n",
    "                interv_scores_n[get_interval(sp_score)] += 1"
   ]
  },
  {
   "cell_type": "code",
   "execution_count": 61,
   "metadata": {},
   "outputs": [
    {
     "data": {
      "text/plain": [
       "[56, 6, 3, 4, 4, 4, 8, 9, 14, 371]"
      ]
     },
     "execution_count": 61,
     "metadata": {},
     "output_type": "execute_result"
    }
   ],
   "source": [
    "interv_scores_p"
   ]
  },
  {
   "cell_type": "code",
   "execution_count": 62,
   "metadata": {},
   "outputs": [
    {
     "name": "stderr",
     "output_type": "stream",
     "text": [
      "I0507 06:30:56.036743 140575364511552 category.py:225] Using categorical units to plot a list of strings that are all parsable as floats or dates. If these strings should be plotted as numbers, cast to the appropriate data type before plotting.\n",
      "I0507 06:30:56.038942 140575364511552 category.py:225] Using categorical units to plot a list of strings that are all parsable as floats or dates. If these strings should be plotted as numbers, cast to the appropriate data type before plotting.\n"
     ]
    },
    {
     "data": {
      "text/plain": [
       "Text(0.5, 1.0, 'all SE')"
      ]
     },
     "execution_count": 62,
     "metadata": {},
     "output_type": "execute_result"
    },
    {
     "data": {
      "image/png": "[encoded data removed]",
      "text/plain": [
       "<Figure size 2160x432 with 1 Axes>"
      ]
     },
     "metadata": {
      "needs_background": "light"
     },
     "output_type": "display_data"
    }
   ],
   "source": [
    "plt.figure(figsize=(30, 6))\n",
    "plt.subplot(131)\n",
    "A = plt.bar([str(interv[1]) for interv in intervals], interv_scores_p)\n",
    "createLabels(A)\n",
    "plt.title('all SE')"
   ]
  },
  {
   "cell_type": "code",
   "execution_count": 63,
   "metadata": {},
   "outputs": [
    {
     "name": "stderr",
     "output_type": "stream",
     "text": [
      "I0507 06:30:56.868125 140575364511552 category.py:225] Using categorical units to plot a list of strings that are all parsable as floats or dates. If these strings should be plotted as numbers, cast to the appropriate data type before plotting.\n",
      "I0507 06:30:56.870328 140575364511552 category.py:225] Using categorical units to plot a list of strings that are all parsable as floats or dates. If these strings should be plotted as numbers, cast to the appropriate data type before plotting.\n"
     ]
    },
    {
     "data": {
      "text/plain": [
       "Text(0.5, 1.0, 'not SE')"
      ]
     },
     "execution_count": 63,
     "metadata": {},
     "output_type": "execute_result"
    },
    {
     "data": {
      "image/png": "[encoded data removed]",
      "text/plain": [
       "<Figure size 2160x432 with 1 Axes>"
      ]
     },
     "metadata": {
      "needs_background": "light"
     },
     "output_type": "display_data"
    }
   ],
   "source": [
    "plt.figure(figsize=(30, 6))\n",
    "plt.subplot(131)\n",
    "B = plt.bar([str(interv[1]) for interv in intervals], interv_scores_n)\n",
    "createLabels(B)\n",
    "plt.title('not SE')"
   ]
  },
  {
   "cell_type": "code",
   "execution_count": 64,
   "metadata": {},
   "outputs": [
    {
     "name": "stderr",
     "output_type": "stream",
     "text": [
      "I0507 06:30:57.644375 140575364511552 category.py:225] Using categorical units to plot a list of strings that are all parsable as floats or dates. If these strings should be plotted as numbers, cast to the appropriate data type before plotting.\n",
      "I0507 06:30:57.646412 140575364511552 category.py:225] Using categorical units to plot a list of strings that are all parsable as floats or dates. If these strings should be plotted as numbers, cast to the appropriate data type before plotting.\n"
     ]
    },
    {
     "data": {
      "text/plain": [
       "Text(0.5, 1.0, 'answer SE')"
      ]
     },
     "execution_count": 64,
     "metadata": {},
     "output_type": "execute_result"
    },
    {
     "data": {
      "image/png": "[encoded data removed]",
      "text/plain": [
       "<Figure size 2160x432 with 1 Axes>"
      ]
     },
     "metadata": {
      "needs_background": "light"
     },
     "output_type": "display_data"
    }
   ],
   "source": [
    "plt.figure(figsize=(30, 6))\n",
    "plt.subplot(131)\n",
    "B = plt.bar([str(interv[1]) for interv in intervals], interv_scores_answer)\n",
    "createLabels(B)\n",
    "plt.title('answer SE')"
   ]
  },
  {
   "cell_type": "code",
   "execution_count": 65,
   "metadata": {},
   "outputs": [
    {
     "name": "stderr",
     "output_type": "stream",
     "text": [
      "I0507 06:30:58.508523 140575364511552 category.py:225] Using categorical units to plot a list of strings that are all parsable as floats or dates. If these strings should be plotted as numbers, cast to the appropriate data type before plotting.\n",
      "I0507 06:30:58.511134 140575364511552 category.py:225] Using categorical units to plot a list of strings that are all parsable as floats or dates. If these strings should be plotted as numbers, cast to the appropriate data type before plotting.\n"
     ]
    },
    {
     "data": {
      "text/plain": [
       "Text(0.5, 1.0, 'SE but not answer SE')"
      ]
     },
     "execution_count": 65,
     "metadata": {},
     "output_type": "execute_result"
    },
    {
     "data": {
      "image/png": "[encoded data removed]",
      "text/plain": [
       "<Figure size 2160x432 with 1 Axes>"
      ]
     },
     "metadata": {
      "needs_background": "light"
     },
     "output_type": "display_data"
    }
   ],
   "source": [
    "plt.figure(figsize=(30, 6))\n",
    "plt.subplot(131)\n",
    "B = plt.bar([str(interv[1]) for interv in intervals], interv_scores_not_answer)\n",
    "createLabels(B)\n",
    "plt.title('SE but not answer SE')"
   ]
  },
  {
   "cell_type": "code",
   "execution_count": 66,
   "metadata": {},
   "outputs": [],
   "source": [
    "low_score_eval_data = [data_to_eval[i] for i in low_score_data]"
   ]
  },
  {
   "cell_type": "code",
   "execution_count": 67,
   "metadata": {},
   "outputs": [],
   "source": [
    "def clean_no_sp(data):\n",
    "    out_data = []\n",
    "    for d in data:\n",
    "        for q in d['QUESTIONS']:\n",
    "            if not q['SHINT_']:\n",
    "                continue\n",
    "            out_data.append(d)\n",
    "    return out_data"
   ]
  },
  {
   "cell_type": "code",
   "execution_count": 68,
   "metadata": {},
   "outputs": [],
   "source": [
    "data_to_eval = clean_no_sp(data_to_eval)"
   ]
  },
  {
   "cell_type": "code",
   "execution_count": 69,
   "metadata": {},
   "outputs": [
    {
     "data": {
      "text/plain": [
       "239"
      ]
     },
     "execution_count": 69,
     "metadata": {},
     "output_type": "execute_result"
    }
   ],
   "source": [
    "len(data_to_eval)"
   ]
  },
  {
   "cell_type": "code",
   "execution_count": 70,
   "metadata": {},
   "outputs": [
    {
     "data": {
      "text/plain": [
       "8"
      ]
     },
     "execution_count": 70,
     "metadata": {},
     "output_type": "execute_result"
    }
   ],
   "source": [
    "len(low_score_eval_data)"
   ]
  },
  {
   "cell_type": "code",
   "execution_count": 71,
   "metadata": {},
   "outputs": [],
   "source": [
    "low_score_split_data = split_data_by_atype(low_score_eval_data)"
   ]
  },
  {
   "cell_type": "code",
   "execution_count": 72,
   "metadata": {},
   "outputs": [],
   "source": [
    "split_eval_data = split_data_by_atype(data_to_eval)"
   ]
  },
  {
   "cell_type": "code",
   "execution_count": 73,
   "metadata": {},
   "outputs": [
    {
     "data": {
      "text/plain": [
       "8"
      ]
     },
     "execution_count": 73,
     "metadata": {},
     "output_type": "execute_result"
    }
   ],
   "source": [
    "len(low_score_data)"
   ]
  },
  {
   "cell_type": "code",
   "execution_count": 74,
   "metadata": {},
   "outputs": [
    {
     "name": "stdout",
     "output_type": "stream",
     "text": [
      "Person\n",
      "27\n",
      "Date-Duration\n",
      "26\n",
      "Location\n",
      "30\n",
      "Organization\n",
      "19\n",
      "Num-Measure\n",
      "27\n",
      "YesNo\n",
      "28\n",
      "Kinship\n",
      "27\n",
      "Event\n",
      "2\n",
      "Object\n",
      "48\n",
      "Misc\n",
      "5\n"
     ]
    }
   ],
   "source": [
    "for k in split_eval_data.keys():\n",
    "    print(k)\n",
    "    print(len(split_eval_data[k]))"
   ]
  },
  {
   "cell_type": "code",
   "execution_count": 75,
   "metadata": {},
   "outputs": [
    {
     "name": "stdout",
     "output_type": "stream",
     "text": [
      "Person\n",
      "0\n",
      "Date-Duration\n",
      "3\n",
      "Location\n",
      "0\n",
      "Organization\n",
      "0\n",
      "Num-Measure\n",
      "2\n",
      "YesNo\n",
      "0\n",
      "Kinship\n",
      "1\n",
      "Event\n",
      "1\n",
      "Object\n",
      "1\n",
      "Misc\n",
      "0\n"
     ]
    }
   ],
   "source": [
    "for k in low_score_split_data.keys():\n",
    "    print(k)\n",
    "    print(len(low_score_split_data[k]))"
   ]
  },
  {
   "cell_type": "code",
   "execution_count": 47,
   "metadata": {},
   "outputs": [],
   "source": [
    "write_analysis(model_name+'_low_score_answer2ent.txt', low_score_eval_data, 'only')"
   ]
  },
  {
   "cell_type": "code",
   "execution_count": null,
   "metadata": {},
   "outputs": [],
   "source": []
  },
  {
   "cell_type": "markdown",
   "metadata": {},
   "source": [
    "# Try extract model"
   ]
  },
  {
   "cell_type": "code",
   "execution_count": null,
   "metadata": {},
   "outputs": [],
   "source": [
    "items = [item for item in extractor.dataset_reader.get_items_in_q(q,d)]"
   ]
  },
  {
   "cell_type": "code",
   "execution_count": null,
   "metadata": {},
   "outputs": [],
   "source": [
    "len(items)"
   ]
  }
 ],
 "metadata": {
  "kernelspec": {
   "display_name": "Python 3",
   "language": "python",
   "name": "python3"
  },
  "language_info": {
   "codemirror_mode": {
    "name": "ipython",
    "version": 3
   },
   "file_extension": ".py",
   "mimetype": "text/x-python",
   "name": "python",
   "nbconvert_exporter": "python",
   "pygments_lexer": "ipython3",
   "version": "3.6.8"
  }
 },
 "nbformat": 4,
 "nbformat_minor": 4
}
