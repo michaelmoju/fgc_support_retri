{
 "cells": [
  {
   "cell_type": "code",
   "execution_count": 1,
   "metadata": {},
   "outputs": [
    {
     "name": "stderr",
     "output_type": "stream",
     "text": [
      "I0409 03:31:35.284584 140644095129408 file_utils.py:39] PyTorch version 1.1.0 available.\n"
     ]
    },
    {
     "data": {
      "text/plain": [
       "'/work'"
      ]
     },
     "execution_count": 1,
     "metadata": {},
     "output_type": "execute_result"
    }
   ],
   "source": [
    "import os\n",
    "import sys\n",
    "import json\n",
    "import torch\n",
    "import torchvision\n",
    "import matplotlib.pyplot as plt\n",
    "from tqdm import tqdm_notebook as tqdm\n",
    "from transformers import BertModel, BertTokenizer\n",
    "\n",
    "w_dir = %pwd\n",
    "work_dir = os.path.dirname(w_dir)\n",
    "work_dir"
   ]
  },
  {
   "cell_type": "code",
   "execution_count": 2,
   "metadata": {},
   "outputs": [],
   "source": [
    "sys.path.append(w_dir+'/fgc_support_retri')"
   ]
  },
  {
   "cell_type": "code",
   "execution_count": 3,
   "metadata": {},
   "outputs": [],
   "source": [
    "from fgc_support_retri.ser_extractor import *\n",
    "from fgc_support_retri.utils import *\n",
    "from fgc_support_retri import config\n",
    "from fgc_support_retri.evaluation.fgc_eval import *\n",
    "from fgc_support_retri.evaluation.eval import eval_sp_fgc, eval_fgc_atype"
   ]
  },
  {
   "cell_type": "markdown",
   "metadata": {},
   "source": [
    "# Extract se"
   ]
  },
  {
   "cell_type": "code",
   "execution_count": 4,
   "metadata": {},
   "outputs": [],
   "source": [
    "model_name = \"20200408_amatch_sf\" "
   ]
  },
  {
   "cell_type": "code",
   "execution_count": 5,
   "metadata": {},
   "outputs": [],
   "source": [
    "model_folder = config.TRAINED_MODELS / model_name"
   ]
  },
  {
   "cell_type": "code",
   "execution_count": 6,
   "metadata": {},
   "outputs": [
    {
     "data": {
      "text/plain": [
       "PosixPath('/work/fgc_support_retri/results/trainedmodels/20200408_amatch_sf')"
      ]
     },
     "execution_count": 6,
     "metadata": {},
     "output_type": "execute_result"
    }
   ],
   "source": [
    "model_folder"
   ]
  },
  {
   "cell_type": "code",
   "execution_count": 8,
   "metadata": {},
   "outputs": [
    {
     "name": "stderr",
     "output_type": "stream",
     "text": [
      "I0409 03:32:19.110354 140644095129408 tokenization_utils.py:375] loading file https://s3.amazonaws.com/models.huggingface.co/bert/bert-base-chinese-vocab.txt from cache at /root/.cache/torch/transformers/8a0c070123c1f794c42a29c6904beb7c1b8715741e235bee04aca2c7636fc83f.9b42061518a39ca00b8b52059fd2bede8daa613f8a8671500e518a8c29de8c00\n",
      "I0409 03:32:20.060270 140644095129408 configuration_utils.py:152] loading configuration file https://s3.amazonaws.com/models.huggingface.co/bert/bert-base-chinese-config.json from cache at /root/.cache/torch/transformers/8a3b1cfe5da58286e12a0f5d7d182b8d6eca88c08e26c332ee3817548cf7e60a.3767c74c8ed285531d04153fe84a0791672aff52f7249b27df341dbce09b8305\n",
      "I0409 03:32:20.062856 140644095129408 configuration_utils.py:169] Model config {\n",
      "  \"architectures\": [\n",
      "    \"BertForMaskedLM\"\n",
      "  ],\n",
      "  \"attention_probs_dropout_prob\": 0.1,\n",
      "  \"directionality\": \"bidi\",\n",
      "  \"finetuning_task\": null,\n",
      "  \"hidden_act\": \"gelu\",\n",
      "  \"hidden_dropout_prob\": 0.1,\n",
      "  \"hidden_size\": 768,\n",
      "  \"initializer_range\": 0.02,\n",
      "  \"intermediate_size\": 3072,\n",
      "  \"is_decoder\": false,\n",
      "  \"layer_norm_eps\": 1e-12,\n",
      "  \"max_position_embeddings\": 512,\n",
      "  \"num_attention_heads\": 12,\n",
      "  \"num_hidden_layers\": 12,\n",
      "  \"num_labels\": 2,\n",
      "  \"output_attentions\": false,\n",
      "  \"output_hidden_states\": false,\n",
      "  \"output_past\": true,\n",
      "  \"pooler_fc_size\": 768,\n",
      "  \"pooler_num_attention_heads\": 12,\n",
      "  \"pooler_num_fc_layers\": 3,\n",
      "  \"pooler_size_per_head\": 128,\n",
      "  \"pooler_type\": \"first_token_transform\",\n",
      "  \"pruned_heads\": {},\n",
      "  \"torchscript\": false,\n",
      "  \"type_vocab_size\": 2,\n",
      "  \"use_bfloat16\": false,\n",
      "  \"vocab_size\": 21128\n",
      "}\n",
      "\n",
      "I0409 03:32:22.037051 140644095129408 modeling_utils.py:387] loading weights file https://s3.amazonaws.com/models.huggingface.co/bert/bert-base-chinese-pytorch_model.bin from cache at /root/.cache/torch/transformers/b1b5e295889f2d0979ede9a78ad9cb5dc6a0e25ab7f9417b315f0a2c22f4683d.929717ca66a3ba9eb9ec2f85973c6398c54c38a4faa464636a491d7a705f7eb6\n",
      "I0409 03:32:24.245858 140644095129408 modeling_utils.py:457] Weights of AmatchModel not initialized from pretrained model: ['bert.embeddings.tf_embeddings.weight', 'bert.embeddings.idf_embeddings.weight', 'bert.embeddings.amatch_embeddings.weight', 'bert.embeddings.sf_embeddings.weight', 'classifier.weight', 'classifier.bias']\n",
      "I0409 03:32:24.248447 140644095129408 modeling_utils.py:460] Weights from pretrained model not used in AmatchModel: ['cls.predictions.bias', 'cls.predictions.transform.dense.weight', 'cls.predictions.transform.dense.bias', 'cls.predictions.decoder.weight', 'cls.seq_relationship.weight', 'cls.seq_relationship.bias', 'cls.predictions.transform.LayerNorm.weight', 'cls.predictions.transform.LayerNorm.bias']\n",
      "I0409 03:32:25.606673 140644095129408 configuration_utils.py:152] loading configuration file https://s3.amazonaws.com/models.huggingface.co/bert/bert-base-chinese-config.json from cache at /root/.cache/torch/transformers/8a3b1cfe5da58286e12a0f5d7d182b8d6eca88c08e26c332ee3817548cf7e60a.3767c74c8ed285531d04153fe84a0791672aff52f7249b27df341dbce09b8305\n",
      "I0409 03:32:25.609876 140644095129408 configuration_utils.py:169] Model config {\n",
      "  \"architectures\": [\n",
      "    \"BertForMaskedLM\"\n",
      "  ],\n",
      "  \"attention_probs_dropout_prob\": 0.1,\n",
      "  \"directionality\": \"bidi\",\n",
      "  \"finetuning_task\": null,\n",
      "  \"hidden_act\": \"gelu\",\n",
      "  \"hidden_dropout_prob\": 0.1,\n",
      "  \"hidden_size\": 768,\n",
      "  \"initializer_range\": 0.02,\n",
      "  \"intermediate_size\": 3072,\n",
      "  \"is_decoder\": false,\n",
      "  \"layer_norm_eps\": 1e-12,\n",
      "  \"max_position_embeddings\": 512,\n",
      "  \"num_attention_heads\": 12,\n",
      "  \"num_hidden_layers\": 12,\n",
      "  \"num_labels\": 2,\n",
      "  \"output_attentions\": false,\n",
      "  \"output_hidden_states\": false,\n",
      "  \"output_past\": true,\n",
      "  \"pooler_fc_size\": 768,\n",
      "  \"pooler_num_attention_heads\": 12,\n",
      "  \"pooler_num_fc_layers\": 3,\n",
      "  \"pooler_size_per_head\": 128,\n",
      "  \"pooler_type\": \"first_token_transform\",\n",
      "  \"pruned_heads\": {},\n",
      "  \"torchscript\": false,\n",
      "  \"type_vocab_size\": 2,\n",
      "  \"use_bfloat16\": false,\n",
      "  \"vocab_size\": 21128\n",
      "}\n",
      "\n",
      "I0409 03:32:26.519849 140644095129408 modeling_utils.py:387] loading weights file https://s3.amazonaws.com/models.huggingface.co/bert/bert-base-chinese-pytorch_model.bin from cache at /root/.cache/torch/transformers/b1b5e295889f2d0979ede9a78ad9cb5dc6a0e25ab7f9417b315f0a2c22f4683d.929717ca66a3ba9eb9ec2f85973c6398c54c38a4faa464636a491d7a705f7eb6\n"
     ]
    }
   ],
   "source": [
    "extractor = AMatch_extractor(model_folder, \"sf\")"
   ]
  },
  {
   "cell_type": "code",
   "execution_count": 9,
   "metadata": {},
   "outputs": [],
   "source": [
    "eval_data = json_load(config.FGC_DEV)"
   ]
  },
  {
   "cell_type": "code",
   "execution_count": 10,
   "metadata": {},
   "outputs": [
    {
     "name": "stderr",
     "output_type": "stream",
     "text": [
      "100%|██████████| 247/247 [00:00<00:00, 19984.05it/s]"
     ]
    },
    {
     "name": "stdout",
     "output_type": "stream",
     "text": [
      "D097Q08\n",
      "{'text': '\\n3月至8月：顾问审查小名单。', 'start': 481, 'end': 496, 'IE': {'NER': [{'id': 'D0-S0-M0', 'string': '3月', 'type': 'DATE', 'char_b': 1, 'char_e': 3}, {'id': 'D0-S0-M1', 'string': '至', 'type': 'MISC', 'char_b': 3, 'char_e': 4}, {'id': 'D0-S0-M2', 'string': '8月', 'type': 'DATE', 'char_b': 4, 'char_e': 6}, {'id': 'D0-S0-M3', 'string': '顾问', 'type': 'TITLE', 'char_b': 7, 'char_e': 9}], 'COREF': {}, 'RELATION': [], 'TOKEN': [{'word': '3月', 'char_b': 1, 'char_e': 3, 'pos': 'NT'}, {'word': '至', 'char_b': 3, 'char_e': 4, 'pos': 'CC'}, {'word': '8月', 'char_b': 4, 'char_e': 6, 'pos': 'NT'}, {'word': '：', 'char_b': 6, 'char_e': 7, 'pos': 'PU'}, {'word': '顾问', 'char_b': 7, 'char_e': 9, 'pos': 'NN'}, {'word': '审查', 'char_b': 9, 'char_e': 11, 'pos': 'VV'}, {'word': '小', 'char_b': 11, 'char_e': 12, 'pos': 'JJ'}, {'word': '名单', 'char_b': 12, 'char_e': 14, 'pos': 'NN'}, {'word': '。', 'char_b': 14, 'char_e': 15, 'pos': 'PU'}]}}\n",
      "{'text': '10月', 'text_cn': '10月', 'start': 495, 'end': 498}\n",
      "D097Q09\n",
      "{'text': '\\n10月：产生诺贝尔奖得主。', 'start': 496, 'end': 510, 'IE': {'NER': [{'id': 'D0-S0-M0', 'string': '10月', 'type': 'DATE', 'char_b': 1, 'char_e': 4}, {'id': 'D0-S0-M1', 'string': '诺贝尔奖', 'type': 'MISC', 'char_b': 7, 'char_e': 11}], 'COREF': {}, 'RELATION': [], 'TOKEN': [{'word': '10月', 'char_b': 1, 'char_e': 4, 'pos': 'NT'}, {'word': '：', 'char_b': 4, 'char_e': 5, 'pos': 'PU'}, {'word': '产生', 'char_b': 5, 'char_e': 7, 'pos': 'VV'}, {'word': '诺贝尔', 'char_b': 7, 'char_e': 10, 'pos': 'NR'}, {'word': '奖', 'char_b': 10, 'char_e': 11, 'pos': 'NN'}, {'word': '得主', 'char_b': 11, 'char_e': 13, 'pos': 'NN'}, {'word': '。', 'char_b': 13, 'char_e': 14, 'pos': 'PU'}]}}\n",
      "{'text': '12月', 'text_cn': '12月', 'start': 509, 'end': 512}\n"
     ]
    },
    {
     "name": "stderr",
     "output_type": "stream",
     "text": [
      "\n"
     ]
    }
   ],
   "source": [
    "get_answer_sp(eval_data, force=True)"
   ]
  },
  {
   "cell_type": "code",
   "execution_count": 11,
   "metadata": {},
   "outputs": [
    {
     "name": "stderr",
     "output_type": "stream",
     "text": [
      "100%|██████████| 247/247 [03:12<00:00,  1.18it/s]\n"
     ]
    }
   ],
   "source": [
    "all_sp_predictions = []\n",
    "all_atype_predictions = []\n",
    "all_items = []\n",
    "for d in tqdm(eval_data):\n",
    "    for q in d['QUESTIONS']:\n",
    "        if not q['SHINT_']:\n",
    "            continue\n",
    "        sp_preds = []\n",
    "        sp_scores = []\n",
    "        sp_preds, _, sp_scores = extractor.predict_stage1(q, d)\n",
    "        assert sp_preds != []\n",
    "        assert sp_scores != []\n",
    "        q['sp'] = sp_preds\n",
    "        q['sp_scores'] = sp_scores"
   ]
  },
  {
   "cell_type": "code",
   "execution_count": 12,
   "metadata": {},
   "outputs": [
    {
     "name": "stderr",
     "output_type": "stream",
     "text": [
      "100%|██████████| 247/247 [00:00<00:00, 40170.34it/s]\n"
     ]
    }
   ],
   "source": [
    "all_items, all_sp_predictions, all_answer_sp = eval_from_threshold(eval_data, threshold=0.5)"
   ]
  },
  {
   "cell_type": "code",
   "execution_count": 13,
   "metadata": {},
   "outputs": [
    {
     "name": "stdout",
     "output_type": "stream",
     "text": [
      "{'sp_em': 0.151, 'sp_prec': 0.61, 'sp_recall': 0.665, 'sp_f1': 0.582}\n"
     ]
    }
   ],
   "source": [
    "metrics = eval_sp_fgc(all_items, all_sp_predictions)"
   ]
  },
  {
   "cell_type": "code",
   "execution_count": 14,
   "metadata": {},
   "outputs": [
    {
     "name": "stdout",
     "output_type": "stream",
     "text": [
      "{'sp_em': 0.142, 'sp_prec': 0.392, 'sp_recall': 0.65, 'sp_f1': 0.441}\n"
     ]
    }
   ],
   "source": [
    "metrics = eval_sp_fgc(all_answer_sp, all_sp_predictions)"
   ]
  },
  {
   "cell_type": "markdown",
   "metadata": {},
   "source": [
    "# Write analysis"
   ]
  },
  {
   "cell_type": "code",
   "execution_count": 15,
   "metadata": {},
   "outputs": [],
   "source": [
    "def write_analysis(fname, data):\n",
    "    f=open(config.PREDICTION_PATH / fname, 'w')\n",
    "    f.write(get_analysis(data))\n",
    "    f.close()"
   ]
  },
  {
   "cell_type": "code",
   "execution_count": 16,
   "metadata": {},
   "outputs": [],
   "source": [
    "write_analysis(model_name +'.txt', eval_data)"
   ]
  },
  {
   "cell_type": "markdown",
   "metadata": {},
   "source": [
    "# Draw intervals"
   ]
  },
  {
   "cell_type": "code",
   "execution_count": 18,
   "metadata": {},
   "outputs": [],
   "source": [
    "def get_interval_span():\n",
    "    intervals = []\n",
    "    last = 0\n",
    "    step = 10\n",
    "    for i in range(step):\n",
    "        now = round(last+1/step, 1)\n",
    "        intervals.append((last, now))\n",
    "        last = now\n",
    "    return intervals"
   ]
  },
  {
   "cell_type": "code",
   "execution_count": 19,
   "metadata": {},
   "outputs": [],
   "source": [
    "def get_interval(score):\n",
    "    # get interval span\n",
    "    intervals = []\n",
    "    last = 0\n",
    "    step = 10\n",
    "    for i in range(step):\n",
    "        now = round(last+1/step, 1)\n",
    "        intervals.append((last, now))\n",
    "        last = now\n",
    "    \n",
    "    # get interv_i\n",
    "    for interv_i, interv in enumerate(intervals):\n",
    "        if interv[0] <= score < interv[1]:\n",
    "            return interv_i"
   ]
  },
  {
   "cell_type": "code",
   "execution_count": 20,
   "metadata": {},
   "outputs": [],
   "source": [
    "def createLabels(data):\n",
    "    all_height = 0\n",
    "    for item in data:\n",
    "        all_height += item.get_height()\n",
    "    for item in data:\n",
    "        height = item.get_height()\n",
    "        plt.text(\n",
    "            item.get_x()+item.get_width()/2., \n",
    "            height*1.05, \n",
    "            '{}% ({})'.format(int(height/all_height*100), int(height)),\n",
    "            ha = \"center\",\n",
    "            va = \"bottom\",\n",
    "        )"
   ]
  },
  {
   "cell_type": "code",
   "execution_count": 21,
   "metadata": {},
   "outputs": [],
   "source": [
    "intervals = get_interval_span()"
   ]
  },
  {
   "cell_type": "code",
   "execution_count": 22,
   "metadata": {},
   "outputs": [
    {
     "data": {
      "text/plain": [
       "[(0, 0.1),\n",
       " (0.1, 0.2),\n",
       " (0.2, 0.3),\n",
       " (0.3, 0.4),\n",
       " (0.4, 0.5),\n",
       " (0.5, 0.6),\n",
       " (0.6, 0.7),\n",
       " (0.7, 0.8),\n",
       " (0.8, 0.9),\n",
       " (0.9, 1.0)]"
      ]
     },
     "execution_count": 22,
     "metadata": {},
     "output_type": "execute_result"
    }
   ],
   "source": [
    "intervals"
   ]
  },
  {
   "cell_type": "code",
   "execution_count": 23,
   "metadata": {},
   "outputs": [],
   "source": [
    "interv_scores_p = [0] * 10\n",
    "interv_scores_n = [0] * 10\n",
    "interv_scores_answer = [0] * 10\n",
    "interv_scores_not_answer = [0] * 10\n",
    "\n",
    "low_score_data = set()\n",
    "\n",
    "for d_i, document in enumerate(eval_data):\n",
    "    for question in document['QUESTIONS']:\n",
    "        if not question['SHINT_']:\n",
    "            continue\n",
    "        for sent_i, sp_score in enumerate(question['sp_scores']):\n",
    "            if sent_i in question['SHINT_']:\n",
    "                interv_scores_p[get_interval(sp_score)] += 1\n",
    "                if sent_i in question['answer_sp']:\n",
    "                    interv_scores_answer[get_interval(sp_score)] += 1\n",
    "                    if get_interval(sp_score) == 0 or get_interval(sp_score) == 1:\n",
    "                        low_score_data.add(d_i)\n",
    "                else:\n",
    "                    interv_scores_not_answer[get_interval(sp_score)] += 1\n",
    "            else:\n",
    "                interv_scores_n[get_interval(sp_score)] += 1"
   ]
  },
  {
   "cell_type": "code",
   "execution_count": 24,
   "metadata": {},
   "outputs": [
    {
     "data": {
      "text/plain": [
       "[108, 22, 39, 17, 22, 22, 26, 48, 86, 157]"
      ]
     },
     "execution_count": 24,
     "metadata": {},
     "output_type": "execute_result"
    }
   ],
   "source": [
    "interv_scores_p"
   ]
  },
  {
   "cell_type": "code",
   "execution_count": 25,
   "metadata": {},
   "outputs": [
    {
     "name": "stderr",
     "output_type": "stream",
     "text": [
      "I0409 03:19:59.916036 140713923802944 category.py:225] Using categorical units to plot a list of strings that are all parsable as floats or dates. If these strings should be plotted as numbers, cast to the appropriate data type before plotting.\n",
      "I0409 03:19:59.918638 140713923802944 category.py:225] Using categorical units to plot a list of strings that are all parsable as floats or dates. If these strings should be plotted as numbers, cast to the appropriate data type before plotting.\n"
     ]
    },
    {
     "data": {
      "text/plain": [
       "Text(0.5, 1.0, 'all se')"
      ]
     },
     "execution_count": 25,
     "metadata": {},
     "output_type": "execute_result"
    },
    {
     "data": {
      "image/png": "[encoded data removed]",
      "text/plain": [
       "<Figure size 2160x432 with 1 Axes>"
      ]
     },
     "metadata": {
      "needs_background": "light"
     },
     "output_type": "display_data"
    }
   ],
   "source": [
    "plt.figure(figsize=(30, 6))\n",
    "plt.subplot(131)\n",
    "A = plt.bar([str(interv[1]) for interv in intervals], interv_scores_p)\n",
    "createLabels(A)\n",
    "plt.title('all se')"
   ]
  },
  {
   "cell_type": "code",
   "execution_count": 26,
   "metadata": {},
   "outputs": [
    {
     "name": "stderr",
     "output_type": "stream",
     "text": [
      "I0409 03:20:00.245388 140713923802944 category.py:225] Using categorical units to plot a list of strings that are all parsable as floats or dates. If these strings should be plotted as numbers, cast to the appropriate data type before plotting.\n",
      "I0409 03:20:00.247700 140713923802944 category.py:225] Using categorical units to plot a list of strings that are all parsable as floats or dates. If these strings should be plotted as numbers, cast to the appropriate data type before plotting.\n"
     ]
    },
    {
     "data": {
      "text/plain": [
       "Text(0.5, 1.0, 'not se')"
      ]
     },
     "execution_count": 26,
     "metadata": {},
     "output_type": "execute_result"
    },
    {
     "data": {
      "image/png": "[encoded data removed]",
      "text/plain": [
       "<Figure size 2160x432 with 1 Axes>"
      ]
     },
     "metadata": {
      "needs_background": "light"
     },
     "output_type": "display_data"
    }
   ],
   "source": [
    "plt.figure(figsize=(30, 6))\n",
    "plt.subplot(131)\n",
    "B = plt.bar([str(interv[1]) for interv in intervals], interv_scores_n)\n",
    "createLabels(B)\n",
    "plt.title('not se')"
   ]
  },
  {
   "cell_type": "code",
   "execution_count": 27,
   "metadata": {},
   "outputs": [
    {
     "name": "stderr",
     "output_type": "stream",
     "text": [
      "I0409 03:20:00.730676 140713923802944 category.py:225] Using categorical units to plot a list of strings that are all parsable as floats or dates. If these strings should be plotted as numbers, cast to the appropriate data type before plotting.\n",
      "I0409 03:20:00.732843 140713923802944 category.py:225] Using categorical units to plot a list of strings that are all parsable as floats or dates. If these strings should be plotted as numbers, cast to the appropriate data type before plotting.\n"
     ]
    },
    {
     "data": {
      "text/plain": [
       "Text(0.5, 1.0, 'answer se')"
      ]
     },
     "execution_count": 27,
     "metadata": {},
     "output_type": "execute_result"
    },
    {
     "data": {
      "image/png": "[encoded data removed]",
      "text/plain": [
       "<Figure size 2160x432 with 1 Axes>"
      ]
     },
     "metadata": {
      "needs_background": "light"
     },
     "output_type": "display_data"
    }
   ],
   "source": [
    "plt.figure(figsize=(30, 6))\n",
    "plt.subplot(131)\n",
    "B = plt.bar([str(interv[1]) for interv in intervals], interv_scores_answer)\n",
    "createLabels(B)\n",
    "plt.title('answer se')"
   ]
  },
  {
   "cell_type": "code",
   "execution_count": 28,
   "metadata": {},
   "outputs": [
    {
     "name": "stderr",
     "output_type": "stream",
     "text": [
      "I0409 03:20:01.027205 140713923802944 category.py:225] Using categorical units to plot a list of strings that are all parsable as floats or dates. If these strings should be plotted as numbers, cast to the appropriate data type before plotting.\n",
      "I0409 03:20:01.029019 140713923802944 category.py:225] Using categorical units to plot a list of strings that are all parsable as floats or dates. If these strings should be plotted as numbers, cast to the appropriate data type before plotting.\n"
     ]
    },
    {
     "data": {
      "text/plain": [
       "Text(0.5, 1.0, 'not answer se')"
      ]
     },
     "execution_count": 28,
     "metadata": {},
     "output_type": "execute_result"
    },
    {
     "data": {
      "image/png": "[encoded data removed]",
      "text/plain": [
       "<Figure size 2160x432 with 1 Axes>"
      ]
     },
     "metadata": {
      "needs_background": "light"
     },
     "output_type": "display_data"
    }
   ],
   "source": [
    "plt.figure(figsize=(30, 6))\n",
    "plt.subplot(131)\n",
    "B = plt.bar([str(interv[1]) for interv in intervals], interv_scores_not_answer)\n",
    "createLabels(B)\n",
    "plt.title('not answer se')"
   ]
  },
  {
   "cell_type": "code",
   "execution_count": 23,
   "metadata": {},
   "outputs": [],
   "source": [
    "low_score_eval_data = [eval_data[i] for i in low_score_data]"
   ]
  },
  {
   "cell_type": "code",
   "execution_count": 36,
   "metadata": {},
   "outputs": [],
   "source": [
    "json_write(low_score_eval_data, 'prediction/ematch+sf_dev_low_answer_se.json')"
   ]
  }
 ],
 "metadata": {
  "kernelspec": {
   "display_name": "Python 3",
   "language": "python",
   "name": "python3"
  },
  "language_info": {
   "codemirror_mode": {
    "name": "ipython",
    "version": 3
   },
   "file_extension": ".py",
   "mimetype": "text/x-python",
   "name": "python",
   "nbconvert_exporter": "python",
   "pygments_lexer": "ipython3",
   "version": "3.6.8"
  }
 },
 "nbformat": 4,
 "nbformat_minor": 4
}
