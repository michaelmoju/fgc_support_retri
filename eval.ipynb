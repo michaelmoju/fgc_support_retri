{
 "cells": [
  {
   "cell_type": "code",
   "execution_count": 1,
   "metadata": {
    "slideshow": {
     "slide_type": "slide"
    }
   },
   "outputs": [
    {
     "name": "stderr",
     "output_type": "stream",
     "text": [
      "I1213 05:37:22.595576 139994286315328 file_utils.py:39] PyTorch version 1.1.0 available.\n"
     ]
    },
    {
     "data": {
      "text/plain": [
       "'/work'"
      ]
     },
     "execution_count": 1,
     "metadata": {},
     "output_type": "execute_result"
    }
   ],
   "source": [
    "import os\n",
    "import sys\n",
    "import torch\n",
    "import torchvision\n",
    "from tqdm import tqdm_notebook as tqdm\n",
    "from transformers import BertModel, BertTokenizer\n",
    "\n",
    "w_dir = %pwd\n",
    "work_dir = os.path.dirname(w_dir)\n",
    "work_dir"
   ]
  },
  {
   "cell_type": "code",
   "execution_count": 2,
   "metadata": {},
   "outputs": [],
   "source": [
    "sys.path.append(w_dir+'/fgc_support_retri')"
   ]
  },
  {
   "cell_type": "code",
   "execution_count": 8,
   "metadata": {},
   "outputs": [
    {
     "name": "stderr",
     "output_type": "stream",
     "text": [
      "I1213 05:38:06.838151 139994286315328 corenlp.py:42] Using an existing server http://140.109.19.191:9000\n",
      "I1213 05:38:07.841900 139994286315328 corenlp.py:118] The server is available.\n"
     ]
    }
   ],
   "source": [
    "import config\n",
    "from fgc_support_retri.ser_extractor import *\n",
    "from fgc_support_retri.utils import * "
   ]
  },
  {
   "cell_type": "code",
   "execution_count": 9,
   "metadata": {},
   "outputs": [
    {
     "name": "stdout",
     "output_type": "stream",
     "text": [
      "no gold supporting evidence\n",
      "{'QID': 'D032Q10', 'QTYPE': '进阶题', 'QTEXT': '第二次簽訂的北美貿易協定從簽署至生效過了幾日?', 'SENTS': [{'text': '第二次签订的北美贸易协定从签署至生效过了几日?', 'start': 0, 'end': 23}], 'ANSWER': [{'ATEXT': '資訊不足無法判定', 'ATOKEN': [{'text': '资讯不足无法判定', 'start': -1}], 'ATEXT_CN': '资讯不足无法判定'}], 'ATYPE': 'Date-Duration', 'AMODE': 'Date-Duration', 'ASPAN': [], 'SHINT': [], 'QTEXT_CN': '第二次签订的北美贸易协定从签署至生效过了几日?'}\n",
      "no gold supporting evidence\n",
      "{'QID': 'D049Q04', 'QTYPE': '申论', 'QTEXT': '「雅婷逐字稿」的命名起源為何?', 'SENTS': [{'text': '「雅婷逐字稿」的命名起源为何?', 'start': 0, 'end': 15}], 'ANSWER': [{'ATEXT': '', 'ATOKEN': [{'text': '', 'start': 0}], 'ATEXT_CN': ''}], 'ATYPE': 'Event', 'AMODE': 'Single-Span-Extraction', 'ASPAN': [], 'SHINT': [], 'QTEXT_CN': '「雅婷逐字稿」的命名起源为何?'}\n",
      "no gold supporting evidence\n",
      "{'QID': 'D086Q03', 'QTYPE': '申论', 'QTEXT': '不可再生能源的意義是什麼？', 'SENTS': [{'text': '不可再生能源的意义是什么？', 'start': 0, 'end': 13}], 'ANSWER': [{'ATEXT': '', 'ATOKEN': [{'text': '', 'start': 0}], 'ATEXT_CN': ''}], 'ATYPE': 'Object', 'AMODE': 'Single-Span-Extraction', 'ASPAN': [], 'SHINT': [], 'QTEXT_CN': '不可再生能源的意义是什么？'}\n",
      "no gold supporting evidence\n",
      "{'QID': 'D322Q07', 'QTYPE': '申论', 'QTEXT': '要如何降低腸病毒的傳播風險？', 'SENTS': [{'text': '要如何降低肠病毒的传播风险？', 'start': 0, 'end': 14}], 'ANSWER': [{'ATEXT': '', 'ATOKEN': [{'text': '', 'start': 0}], 'ATEXT_CN': ''}], 'ATYPE': 'Kinship', 'AMODE': 'Kinship', 'ASPAN': [], 'SHINT': [], 'QTEXT_CN': '要如何降低肠病毒的传播风险？'}\n"
     ]
    }
   ],
   "source": [
    "fgc_items = read_fgc(config.FGC_DEV)"
   ]
  },
  {
   "cell_type": "code",
   "execution_count": 10,
   "metadata": {},
   "outputs": [],
   "source": [
    "# evaluate_sent_model(fgc_items, show=True)"
   ]
  },
  {
   "cell_type": "code",
   "execution_count": 11,
   "metadata": {},
   "outputs": [
    {
     "name": "stderr",
     "output_type": "stream",
     "text": [
      "I1213 05:38:10.448678 139994286315328 configuration_utils.py:152] loading configuration file https://s3.amazonaws.com/models.huggingface.co/bert/bert-base-chinese-config.json from cache at /root/.cache/torch/transformers/8a3b1cfe5da58286e12a0f5d7d182b8d6eca88c08e26c332ee3817548cf7e60a.0c16faba8be66db3f02805c912e4cf94d3c9cffc1f12fa1a39906f9270f76d33\n",
      "I1213 05:38:10.452057 139994286315328 configuration_utils.py:169] Model config {\n",
      "  \"attention_probs_dropout_prob\": 0.1,\n",
      "  \"directionality\": \"bidi\",\n",
      "  \"finetuning_task\": null,\n",
      "  \"hidden_act\": \"gelu\",\n",
      "  \"hidden_dropout_prob\": 0.1,\n",
      "  \"hidden_size\": 768,\n",
      "  \"initializer_range\": 0.02,\n",
      "  \"intermediate_size\": 3072,\n",
      "  \"is_decoder\": false,\n",
      "  \"layer_norm_eps\": 1e-12,\n",
      "  \"max_position_embeddings\": 512,\n",
      "  \"num_attention_heads\": 12,\n",
      "  \"num_hidden_layers\": 12,\n",
      "  \"num_labels\": 2,\n",
      "  \"output_attentions\": false,\n",
      "  \"output_hidden_states\": false,\n",
      "  \"output_past\": true,\n",
      "  \"pooler_fc_size\": 768,\n",
      "  \"pooler_num_attention_heads\": 12,\n",
      "  \"pooler_num_fc_layers\": 3,\n",
      "  \"pooler_size_per_head\": 128,\n",
      "  \"pooler_type\": \"first_token_transform\",\n",
      "  \"pruned_heads\": {},\n",
      "  \"torchscript\": false,\n",
      "  \"type_vocab_size\": 2,\n",
      "  \"use_bfloat16\": false,\n",
      "  \"vocab_size\": 21128\n",
      "}\n",
      "\n",
      "I1213 05:38:11.400207 139994286315328 modeling_utils.py:387] loading weights file https://s3.amazonaws.com/models.huggingface.co/bert/bert-base-chinese-pytorch_model.bin from cache at /root/.cache/torch/transformers/b1b5e295889f2d0979ede9a78ad9cb5dc6a0e25ab7f9417b315f0a2c22f4683d.929717ca66a3ba9eb9ec2f85973c6398c54c38a4faa464636a491d7a705f7eb6\n",
      "I1213 05:38:14.572105 139994286315328 tokenization_utils.py:375] loading file https://s3.amazonaws.com/models.huggingface.co/bert/bert-base-chinese-vocab.txt from cache at /root/.cache/torch/transformers/8a0c070123c1f794c42a29c6904beb7c1b8715741e235bee04aca2c7636fc83f.9b42061518a39ca00b8b52059fd2bede8daa613f8a8671500e518a8c29de8c00\n"
     ]
    }
   ],
   "source": [
    "extractor = SER_context_extract_V2()"
   ]
  },
  {
   "cell_type": "code",
   "execution_count": 14,
   "metadata": {},
   "outputs": [
    {
     "name": "stderr",
     "output_type": "stream",
     "text": [
      "100%|██████████| 213/213 [00:06<00:00, 31.11it/s]\n"
     ]
    }
   ],
   "source": [
    "for data in tqdm(fgc_items):\n",
    "    topk = 10\n",
    "    prediction = extractor.predict(data['SENTS'], data['QTEXT'])\n",
    "    data['prediction'] = prediction\n",
    "    data['SENTS'] = [i['text'] for i in data['SENTS']]"
   ]
  },
  {
   "cell_type": "code",
   "execution_count": 60,
   "metadata": {},
   "outputs": [
    {
     "data": {
      "text/plain": [
       "{'QID': 'D276Q13',\n",
       " 'SENTS': ['世界上很多国家都有国花，',\n",
       "  '有的象征一国的精神，',\n",
       "  '有的含有历史的意义，',\n",
       "  '有的与气候或物产有关，',\n",
       "  '各有各的道理。',\n",
       "  '\\n例如:美国以山楂花（又称五月花）为国花，',\n",
       "  '这是因为他们的祖先当年到美洲开荒所乘的船，',\n",
       "  '名为五月花号，',\n",
       "  '所以用它来象征冒险进取的开国精神。',\n",
       "  '\\n法国古代曾有勇士，',\n",
       "  '拿著画有三朵百合花的盾牌上阵，',\n",
       "  '每次都打了胜仗，',\n",
       "  '因此法国就用这种象征吉利的百合花，',\n",
       "  '作为国花。\\n其他像日本的樱花，',\n",
       "  '土耳其的康乃馨，',\n",
       "  '希腊的橄榄花，',\n",
       "  '埃及的睡莲，',\n",
       "  '英国的蔷薇等等，',\n",
       "  '都各有它们被选作国花的意义。',\n",
       "  '\\n我国从唐朝开始，',\n",
       "  '就以牡丹为国花，',\n",
       "  '一直沿用到清朝。',\n",
       "  '牡丹浓艳芬芳，',\n",
       "  '是花国之王，',\n",
       "  '被称为国色天香，',\n",
       "  '自然有它雍容华贵的气象。',\n",
       "  '但是，牡丹花虽然浓艳却不够坚忍，',\n",
       "  '虽然芬芳却未免娇弱，',\n",
       "  '无法表现中华民族的特性。',\n",
       "  '因此，中华民国奠都南京之后，',\n",
       "  '政府在民国十七年底，',\n",
       "  '正式宣布以梅花为国花。',\n",
       "  '\\n梅花有三蕾五瓣，',\n",
       "  '正好象征三民主义和五权宪法。',\n",
       "  '它有一身傲霜斗雪的铁骨，',\n",
       "  '富有坚忍耐苦的精神。',\n",
       "  '在清浅的水边，',\n",
       "  '疏影横斜；在昏黄的月下，',\n",
       "  '暗香浮动。那冰清玉洁的花朵，',\n",
       "  '就是它高尚品格的象征。',\n",
       "  '梅花的精神和品格，',\n",
       "  '也就代表了我们国家在苦难中愈挫愈奋、愈战愈勇的精神。',\n",
       "  '\\n在凛冽的寒风中，',\n",
       "  '一枝梅花的开放，',\n",
       "  '透露了冬天将去、春天要来的消息；',\n",
       "  '也为我们在苦难中成长的国家，',\n",
       "  '带来了光明的希望。'],\n",
       " 'SUP_EVIDENCE': [29, 30, 31],\n",
       " 'QTEXT': '梅花是在民國幾年成為中華民國的國花？',\n",
       " 'ANS': '民國十七年',\n",
       " 'ASPAN': [{'text': '民国', 'start': 337, 'end': 339},\n",
       "  {'text': '十七年', 'start': 339, 'end': 342},\n",
       "  {'text': '梅花', 'start': 349, 'end': 351},\n",
       "  {'text': '国花', 'start': 352, 'end': 354},\n",
       "  {'text': '中华民国', 'start': 323, 'end': 327}],\n",
       " 'prediction': [30, 31]}"
      ]
     },
     "execution_count": 60,
     "metadata": {},
     "output_type": "execute_result"
    }
   ],
   "source": [
    "fgc_items[180]"
   ]
  },
  {
   "cell_type": "code",
   "execution_count": null,
   "metadata": {},
   "outputs": [],
   "source": []
  }
 ],
 "metadata": {
  "kernelspec": {
   "display_name": "Python 3",
   "language": "python",
   "name": "python3"
  },
  "language_info": {
   "codemirror_mode": {
    "name": "ipython",
    "version": 3
   },
   "file_extension": ".py",
   "mimetype": "text/x-python",
   "name": "python",
   "nbconvert_exporter": "python",
   "pygments_lexer": "ipython3",
   "version": "3.6.8"
  }
 },
 "nbformat": 4,
 "nbformat_minor": 4
}
