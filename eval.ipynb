{
 "cells": [
  {
   "cell_type": "code",
   "execution_count": 1,
   "metadata": {
    "slideshow": {
     "slide_type": "slide"
    }
   },
   "outputs": [
    {
     "name": "stderr",
     "output_type": "stream",
     "text": [
      "I1203 02:08:12.486058 139688212862784 file_utils.py:39] PyTorch version 1.1.0 available.\n"
     ]
    },
    {
     "data": {
      "text/plain": [
       "'/work'"
      ]
     },
     "execution_count": 1,
     "metadata": {},
     "output_type": "execute_result"
    }
   ],
   "source": [
    "import os\n",
    "import sys\n",
    "import torchvision\n",
    "from transformers.tokenization_bert import BertTokenizer\n",
    "\n",
    "w_dir = %pwd\n",
    "work_dir = os.path.dirname(w_dir)\n",
    "work_dir"
   ]
  },
  {
   "cell_type": "code",
   "execution_count": 2,
   "metadata": {},
   "outputs": [],
   "source": [
    "sys.path.append(w_dir+'/fgc_support_retri')"
   ]
  },
  {
   "cell_type": "code",
   "execution_count": 3,
   "metadata": {
    "slideshow": {
     "slide_type": "slide"
    }
   },
   "outputs": [
    {
     "name": "stderr",
     "output_type": "stream",
     "text": [
      "I1203 02:08:13.676477 139688212862784 corenlp.py:42] Using an existing server http://140.109.19.191:9000\n",
      "I1203 02:08:14.679685 139688212862784 corenlp.py:118] The server is available.\n"
     ]
    }
   ],
   "source": [
    "import numpy as np\n",
    "import torch\n",
    "import torch.nn as nn\n",
    "import torchvision\n",
    "from transformers.tokenization_bert import BertTokenizer\n",
    "import config\n",
    "from torch.utils.data import DataLoader\n",
    "from sup_model import BertSupSentClassification\n",
    "from transformers import BertModel\n",
    "from tqdm import tqdm_notebook as tqdm\n",
    "import torch\n",
    "import torch.nn as nn\n",
    "import torchvision\n",
    "from transformers.tokenization_bert import BertTokenizer\n",
    "import config\n",
    "from fgc_preprocess import SerDataset, BertIdx, bert_collate\n",
    "from torch.utils.data import DataLoader\n",
    "from sup_model import BertSupSentClassification\n",
    "from transformers import BertModel\n",
    "from tqdm import tqdm\n",
    "import ujson\n",
    "import json\n",
    "import config\n",
    "import numpy as np\n",
    "import torch\n",
    "from tqdm import tqdm_notebook as tqdm\n",
    "from torch.utils.data import Dataset\n",
    "from stanfordcorenlp import StanfordCoreNLP\n",
    "from utils import read_fgc"
   ]
  },
  {
   "cell_type": "code",
   "execution_count": 4,
   "metadata": {},
   "outputs": [],
   "source": [
    "class SER_extract:\n",
    "    def __init__(self):\n",
    "        device = torch.device(\"cuda\" if torch.cuda.is_available() else \"cpu\")\n",
    "        bert_model_name = 'bert-base-chinese'\n",
    "        bert_encoder = BertModel.from_pretrained(bert_model_name)\n",
    "        bert_tokenizer = BertTokenizer.from_pretrained(bert_model_name)\n",
    "        bert_indexer = BertIdx(bert_tokenizer)\n",
    "        model = BertSupSentClassification(bert_encoder)\n",
    "#         model_path = config.TRAINED_MODELS / '20191129-with_hotpot'/ 'model_epoch5_loss_0.226.m'\n",
    "        model_path = config.TRAINED_MODELS / '20191128'/ 'model_epoch5_loss_0.213.m' \n",
    "        model.load_state_dict(torch.load(model_path, map_location=device))\n",
    "        model.to(device)\n",
    "        model.eval()\n",
    "        \n",
    "        self.tokenizer = tokenizer = BertTokenizer.from_pretrained(bert_model_name)\n",
    "        self.model = model\n",
    "        self.bert_indexer = bert_indexer\n",
    "        self.device = device\n",
    "        \n",
    "    def predict(self, context_sents, question):\n",
    "        batch = []\n",
    "        for sent in context_sents:\n",
    "            sample = self.bert_indexer({'QTEXT':question, 'sentence': sent})\n",
    "            batch.append(sample)\n",
    "        batch = bert_collate(batch)      \n",
    "        with torch.no_grad():\n",
    "            input_ids = batch['input_ids'].to(self.device)\n",
    "            token_type_ids = batch['token_type_ids'].to(self.device)\n",
    "            attention_mask = batch['attention_mask'].to(self.device)\n",
    "            logits = self.model(input_ids=input_ids, \n",
    "                                token_type_ids=token_type_ids,\n",
    "                                attention_mask=attention_mask, \n",
    "                                mode=BertSupSentClassification.ForwardMode.EVAL)\n",
    "        return logits"
   ]
  },
  {
   "cell_type": "code",
   "execution_count": 5,
   "metadata": {},
   "outputs": [
    {
     "name": "stderr",
     "output_type": "stream",
     "text": [
      "I1203 02:08:18.577152 139688212862784 configuration_utils.py:152] loading configuration file https://s3.amazonaws.com/models.huggingface.co/bert/bert-base-chinese-config.json from cache at /root/.cache/torch/transformers/8a3b1cfe5da58286e12a0f5d7d182b8d6eca88c08e26c332ee3817548cf7e60a.0c16faba8be66db3f02805c912e4cf94d3c9cffc1f12fa1a39906f9270f76d33\n",
      "I1203 02:08:18.579970 139688212862784 configuration_utils.py:169] Model config {\n",
      "  \"attention_probs_dropout_prob\": 0.1,\n",
      "  \"directionality\": \"bidi\",\n",
      "  \"finetuning_task\": null,\n",
      "  \"hidden_act\": \"gelu\",\n",
      "  \"hidden_dropout_prob\": 0.1,\n",
      "  \"hidden_size\": 768,\n",
      "  \"initializer_range\": 0.02,\n",
      "  \"intermediate_size\": 3072,\n",
      "  \"is_decoder\": false,\n",
      "  \"layer_norm_eps\": 1e-12,\n",
      "  \"max_position_embeddings\": 512,\n",
      "  \"num_attention_heads\": 12,\n",
      "  \"num_hidden_layers\": 12,\n",
      "  \"num_labels\": 2,\n",
      "  \"output_attentions\": false,\n",
      "  \"output_hidden_states\": false,\n",
      "  \"output_past\": true,\n",
      "  \"pooler_fc_size\": 768,\n",
      "  \"pooler_num_attention_heads\": 12,\n",
      "  \"pooler_num_fc_layers\": 3,\n",
      "  \"pooler_size_per_head\": 128,\n",
      "  \"pooler_type\": \"first_token_transform\",\n",
      "  \"pruned_heads\": {},\n",
      "  \"torchscript\": false,\n",
      "  \"type_vocab_size\": 2,\n",
      "  \"use_bfloat16\": false,\n",
      "  \"vocab_size\": 21128\n",
      "}\n",
      "\n",
      "I1203 02:08:19.444480 139688212862784 modeling_utils.py:387] loading weights file https://s3.amazonaws.com/models.huggingface.co/bert/bert-base-chinese-pytorch_model.bin from cache at /root/.cache/torch/transformers/b1b5e295889f2d0979ede9a78ad9cb5dc6a0e25ab7f9417b315f0a2c22f4683d.929717ca66a3ba9eb9ec2f85973c6398c54c38a4faa464636a491d7a705f7eb6\n",
      "I1203 02:08:22.473576 139688212862784 tokenization_utils.py:375] loading file https://s3.amazonaws.com/models.huggingface.co/bert/bert-base-chinese-vocab.txt from cache at /root/.cache/torch/transformers/8a0c070123c1f794c42a29c6904beb7c1b8715741e235bee04aca2c7636fc83f.9b42061518a39ca00b8b52059fd2bede8daa613f8a8671500e518a8c29de8c00\n",
      "I1203 02:08:28.398772 139688212862784 tokenization_utils.py:375] loading file https://s3.amazonaws.com/models.huggingface.co/bert/bert-base-chinese-vocab.txt from cache at /root/.cache/torch/transformers/8a0c070123c1f794c42a29c6904beb7c1b8715741e235bee04aca2c7636fc83f.9b42061518a39ca00b8b52059fd2bede8daa613f8a8671500e518a8c29de8c00\n"
     ]
    }
   ],
   "source": [
    "ser_extracter = SER_extract()"
   ]
  },
  {
   "cell_type": "code",
   "execution_count": 6,
   "metadata": {},
   "outputs": [
    {
     "name": "stdout",
     "output_type": "stream",
     "text": [
      "no gold supporting evidence\n",
      "{'QID': 'D009Q03', 'QTYPE': '申论', 'QTEXT': '「占领华尔街」运动的诉求为何?', 'ANSWER': [{'ATEXT': '', 'ATOKEN': [{'text': '', 'start': 0}]}], 'ASPAN': [], 'SHINT': [0, 0, 0, 0, 0, 0, 0, 0, 0, 0, 0, 0, 0, 0, 0, 0, 0, 0, 0, 0], 'ATYPE': 'Object', 'AMODE': 'Single-Span-Extraction'}\n",
      "no gold supporting evidence\n",
      "{'QID': 'D032Q10', 'QTYPE': '进阶题', 'QTEXT': '第二次签订的北美贸易协定从签署至生效过了几日?', 'ANSWER': [{'ATEXT': '资讯不足无法判定', 'ATOKEN': [{'text': '资讯不足无法判定', 'start': -1}]}], 'ASPAN': [], 'SHINT': [0, 0, 0], 'ATYPE': 'Date-Duration', 'AMODE': 'Date-Duration'}\n",
      "no gold supporting evidence\n",
      "{'QID': 'D049Q04', 'QTYPE': '申论', 'QTEXT': '「雅婷逐字稿」的命名起源为何?', 'ANSWER': [{'ATEXT': '', 'ATOKEN': [{'text': '', 'start': 0}]}], 'ASPAN': [], 'SHINT': [0, 0, 0, 0, 0, 0, 0, 0, 0, 0, 0, 0, 0, 0, 0, 0, 0, 0, 0, 0, 0, 0], 'ATYPE': 'Event', 'AMODE': 'Single-Span-Extraction'}\n",
      "no gold supporting evidence\n",
      "{'QID': 'D117Q05', 'QTYPE': '进阶题', 'QTEXT': '是否发现肿瘤就是得到癌症?', 'ANSWER': [{'ATEXT': '否', 'ATOKEN': [{'text': '否', 'start': 109}]}], 'ASPAN': [{'text': '不具入侵能力但失控繁殖的细胞，称为良性肿瘤', 'start': 492, 'end': 513}], 'SHINT': [0, 0, 0, 0, 0, 0, 0, 0, 0, 0, 0, 0, 0, 0, 0, 0], 'ATYPE': 'YesNo', 'AMODE': 'YesNo'}\n",
      "no gold supporting evidence\n",
      "{'QID': 'D322Q07', 'QTYPE': '申论', 'QTEXT': '要如何降低肠病毒的传播风险？', 'ANSWER': [{'ATEXT': '', 'ATOKEN': [{'text': '', 'start': 0}]}], 'ASPAN': [], 'SHINT': [0, 0, 0, 0, 0, 0, 0, 0, 0, 0, 0, 0, 0, 0, 0, 0, 0, 0, 0, 0, 0, 0, 0, 0, 0, 0, 0, 0, 0, 0, 0, 0, 0, 0, 0, 0, 0, 0, 0, 0, 0, 0], 'ATYPE': 'Misc', 'AMODE': 'Single-Span-Extraction'}\n"
     ]
    }
   ],
   "source": [
    "fgc_test_items = read_fgc(config.FGC_DEV)"
   ]
  },
  {
   "cell_type": "code",
   "execution_count": 7,
   "metadata": {},
   "outputs": [
    {
     "data": {
      "text/plain": [
       "{'QID': 'D004Q01',\n",
       " 'SENTS': ['元祐元年（1086年），',\n",
       "  '宋哲宗即位，',\n",
       "  '高太皇太后垂帘听政，',\n",
       "  '回朝任礼部郎中、中书舍人、翰林学士，',\n",
       "  '元祐四年（1089年）拜龙图阁学士，',\n",
       "  '曾出任杭州、颍州等知州职务，',\n",
       "  '官至礼部尚书。',\n",
       "  '绍圣元年（1094年）被哲宗贬谪至惠州、儋州（海南岛）。',\n",
       "  '元符三年（1100年），',\n",
       "  '宋徽宗即位，',\n",
       "  '向太后垂帘听政，',\n",
       "  '下诏让苏轼北还。',\n",
       "  '建中靖国元年（1101年），',\n",
       "  '夏天因冷饮过度，',\n",
       "  '下痢不止，又误服黄芪，',\n",
       "  '结果病情恶化，',\n",
       "  '「齿间出血如蚯蚓者无数」，',\n",
       "  '七月二十八日于常州孙氏馆病卒，',\n",
       "  '享年六十四岁。',\n",
       "  '由弟苏辙归葬于郏县小峨眉山。',\n",
       "  '南宋宋孝宗追赠谥号「文忠」。',\n",
       "  '苏轼疲于应付新旧党争，',\n",
       "  '遇事「如食内有蝇，吐之乃已」，',\n",
       "  '苏轼既反对王安石比较急进的改革措施，',\n",
       "  '也不同意旧党司马光尽废新法，',\n",
       "  '所以虽然新党一直称苏轼为旧党，',\n",
       "  '但其实他在新旧两党之间均受排斥，',\n",
       "  '仕途坎坷，时常远贬外方，',\n",
       "  '不过他在各地居官清正，',\n",
       "  '为民兴利除弊，',\n",
       "  '政绩颇善，口碑甚佳，',\n",
       "  '杭州西湖的苏堤就是实证。'],\n",
       " 'SUP_EVIDENCE': [0,\n",
       "  1,\n",
       "  0,\n",
       "  1,\n",
       "  1,\n",
       "  1,\n",
       "  1,\n",
       "  0,\n",
       "  0,\n",
       "  0,\n",
       "  0,\n",
       "  0,\n",
       "  0,\n",
       "  0,\n",
       "  0,\n",
       "  0,\n",
       "  0,\n",
       "  0,\n",
       "  0,\n",
       "  0,\n",
       "  0,\n",
       "  0,\n",
       "  0,\n",
       "  0,\n",
       "  0,\n",
       "  0,\n",
       "  0,\n",
       "  0,\n",
       "  0,\n",
       "  0,\n",
       "  0,\n",
       "  0],\n",
       " 'QTEXT': '苏东坡在宋哲宗时期,曾出任过哪些官职?',\n",
       " 'ANS': '礼部郎中、中书舍人、翰林学士、龙图阁学士、知州与礼部尚书'}"
      ]
     },
     "execution_count": 7,
     "metadata": {},
     "output_type": "execute_result"
    }
   ],
   "source": [
    "fgc_test_items[0]"
   ]
  },
  {
   "cell_type": "code",
   "execution_count": 8,
   "metadata": {},
   "outputs": [
    {
     "data": {
      "application/vnd.jupyter.widget-view+json": {
       "model_id": "0fd047b0dd6847ce9c517e9860b745ce",
       "version_major": 2,
       "version_minor": 0
      },
      "text/plain": [
       "HBox(children=(IntProgress(value=0, max=204), HTML(value='')))"
      ]
     },
     "metadata": {},
     "output_type": "display_data"
    },
    {
     "name": "stdout",
     "output_type": "stream",
     "text": [
      "\n",
      "precision = 0.5806451612903226\n",
      "recall = 0.13138686131386862\n",
      "f1 = 0.2142857142857143\n"
     ]
    }
   ],
   "source": [
    "tp = 0\n",
    "gol_t = 0\n",
    "pre_t = 0\n",
    "\n",
    "for item in tqdm(fgc_test_items):\n",
    "    logits = ser_extracter.predict(item['SENTS'], item['QTEXT'])\n",
    "    logits_sigmoid = torch.sigmoid(logits)\n",
    "    logits = logits_sigmoid.squeeze(1).cpu().numpy()\n",
    "    item['logits'] = logits\n",
    "    prediction = logits_sigmoid > 0.5\n",
    "    prediction = prediction.squeeze(1).cpu().numpy()\n",
    "    score_tuple = [(idx,label) for idx, label in enumerate(logits)]\n",
    "    score_tuple.sort(key=lambda score: score[1], reverse=True)\n",
    "    topn = int(len(item['SENTS'])/3*1)\n",
    "    top_scores = score_tuple[:topn]\n",
    "#     for score in top_scores:\n",
    "#         prediction[score[0]] = 1\n",
    "    item['score'] = score_tuple\n",
    "    \n",
    "    gold = np.array(item['SUP_EVIDENCE'])\n",
    "\n",
    "    gol_t += np.count_nonzero(gold == 1)\n",
    "    pre_t +=  np.count_nonzero(prediction == 1)\n",
    "    \n",
    "    if len(gold) != len(prediction):\n",
    "        print(gold)\n",
    "        print(prediction)\n",
    "        print(len(item['SENTS']))\n",
    "        print(item['SENTS'])\n",
    "        continue\n",
    "\n",
    "    for i, gs in enumerate(gold):\n",
    "        if gs == prediction[i] == 1:\n",
    "            tp += 1\n",
    "    item['prediction'] = prediction\n",
    "\n",
    "precision = tp / pre_t\n",
    "recall = tp / gol_t\n",
    "\n",
    "f1 = 2*precision*recall / (precision+recall)\n",
    "\n",
    "print(\"precision = {}\".format(precision))\n",
    "print(\"recall = {}\".format(recall))\n",
    "print(\"f1 = {}\".format(f1))"
   ]
  },
  {
   "cell_type": "code",
   "execution_count": 9,
   "metadata": {},
   "outputs": [
    {
     "data": {
      "text/plain": [
       "{'QID': 'D004Q01',\n",
       " 'SENTS': ['元祐元年（1086年），',\n",
       "  '宋哲宗即位，',\n",
       "  '高太皇太后垂帘听政，',\n",
       "  '回朝任礼部郎中、中书舍人、翰林学士，',\n",
       "  '元祐四年（1089年）拜龙图阁学士，',\n",
       "  '曾出任杭州、颍州等知州职务，',\n",
       "  '官至礼部尚书。',\n",
       "  '绍圣元年（1094年）被哲宗贬谪至惠州、儋州（海南岛）。',\n",
       "  '元符三年（1100年），',\n",
       "  '宋徽宗即位，',\n",
       "  '向太后垂帘听政，',\n",
       "  '下诏让苏轼北还。',\n",
       "  '建中靖国元年（1101年），',\n",
       "  '夏天因冷饮过度，',\n",
       "  '下痢不止，又误服黄芪，',\n",
       "  '结果病情恶化，',\n",
       "  '「齿间出血如蚯蚓者无数」，',\n",
       "  '七月二十八日于常州孙氏馆病卒，',\n",
       "  '享年六十四岁。',\n",
       "  '由弟苏辙归葬于郏县小峨眉山。',\n",
       "  '南宋宋孝宗追赠谥号「文忠」。',\n",
       "  '苏轼疲于应付新旧党争，',\n",
       "  '遇事「如食内有蝇，吐之乃已」，',\n",
       "  '苏轼既反对王安石比较急进的改革措施，',\n",
       "  '也不同意旧党司马光尽废新法，',\n",
       "  '所以虽然新党一直称苏轼为旧党，',\n",
       "  '但其实他在新旧两党之间均受排斥，',\n",
       "  '仕途坎坷，时常远贬外方，',\n",
       "  '不过他在各地居官清正，',\n",
       "  '为民兴利除弊，',\n",
       "  '政绩颇善，口碑甚佳，',\n",
       "  '杭州西湖的苏堤就是实证。'],\n",
       " 'SUP_EVIDENCE': [0,\n",
       "  1,\n",
       "  0,\n",
       "  1,\n",
       "  1,\n",
       "  1,\n",
       "  1,\n",
       "  0,\n",
       "  0,\n",
       "  0,\n",
       "  0,\n",
       "  0,\n",
       "  0,\n",
       "  0,\n",
       "  0,\n",
       "  0,\n",
       "  0,\n",
       "  0,\n",
       "  0,\n",
       "  0,\n",
       "  0,\n",
       "  0,\n",
       "  0,\n",
       "  0,\n",
       "  0,\n",
       "  0,\n",
       "  0,\n",
       "  0,\n",
       "  0,\n",
       "  0,\n",
       "  0,\n",
       "  0],\n",
       " 'QTEXT': '苏东坡在宋哲宗时期,曾出任过哪些官职?',\n",
       " 'ANS': '礼部郎中、中书舍人、翰林学士、龙图阁学士、知州与礼部尚书',\n",
       " 'logits': array([0.03955746, 0.0477663 , 0.04372749, 0.03534123, 0.10997105,\n",
       "        0.04597167, 0.04890798, 0.1597471 , 0.02686086, 0.04552561,\n",
       "        0.03162607, 0.03153596, 0.04437451, 0.01693204, 0.06356341,\n",
       "        0.0157038 , 0.08619382, 0.07037275, 0.11479183, 0.0765238 ,\n",
       "        0.11960828, 0.06233346, 0.02757366, 0.08179692, 0.03486287,\n",
       "        0.03082102, 0.03220476, 0.04170648, 0.01850768, 0.01705855,\n",
       "        0.02362869, 0.03381684], dtype=float32),\n",
       " 'score': [(7, 0.1597471),\n",
       "  (20, 0.119608276),\n",
       "  (18, 0.114791825),\n",
       "  (4, 0.109971054),\n",
       "  (16, 0.08619382),\n",
       "  (23, 0.08179692),\n",
       "  (19, 0.076523796),\n",
       "  (17, 0.070372745),\n",
       "  (14, 0.063563414),\n",
       "  (21, 0.06233346),\n",
       "  (6, 0.048907984),\n",
       "  (1, 0.0477663),\n",
       "  (5, 0.045971666),\n",
       "  (9, 0.045525614),\n",
       "  (12, 0.044374507),\n",
       "  (2, 0.043727495),\n",
       "  (27, 0.041706476),\n",
       "  (0, 0.039557457),\n",
       "  (3, 0.035341226),\n",
       "  (24, 0.034862872),\n",
       "  (31, 0.033816844),\n",
       "  (26, 0.03220476),\n",
       "  (10, 0.031626068),\n",
       "  (11, 0.031535964),\n",
       "  (25, 0.03082102),\n",
       "  (22, 0.027573656),\n",
       "  (8, 0.026860861),\n",
       "  (30, 0.023628687),\n",
       "  (28, 0.018507676),\n",
       "  (29, 0.017058553),\n",
       "  (13, 0.01693204),\n",
       "  (15, 0.015703797)],\n",
       " 'prediction': array([0, 0, 0, 0, 0, 0, 0, 0, 0, 0, 0, 0, 0, 0, 0, 0, 0, 0, 0, 0, 0, 0,\n",
       "        0, 0, 0, 0, 0, 0, 0, 0, 0, 0], dtype=uint8)}"
      ]
     },
     "execution_count": 9,
     "metadata": {},
     "output_type": "execute_result"
    }
   ],
   "source": [
    "fgc_test_items[0]"
   ]
  },
  {
   "cell_type": "code",
   "execution_count": null,
   "metadata": {},
   "outputs": [],
   "source": []
  }
 ],
 "metadata": {
  "kernelspec": {
   "display_name": "Python 3",
   "language": "python",
   "name": "python3"
  },
  "language_info": {
   "codemirror_mode": {
    "name": "ipython",
    "version": 3
   },
   "file_extension": ".py",
   "mimetype": "text/x-python",
   "name": "python",
   "nbconvert_exporter": "python",
   "pygments_lexer": "ipython3",
   "version": "3.6.8"
  }
 },
 "nbformat": 4,
 "nbformat_minor": 4
}
