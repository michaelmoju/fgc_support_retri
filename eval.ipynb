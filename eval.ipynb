{
 "cells": [
  {
   "cell_type": "code",
   "execution_count": 1,
   "metadata": {
    "slideshow": {
     "slide_type": "slide"
    }
   },
   "outputs": [
    {
     "name": "stderr",
     "output_type": "stream",
     "text": [
      "I0102 06:33:14.142124 140481637357376 file_utils.py:39] PyTorch version 1.1.0 available.\n"
     ]
    },
    {
     "data": {
      "text/plain": [
       "'/work'"
      ]
     },
     "execution_count": 1,
     "metadata": {},
     "output_type": "execute_result"
    }
   ],
   "source": [
    "import os\n",
    "import sys\n",
    "import torch\n",
    "import torchvision\n",
    "from tqdm import tqdm_notebook as tqdm\n",
    "from transformers import BertModel, BertTokenizer\n",
    "\n",
    "w_dir = %pwd\n",
    "work_dir = os.path.dirname(w_dir)\n",
    "work_dir"
   ]
  },
  {
   "cell_type": "code",
   "execution_count": 2,
   "metadata": {},
   "outputs": [],
   "source": [
    "sys.path.append(w_dir+'/fgc_support_retri')"
   ]
  },
  {
   "cell_type": "code",
   "execution_count": 3,
   "metadata": {},
   "outputs": [],
   "source": [
    "from fgc_support_retri.ser_extractor import *\n",
    "from fgc_support_retri.utils import read_fgc, read_hotpot\n",
    "from fgc_support_retri.eval import evalaluate_f1"
   ]
  },
  {
   "cell_type": "code",
   "execution_count": 4,
   "metadata": {},
   "outputs": [
    {
     "name": "stdout",
     "output_type": "stream",
     "text": [
      "no gold supporting evidence\n",
      "{'QID': 'D032Q10', 'QTYPE': '进阶题', 'QTEXT': '第二次簽訂的北美貿易協定從簽署至生效過了幾日?', 'SENTS': [{'text': '第二次签订的北美贸易协定从签署至生效过了几日?', 'start': 0, 'end': 23}], 'ANSWER': [{'ATEXT': '資訊不足無法判定', 'ATOKEN': [{'text': '资讯不足无法判定', 'start': -1}], 'ATEXT_CN': '资讯不足无法判定'}], 'ATYPE': 'Date-Duration', 'AMODE': 'Date-Duration', 'ASPAN': [], 'SHINT': [], 'QTEXT_CN': '第二次签订的北美贸易协定从签署至生效过了几日?'}\n",
      "no gold supporting evidence\n",
      "{'QID': 'D049Q04', 'QTYPE': '申论', 'QTEXT': '「雅婷逐字稿」的命名起源為何?', 'SENTS': [{'text': '「雅婷逐字稿」的命名起源为何?', 'start': 0, 'end': 15}], 'ANSWER': [{'ATEXT': '', 'ATOKEN': [{'text': '', 'start': 0}], 'ATEXT_CN': ''}], 'ATYPE': 'Event', 'AMODE': 'Single-Span-Extraction', 'ASPAN': [], 'SHINT': [], 'QTEXT_CN': '「雅婷逐字稿」的命名起源为何?'}\n",
      "no gold supporting evidence\n",
      "{'QID': 'D086Q03', 'QTYPE': '申论', 'QTEXT': '不可再生能源的意義是什麼？', 'SENTS': [{'text': '不可再生能源的意义是什么？', 'start': 0, 'end': 13}], 'ANSWER': [{'ATEXT': '', 'ATOKEN': [{'text': '', 'start': 0}], 'ATEXT_CN': ''}], 'ATYPE': 'Object', 'AMODE': 'Single-Span-Extraction', 'ASPAN': [], 'SHINT': [], 'QTEXT_CN': '不可再生能源的意义是什么？'}\n",
      "no gold supporting evidence\n",
      "{'QID': 'D322Q07', 'QTYPE': '申论', 'QTEXT': '要如何降低腸病毒的傳播風險？', 'SENTS': [{'text': '要如何降低肠病毒的传播风险？', 'start': 0, 'end': 14}], 'ANSWER': [{'ATEXT': '', 'ATOKEN': [{'text': '', 'start': 0}], 'ATEXT_CN': ''}], 'ATYPE': 'Kinship', 'AMODE': 'Kinship', 'ASPAN': [], 'SHINT': [], 'QTEXT_CN': '要如何降低肠病毒的传播风险？'}\n"
     ]
    }
   ],
   "source": [
    "fgc_items = read_fgc(config.FGC_DEV)"
   ]
  },
  {
   "cell_type": "code",
   "execution_count": 5,
   "metadata": {},
   "outputs": [
    {
     "data": {
      "text/plain": [
       "{'QID': 'D004Q01',\n",
       " 'SENTS': [{'text': '元祐元年（1086年），', 'start': 0, 'end': 12},\n",
       "  {'text': '宋哲宗即位，', 'start': 12, 'end': 18},\n",
       "  {'text': '高太皇太后垂帘听政，', 'start': 18, 'end': 28},\n",
       "  {'text': '回朝任礼部郎中、中书舍人、翰林学士，', 'start': 28, 'end': 46},\n",
       "  {'text': '元祐四年（1089年）拜龙图阁学士，', 'start': 46, 'end': 64},\n",
       "  {'text': '曾出任杭州、颍州等知州职务，', 'start': 64, 'end': 78},\n",
       "  {'text': '官至礼部尚书。', 'start': 78, 'end': 85},\n",
       "  {'text': '\\n绍圣元年（1094年）被哲宗贬谪至惠州、儋州（海南岛）。', 'start': 85, 'end': 114},\n",
       "  {'text': '\\n元符三年（1100年），', 'start': 114, 'end': 127},\n",
       "  {'text': '宋徽宗即位，', 'start': 127, 'end': 133},\n",
       "  {'text': '向太后垂帘听政，', 'start': 133, 'end': 141},\n",
       "  {'text': '下诏让苏轼北还。', 'start': 141, 'end': 149},\n",
       "  {'text': '\\n建中靖国元年（1101年），', 'start': 149, 'end': 164},\n",
       "  {'text': '夏天因冷饮过度，', 'start': 164, 'end': 172},\n",
       "  {'text': '下痢不止，又误服黄芪，', 'start': 172, 'end': 183},\n",
       "  {'text': '结果病情恶化，', 'start': 183, 'end': 190},\n",
       "  {'text': '「齿间出血如蚯蚓者无数」，', 'start': 190, 'end': 203},\n",
       "  {'text': '七月二十八日于常州孙氏馆病卒，', 'start': 203, 'end': 218},\n",
       "  {'text': '享年六十四岁。', 'start': 218, 'end': 225},\n",
       "  {'text': '由弟苏辙归葬于郏县小峨眉山。', 'start': 225, 'end': 239},\n",
       "  {'text': '南宋宋孝宗追赠谥号「文忠」。', 'start': 239, 'end': 253},\n",
       "  {'text': '\\n苏轼疲于应付新旧党争，', 'start': 253, 'end': 265},\n",
       "  {'text': '遇事「如食内有蝇，吐之乃已」，', 'start': 265, 'end': 280},\n",
       "  {'text': '苏轼既反对王安石比较急进的改革措施，', 'start': 280, 'end': 298},\n",
       "  {'text': '也不同意旧党司马光尽废新法，', 'start': 298, 'end': 312},\n",
       "  {'text': '所以虽然新党一直称苏轼为旧党，', 'start': 312, 'end': 327},\n",
       "  {'text': '但其实他在新旧两党之间均受排斥，', 'start': 327, 'end': 343},\n",
       "  {'text': '仕途坎坷，时常远贬外方，', 'start': 343, 'end': 355},\n",
       "  {'text': '不过他在各地居官清正，', 'start': 355, 'end': 366},\n",
       "  {'text': '为民兴利除弊，', 'start': 366, 'end': 373},\n",
       "  {'text': '政绩颇善，口碑甚佳，', 'start': 373, 'end': 383},\n",
       "  {'text': '杭州西湖的苏堤就是实证。', 'start': 383, 'end': 395}],\n",
       " 'SUP_EVIDENCE': [1, 3, 4, 5, 6],\n",
       " 'QTEXT': '蘇東坡在宋哲宗時期,曾出任過哪些官職?',\n",
       " 'ANS': '禮部郎中、中書舍人、翰林學士、龍圖閣學士、知州與禮部尚書',\n",
       " 'ASPAN': [{'text': '宋哲宗', 'start': 12, 'end': 15},\n",
       "  {'text': '礼部郎中', 'start': 31, 'end': 35},\n",
       "  {'text': '中书舍人', 'start': 36, 'end': 40},\n",
       "  {'text': '翰林学士', 'start': 41, 'end': 45},\n",
       "  {'text': '龙图阁学士', 'start': 58, 'end': 63},\n",
       "  {'text': '知州', 'start': 73, 'end': 75},\n",
       "  {'text': '礼部尚书', 'start': 80, 'end': 84}]}"
      ]
     },
     "execution_count": 5,
     "metadata": {},
     "output_type": "execute_result"
    }
   ],
   "source": [
    "fgc_items[0]"
   ]
  },
  {
   "cell_type": "code",
   "execution_count": 6,
   "metadata": {},
   "outputs": [
    {
     "name": "stderr",
     "output_type": "stream",
     "text": [
      "I0102 06:33:19.303287 140481637357376 configuration_utils.py:152] loading configuration file https://s3.amazonaws.com/models.huggingface.co/bert/bert-base-chinese-config.json from cache at /root/.cache/torch/transformers/8a3b1cfe5da58286e12a0f5d7d182b8d6eca88c08e26c332ee3817548cf7e60a.0c16faba8be66db3f02805c912e4cf94d3c9cffc1f12fa1a39906f9270f76d33\n",
      "I0102 06:33:19.306402 140481637357376 configuration_utils.py:169] Model config {\n",
      "  \"attention_probs_dropout_prob\": 0.1,\n",
      "  \"directionality\": \"bidi\",\n",
      "  \"finetuning_task\": null,\n",
      "  \"hidden_act\": \"gelu\",\n",
      "  \"hidden_dropout_prob\": 0.1,\n",
      "  \"hidden_size\": 768,\n",
      "  \"initializer_range\": 0.02,\n",
      "  \"intermediate_size\": 3072,\n",
      "  \"is_decoder\": false,\n",
      "  \"layer_norm_eps\": 1e-12,\n",
      "  \"max_position_embeddings\": 512,\n",
      "  \"num_attention_heads\": 12,\n",
      "  \"num_hidden_layers\": 12,\n",
      "  \"num_labels\": 2,\n",
      "  \"output_attentions\": false,\n",
      "  \"output_hidden_states\": false,\n",
      "  \"output_past\": true,\n",
      "  \"pooler_fc_size\": 768,\n",
      "  \"pooler_num_attention_heads\": 12,\n",
      "  \"pooler_num_fc_layers\": 3,\n",
      "  \"pooler_size_per_head\": 128,\n",
      "  \"pooler_type\": \"first_token_transform\",\n",
      "  \"pruned_heads\": {},\n",
      "  \"torchscript\": false,\n",
      "  \"type_vocab_size\": 2,\n",
      "  \"use_bfloat16\": false,\n",
      "  \"vocab_size\": 21128\n",
      "}\n",
      "\n",
      "I0102 06:33:20.180576 140481637357376 modeling_utils.py:387] loading weights file https://s3.amazonaws.com/models.huggingface.co/bert/bert-base-chinese-pytorch_model.bin from cache at /root/.cache/torch/transformers/b1b5e295889f2d0979ede9a78ad9cb5dc6a0e25ab7f9417b315f0a2c22f4683d.929717ca66a3ba9eb9ec2f85973c6398c54c38a4faa464636a491d7a705f7eb6\n",
      "I0102 06:33:23.320640 140481637357376 tokenization_utils.py:375] loading file https://s3.amazonaws.com/models.huggingface.co/bert/bert-base-chinese-vocab.txt from cache at /root/.cache/torch/transformers/8a0c070123c1f794c42a29c6904beb7c1b8715741e235bee04aca2c7636fc83f.9b42061518a39ca00b8b52059fd2bede8daa613f8a8671500e518a8c29de8c00\n",
      "I0102 06:33:28.987106 140481637357376 tokenization_utils.py:375] loading file https://s3.amazonaws.com/models.huggingface.co/bert/bert-base-chinese-vocab.txt from cache at /root/.cache/torch/transformers/8a0c070123c1f794c42a29c6904beb7c1b8715741e235bee04aca2c7636fc83f.9b42061518a39ca00b8b52059fd2bede8daa613f8a8671500e518a8c29de8c00\n",
      "100%|██████████| 213/213 [00:18<00:00,  8.51it/s]"
     ]
    },
    {
     "name": "stdout",
     "output_type": "stream",
     "text": [
      "0.056338028169014086\n",
      "0.024742268041237112\n",
      "0.034383954154727794\n"
     ]
    },
    {
     "name": "stderr",
     "output_type": "stream",
     "text": [
      "\n"
     ]
    }
   ],
   "source": [
    "extractor = SER_sent_extract_V1()\n",
    "\n",
    "predictions = []\n",
    "predictions = extractor.predict(fgc_items)\n",
    "precision, recall, f1 = evalaluate_f1(fgc_items, predictions)\n",
    "print(precision)\n",
    "print(recall)\n",
    "print(f1)"
   ]
  },
  {
   "cell_type": "code",
   "execution_count": 8,
   "metadata": {},
   "outputs": [
    {
     "data": {
      "text/plain": [
       "[[1, 3, 5, 6, 9],\n",
       " [3, 5],\n",
       " [31],\n",
       " [31],\n",
       " [19],\n",
       " [19],\n",
       " [23],\n",
       " [31],\n",
       " [29],\n",
       " [3, 9],\n",
       " [16],\n",
       " [16],\n",
       " [16],\n",
       " [16],\n",
       " [16],\n",
       " [16],\n",
       " [16],\n",
       " [0, 12],\n",
       " [0, 12],\n",
       " [12],\n",
       " [12],\n",
       " [0, 3, 12],\n",
       " [0, 3, 12],\n",
       " [0, 3, 12],\n",
       " [0, 3, 12],\n",
       " [3, 12],\n",
       " [0, 6],\n",
       " [0, 6],\n",
       " [1],\n",
       " [21, 27],\n",
       " [24],\n",
       " [28],\n",
       " [19, 21],\n",
       " [3, 5],\n",
       " [14, 24],\n",
       " [0, 5, 11],\n",
       " [0, 3, 9, 11],\n",
       " [0, 21],\n",
       " [0, 5, 10],\n",
       " [21],\n",
       " [0, 11],\n",
       " [0, 1, 2],\n",
       " [0],\n",
       " [0, 5, 9],\n",
       " [25],\n",
       " [5, 8, 9],\n",
       " [12],\n",
       " [0, 13],\n",
       " [0, 5, 8],\n",
       " [5, 9],\n",
       " [17],\n",
       " [0, 18, 21],\n",
       " [9, 12, 20, 22],\n",
       " [0, 3, 27],\n",
       " [37],\n",
       " [0],\n",
       " [0, 27],\n",
       " [0, 27],\n",
       " [0, 13, 20, 29],\n",
       " [0, 28],\n",
       " [0, 28, 34],\n",
       " [28],\n",
       " [0, 27],\n",
       " [0, 1],\n",
       " [6],\n",
       " [6, 7, 8, 12, 15],\n",
       " [6, 7, 8, 10, 12, 15, 16],\n",
       " [6, 7, 8, 12, 15, 16],\n",
       " [6, 7, 8, 12, 15, 16, 20],\n",
       " [3, 5, 14, 35, 45],\n",
       " [50],\n",
       " [50],\n",
       " [10],\n",
       " [50],\n",
       " [50],\n",
       " [10],\n",
       " [35],\n",
       " [31, 35],\n",
       " [5, 13, 35],\n",
       " [44, 50],\n",
       " [0],\n",
       " [0, 11],\n",
       " [0],\n",
       " [0],\n",
       " [0, 11, 12],\n",
       " [0],\n",
       " [0, 5],\n",
       " [0],\n",
       " [0],\n",
       " [0],\n",
       " [22],\n",
       " [0],\n",
       " [0],\n",
       " [20],\n",
       " [20],\n",
       " [6],\n",
       " [0],\n",
       " [15, 19],\n",
       " [0, 6, 7, 13],\n",
       " [0, 2, 17],\n",
       " [6],\n",
       " [9],\n",
       " [0, 3],\n",
       " [0, 3, 10],\n",
       " [1, 3],\n",
       " [3],\n",
       " [3, 4],\n",
       " [3, 7],\n",
       " [3, 11, 12],\n",
       " [3],\n",
       " [5, 23, 27, 30, 36],\n",
       " [5, 9, 17, 24, 25, 42],\n",
       " [15, 24],\n",
       " [15, 17, 24],\n",
       " [5, 7, 9, 30],\n",
       " [15, 24],\n",
       " [15, 17, 24, 40],\n",
       " [31, 38],\n",
       " [12, 17, 23, 24, 30, 36, 39],\n",
       " [1, 14, 18, 25],\n",
       " [2, 5, 7, 8, 9, 10, 28],\n",
       " [2, 5, 7, 8, 9, 10, 28],\n",
       " [2, 5, 7, 8, 9, 10, 28],\n",
       " [5, 7, 8],\n",
       " [1, 2, 5, 7, 8, 9, 28],\n",
       " [5, 7, 8, 10, 28],\n",
       " [2, 5, 7, 8, 9, 10, 28],\n",
       " [7, 8, 27, 28, 34],\n",
       " [0, 1, 3, 10, 11, 15, 18, 22, 23, 24, 26, 27, 31, 35, 40],\n",
       " [3, 18, 22],\n",
       " [3, 8, 15, 22, 24, 27, 31],\n",
       " [0, 1, 3, 10, 15, 22, 23, 24, 25, 26, 27, 28, 31, 35, 40],\n",
       " [0, 3, 22, 23, 24, 27, 31, 34],\n",
       " [0, 1],\n",
       " [0, 1],\n",
       " [0, 2],\n",
       " [3],\n",
       " [0, 23],\n",
       " [0, 23, 25, 26],\n",
       " [29],\n",
       " [12],\n",
       " [0, 10, 15, 16],\n",
       " [25],\n",
       " [10],\n",
       " [23, 24],\n",
       " [1],\n",
       " [15],\n",
       " [0],\n",
       " [0, 1, 10, 14, 18, 20],\n",
       " [1, 3],\n",
       " [2],\n",
       " [0, 9, 12],\n",
       " [0, 9, 12],\n",
       " [9],\n",
       " [12],\n",
       " [0],\n",
       " [5, 31],\n",
       " [0],\n",
       " [13, 14, 59],\n",
       " [16, 17],\n",
       " [8, 14, 23, 24],\n",
       " [15, 27, 28],\n",
       " [27, 30, 33, 34, 46, 47],\n",
       " [4, 8, 15, 37],\n",
       " [37, 38],\n",
       " [15, 38, 42, 43],\n",
       " [12, 46, 57, 58, 59],\n",
       " [14, 15, 46],\n",
       " [0, 5, 13, 20],\n",
       " [5, 20, 31],\n",
       " [6],\n",
       " [5, 9, 12, 20, 31],\n",
       " [9, 10, 11, 12],\n",
       " [5, 13, 14, 20, 31],\n",
       " [5, 13, 14, 20, 31],\n",
       " [15, 20, 31],\n",
       " [16, 20, 31],\n",
       " [0, 5, 13, 14, 17, 18, 20, 31],\n",
       " [0, 5, 12, 13, 14, 15, 20, 31],\n",
       " [0, 5, 12, 13, 14, 20, 29, 31],\n",
       " [0, 20],\n",
       " [5, 15, 32],\n",
       " [15],\n",
       " [15, 16],\n",
       " [20, 21, 22],\n",
       " [5, 6],\n",
       " [12],\n",
       " [47, 48, 51],\n",
       " [1],\n",
       " [4],\n",
       " [3, 4, 5],\n",
       " [3, 4, 5, 7],\n",
       " [3, 8],\n",
       " [11, 12],\n",
       " [11, 12],\n",
       " [46],\n",
       " [3, 43, 44, 45],\n",
       " [0, 5, 6, 64],\n",
       " [1, 7, 9, 11, 19, 56],\n",
       " [1, 7, 11, 22, 23, 56],\n",
       " [0, 1, 7, 11, 30, 56],\n",
       " [11, 38, 40, 41, 42],\n",
       " [1, 7, 9, 11, 54, 56],\n",
       " [0],\n",
       " [0, 1, 2, 23, 35, 44],\n",
       " [45],\n",
       " [12],\n",
       " [10, 20],\n",
       " [0],\n",
       " [27, 28, 29],\n",
       " [0, 30],\n",
       " [30],\n",
       " [40, 41]]"
      ]
     },
     "execution_count": 8,
     "metadata": {},
     "output_type": "execute_result"
    }
   ],
   "source": [
    "predictions"
   ]
  },
  {
   "cell_type": "code",
   "execution_count": 7,
   "metadata": {},
   "outputs": [],
   "source": [
    "for item in fgc_items:\n",
    "    \n",
    "    new_sents = []\n",
    "    for s_i, s in enumerate(item['SENTS']):\n",
    "        new_sents.append({s_i: s['text']})\n",
    "    del item['SENTS']\n",
    "    item['SENTS'] = new_sents\n"
   ]
  },
  {
   "cell_type": "code",
   "execution_count": 21,
   "metadata": {},
   "outputs": [
    {
     "data": {
      "text/plain": [
       "{'QID': 'D011Q02',\n",
       " 'SUP_EVIDENCE': [9, 16],\n",
       " 'QTEXT': '形成於北大西洋的熱帶氣旋，又被稱為什麼？',\n",
       " 'ANS': '颶風',\n",
       " 'ASPAN': [{'text': '北大西洋', 'start': 417, 'end': 421},\n",
       "  {'text': '飓风', 'start': 424, 'end': 426},\n",
       "  {'text': '热带气旋', 'start': 247, 'end': 251},\n",
       "  {'text': '台风', 'start': 281, 'end': 283},\n",
       "  {'text': '台风', 'start': 413, 'end': 415},\n",
       "  {'text': '北太平洋', 'start': 404, 'end': 408}],\n",
       " 'sup_prediction': [16],\n",
       " 'SENTS': [{0: '台风（英语：Typhoon，香港天文台缩写T.；日语：台风/たいふう/taifū；韩语：태풍/台风/taepung）是赤道以北，'},\n",
       "  {1: '国际换日线以西，'},\n",
       "  {2: '亚太国家或地区对热带气旋的一个分级。'},\n",
       "  {3: '在气象学上，'},\n",
       "  {4: '按世界气象组织定义，'},\n",
       "  {5: '热带气旋中心持续风速达到12级（即64节或以上、32.7m/s或以上，又或者118km/hr或以上）称为飓风（Hurricane）或其他在地近义字。'},\n",
       "  {6: '西北太平洋地区采用之近义字乃台风。'},\n",
       "  {7: '\\n广义上，「台风」这个词并非一种热带气旋强度。'},\n",
       "  {8: '在台湾、日本等地，'},\n",
       "  {9: '将中心持续风速每秒17.2米或以上的热带气旋（包括世界气象组织定义中的热带风暴、强烈热带风暴和台风）均称台风。'},\n",
       "  {10: '在非正式场合，'},\n",
       "  {11: '「台风」甚至直接泛指热带气旋本身。'},\n",
       "  {12: '当西北太平洋的热带气旋达到热带风暴的强度，'},\n",
       "  {13: '区域专责气象中心（RSMC）日本气象厅会对其编号及命名，'},\n",
       "  {14: '名称由世界气象组织台风委员会的14个国家和地区提供。'},\n",
       "  {15: '\\n但在不同海洋上也各自有地区性的名称，'},\n",
       "  {16: '例如北太平洋西部称为「台风」、北大西洋称为「飓风」、北印度洋称为「气旋风暴」。'}]}"
      ]
     },
     "execution_count": 21,
     "metadata": {},
     "output_type": "execute_result"
    }
   ],
   "source": [
    "fgc_items[10]"
   ]
  },
  {
   "cell_type": "code",
   "execution_count": null,
   "metadata": {},
   "outputs": [],
   "source": []
  }
 ],
 "metadata": {
  "kernelspec": {
   "display_name": "Python 3",
   "language": "python",
   "name": "python3"
  },
  "language_info": {
   "codemirror_mode": {
    "name": "ipython",
    "version": 3
   },
   "file_extension": ".py",
   "mimetype": "text/x-python",
   "name": "python",
   "nbconvert_exporter": "python",
   "pygments_lexer": "ipython3",
   "version": "3.6.8"
  }
 },
 "nbformat": 4,
 "nbformat_minor": 4
}
