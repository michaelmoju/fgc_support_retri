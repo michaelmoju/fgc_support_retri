{
 "cells": [
  {
   "cell_type": "code",
   "execution_count": 1,
   "metadata": {},
   "outputs": [
    {
     "data": {
      "text/plain": [
       "'/work'"
      ]
     },
     "execution_count": 1,
     "metadata": {},
     "output_type": "execute_result"
    }
   ],
   "source": [
    "import os\n",
    "import sys\n",
    "import json\n",
    "\n",
    "w_dir = %pwd\n",
    "work_dir = os.path.dirname(w_dir)\n",
    "work_dir"
   ]
  },
  {
   "cell_type": "code",
   "execution_count": 2,
   "metadata": {},
   "outputs": [],
   "source": [
    "sys.path.append(work_dir+'/fgc_support_retri/')"
   ]
  },
  {
   "cell_type": "code",
   "execution_count": 3,
   "metadata": {},
   "outputs": [],
   "source": [
    "from fgc_support_retri import config\n",
    "from fgc_support_retri.utils import json_load"
   ]
  },
  {
   "cell_type": "markdown",
   "metadata": {},
   "source": [
    "# 首先，import Sp_extractor"
   ]
  },
  {
   "cell_type": "code",
   "execution_count": 5,
   "metadata": {},
   "outputs": [],
   "source": [
    "from fgc_support_retri.ser_extractor import Sp_extractor\n",
    "from fgc_support_retri.utils import *\n",
    "from fgc_support_retri.evaluation.fgc_eval import *\n",
    "from fgc_support_retri.evaluation.eval import eval_sp_fgc, eval_fgc_atype\n",
    "from fgc_support_retri import config"
   ]
  },
  {
   "cell_type": "code",
   "execution_count": null,
   "metadata": {},
   "outputs": [],
   "source": [
    "t_total = len(train_dataloader) // args.gradient_accumulation_steps * args.num_train_epochs"
   ]
  },
  {
   "cell_type": "markdown",
   "metadata": {},
   "source": [
    "# 記住*.m model參數的存放路徑"
   ]
  },
  {
   "cell_type": "code",
   "execution_count": 5,
   "metadata": {},
   "outputs": [],
   "source": [
    "model_folder = '/work/fgc_support_retri/results/trainedmodels/20200406_amatch_EM+sf_lr=2e-5'"
   ]
  },
  {
   "cell_type": "markdown",
   "metadata": {},
   "source": [
    "# 初始化 Sp_extractor "
   ]
  },
  {
   "cell_type": "code",
   "execution_count": 6,
   "metadata": {},
   "outputs": [
    {
     "name": "stderr",
     "output_type": "stream",
     "text": [
      "I0407 03:27:01.873611 139822428772160 tokenization_utils.py:375] loading file https://s3.amazonaws.com/models.huggingface.co/bert/bert-base-chinese-vocab.txt from cache at /root/.cache/torch/transformers/8a0c070123c1f794c42a29c6904beb7c1b8715741e235bee04aca2c7636fc83f.9b42061518a39ca00b8b52059fd2bede8daa613f8a8671500e518a8c29de8c00\n",
      "I0407 03:27:03.154201 139822428772160 configuration_utils.py:152] loading configuration file https://s3.amazonaws.com/models.huggingface.co/bert/bert-base-chinese-config.json from cache at /root/.cache/torch/transformers/8a3b1cfe5da58286e12a0f5d7d182b8d6eca88c08e26c332ee3817548cf7e60a.3767c74c8ed285531d04153fe84a0791672aff52f7249b27df341dbce09b8305\n",
      "I0407 03:27:03.157421 139822428772160 configuration_utils.py:169] Model config {\n",
      "  \"architectures\": [\n",
      "    \"BertForMaskedLM\"\n",
      "  ],\n",
      "  \"attention_probs_dropout_prob\": 0.1,\n",
      "  \"directionality\": \"bidi\",\n",
      "  \"finetuning_task\": null,\n",
      "  \"hidden_act\": \"gelu\",\n",
      "  \"hidden_dropout_prob\": 0.1,\n",
      "  \"hidden_size\": 768,\n",
      "  \"initializer_range\": 0.02,\n",
      "  \"intermediate_size\": 3072,\n",
      "  \"is_decoder\": false,\n",
      "  \"layer_norm_eps\": 1e-12,\n",
      "  \"max_position_embeddings\": 512,\n",
      "  \"num_attention_heads\": 12,\n",
      "  \"num_hidden_layers\": 12,\n",
      "  \"num_labels\": 2,\n",
      "  \"output_attentions\": false,\n",
      "  \"output_hidden_states\": false,\n",
      "  \"output_past\": true,\n",
      "  \"pooler_fc_size\": 768,\n",
      "  \"pooler_num_attention_heads\": 12,\n",
      "  \"pooler_num_fc_layers\": 3,\n",
      "  \"pooler_size_per_head\": 128,\n",
      "  \"pooler_type\": \"first_token_transform\",\n",
      "  \"pruned_heads\": {},\n",
      "  \"torchscript\": false,\n",
      "  \"type_vocab_size\": 2,\n",
      "  \"use_bfloat16\": false,\n",
      "  \"vocab_size\": 21128\n",
      "}\n",
      "\n",
      "I0407 03:27:04.426320 139822428772160 modeling_utils.py:387] loading weights file https://s3.amazonaws.com/models.huggingface.co/bert/bert-base-chinese-pytorch_model.bin from cache at /root/.cache/torch/transformers/b1b5e295889f2d0979ede9a78ad9cb5dc6a0e25ab7f9417b315f0a2c22f4683d.929717ca66a3ba9eb9ec2f85973c6398c54c38a4faa464636a491d7a705f7eb6\n",
      "I0407 03:27:06.619931 139822428772160 modeling_utils.py:457] Weights of AmatchModel not initialized from pretrained model: ['bert.embeddings.tf_embeddings.weight', 'bert.embeddings.idf_embeddings.weight', 'bert.embeddings.amatch_embeddings.weight', 'bert.embeddings.sf_embeddings.weight', 'classifier.weight', 'classifier.bias']\n",
      "I0407 03:27:06.627844 139822428772160 modeling_utils.py:460] Weights from pretrained model not used in AmatchModel: ['cls.predictions.bias', 'cls.predictions.transform.dense.weight', 'cls.predictions.transform.dense.bias', 'cls.predictions.decoder.weight', 'cls.seq_relationship.weight', 'cls.seq_relationship.bias', 'cls.predictions.transform.LayerNorm.weight', 'cls.predictions.transform.LayerNorm.bias']\n",
      "I0407 03:27:12.629357 139822428772160 configuration_utils.py:152] loading configuration file https://s3.amazonaws.com/models.huggingface.co/bert/bert-base-chinese-config.json from cache at /root/.cache/torch/transformers/8a3b1cfe5da58286e12a0f5d7d182b8d6eca88c08e26c332ee3817548cf7e60a.3767c74c8ed285531d04153fe84a0791672aff52f7249b27df341dbce09b8305\n",
      "I0407 03:27:12.634523 139822428772160 configuration_utils.py:169] Model config {\n",
      "  \"architectures\": [\n",
      "    \"BertForMaskedLM\"\n",
      "  ],\n",
      "  \"attention_probs_dropout_prob\": 0.1,\n",
      "  \"directionality\": \"bidi\",\n",
      "  \"finetuning_task\": null,\n",
      "  \"hidden_act\": \"gelu\",\n",
      "  \"hidden_dropout_prob\": 0.1,\n",
      "  \"hidden_size\": 768,\n",
      "  \"initializer_range\": 0.02,\n",
      "  \"intermediate_size\": 3072,\n",
      "  \"is_decoder\": false,\n",
      "  \"layer_norm_eps\": 1e-12,\n",
      "  \"max_position_embeddings\": 512,\n",
      "  \"num_attention_heads\": 12,\n",
      "  \"num_hidden_layers\": 12,\n",
      "  \"num_labels\": 2,\n",
      "  \"output_attentions\": false,\n",
      "  \"output_hidden_states\": false,\n",
      "  \"output_past\": true,\n",
      "  \"pooler_fc_size\": 768,\n",
      "  \"pooler_num_attention_heads\": 12,\n",
      "  \"pooler_num_fc_layers\": 3,\n",
      "  \"pooler_size_per_head\": 128,\n",
      "  \"pooler_type\": \"first_token_transform\",\n",
      "  \"pruned_heads\": {},\n",
      "  \"torchscript\": false,\n",
      "  \"type_vocab_size\": 2,\n",
      "  \"use_bfloat16\": false,\n",
      "  \"vocab_size\": 21128\n",
      "}\n",
      "\n",
      "I0407 03:27:14.558327 139822428772160 modeling_utils.py:387] loading weights file https://s3.amazonaws.com/models.huggingface.co/bert/bert-base-chinese-pytorch_model.bin from cache at /root/.cache/torch/transformers/b1b5e295889f2d0979ede9a78ad9cb5dc6a0e25ab7f9417b315f0a2c22f4683d.929717ca66a3ba9eb9ec2f85973c6398c54c38a4faa464636a491d7a705f7eb6\n"
     ]
    }
   ],
   "source": [
    "sp_extractor = Sp_extractor(model_folder)"
   ]
  },
  {
   "cell_type": "code",
   "execution_count": 7,
   "metadata": {},
   "outputs": [],
   "source": [
    "documents = json_load(config.FGC_TEST)"
   ]
  },
  {
   "cell_type": "markdown",
   "metadata": {},
   "source": [
    "# 兩種predict的方式, 第一種是直接predict整個document"
   ]
  },
  {
   "cell_type": "code",
   "execution_count": 8,
   "metadata": {},
   "outputs": [
    {
     "name": "stderr",
     "output_type": "stream",
     "text": [
      "100%|██████████| 193/193 [02:12<00:00,  1.10s/it]\n"
     ]
    }
   ],
   "source": [
    "sp_extractor.predict_all_documents(documents)"
   ]
  },
  {
   "cell_type": "code",
   "execution_count": 9,
   "metadata": {},
   "outputs": [
    {
     "name": "stderr",
     "output_type": "stream",
     "text": [
      "100%|██████████| 193/193 [00:00<00:00, 19383.20it/s]\n"
     ]
    }
   ],
   "source": [
    "get_answer_sp(documents, force=True)"
   ]
  },
  {
   "cell_type": "code",
   "execution_count": 10,
   "metadata": {},
   "outputs": [
    {
     "name": "stderr",
     "output_type": "stream",
     "text": [
      "100%|██████████| 193/193 [00:00<00:00, 95617.84it/s]\n"
     ]
    }
   ],
   "source": [
    "all_items, all_sp_predictions, all_answer_sp = eval_from_threshold(documents, threshold=0.5)"
   ]
  },
  {
   "cell_type": "code",
   "execution_count": 11,
   "metadata": {},
   "outputs": [
    {
     "name": "stdout",
     "output_type": "stream",
     "text": [
      "{'sp_em': 0.132, 'sp_prec': 0.599, 'sp_recall': 0.727, 'sp_f1': 0.605}\n"
     ]
    }
   ],
   "source": [
    "metrics = eval_sp_fgc(all_items, all_sp_predictions)"
   ]
  },
  {
   "cell_type": "markdown",
   "metadata": {},
   "source": [
    "## question下面會新增sp以及sp_scores欄位，分別是supporting evidence的id和每個sentence的所有score"
   ]
  },
  {
   "cell_type": "code",
   "execution_count": 12,
   "metadata": {},
   "outputs": [
    {
     "data": {
      "text/plain": [
       "[1, 4]"
      ]
     },
     "execution_count": 12,
     "metadata": {},
     "output_type": "execute_result"
    }
   ],
   "source": [
    "documents[0]['QUESTIONS'][0]['sp']"
   ]
  },
  {
   "cell_type": "code",
   "execution_count": 13,
   "metadata": {},
   "outputs": [
    {
     "data": {
      "text/plain": [
       "[0.001308490987867117,\n",
       " 0.5538419485092163,\n",
       " 0.0008656501886434853,\n",
       " 0.08888611197471619,\n",
       " 0.5538419485092163,\n",
       " 0.006376850884407759,\n",
       " 0.0014243487967178226,\n",
       " 0.013116412796080112,\n",
       " 0.009914573282003403,\n",
       " 0.0005230248789303005,\n",
       " 0.000622930412646383,\n",
       " 0.0006057037971913815,\n",
       " 0.0019797913264483213,\n",
       " 0.0009763048146851361,\n",
       " 0.00018858048133552074,\n",
       " 0.0003404113231226802,\n",
       " 0.0015381111297756433,\n",
       " 0.0005626892670989037,\n",
       " 0.0002797979977913201,\n",
       " 0.0003267228603363037,\n",
       " 0.0005166764603927732,\n",
       " 0.0005191026721149683,\n",
       " 0.000823291193228215,\n",
       " 0.0002754416491370648,\n",
       " 0.0009506135829724371,\n",
       " 0.00023800010967534035,\n",
       " 0.0028145902324467897,\n",
       " 0.00020739369210787117,\n",
       " 0.00043683606781996787,\n",
       " 0.00021205774100963026,\n",
       " 0.0002791976148728281,\n",
       " 0.0003179849882144481,\n",
       " 0.00021139095770195127]"
      ]
     },
     "execution_count": 13,
     "metadata": {},
     "output_type": "execute_result"
    }
   ],
   "source": [
    "documents[0]['QUESTIONS'][0]['sp_scores']"
   ]
  },
  {
   "cell_type": "markdown",
   "metadata": {},
   "source": [
    "# 第二種是每個question分別predict\n",
    "predict(q, d, threshold=0.5)\n",
    "q就是question\n",
    "d就是document\n",
    "threshold是0~1之間的數字，代表門檻值, default是0.5\n",
    "回傳sp, atype, sp_scores\n",
    "不過現在atype是空的，不要用他"
   ]
  },
  {
   "cell_type": "code",
   "execution_count": 14,
   "metadata": {},
   "outputs": [],
   "source": [
    "sp, _, sp_scores = sp_extractor.predict(documents[0]['QUESTIONS'][0], documents[0])"
   ]
  },
  {
   "cell_type": "code",
   "execution_count": 15,
   "metadata": {},
   "outputs": [
    {
     "data": {
      "text/plain": [
       "[1, 4]"
      ]
     },
     "execution_count": 15,
     "metadata": {},
     "output_type": "execute_result"
    }
   ],
   "source": [
    "sp"
   ]
  },
  {
   "cell_type": "code",
   "execution_count": 16,
   "metadata": {},
   "outputs": [
    {
     "data": {
      "text/plain": [
       "[0.001308490987867117,\n",
       " 0.5538419485092163,\n",
       " 0.0008656501886434853,\n",
       " 0.08888611197471619,\n",
       " 0.5538419485092163,\n",
       " 0.006376850884407759,\n",
       " 0.0014243487967178226,\n",
       " 0.013116412796080112,\n",
       " 0.009914573282003403,\n",
       " 0.0005230248789303005,\n",
       " 0.000622930412646383,\n",
       " 0.0006057037971913815,\n",
       " 0.0019797913264483213,\n",
       " 0.0009763048146851361,\n",
       " 0.00018858048133552074,\n",
       " 0.0003404113231226802,\n",
       " 0.0015381111297756433,\n",
       " 0.0005626892670989037,\n",
       " 0.0002797979977913201,\n",
       " 0.0003267228603363037,\n",
       " 0.0005166764603927732,\n",
       " 0.0005191026721149683,\n",
       " 0.000823291193228215,\n",
       " 0.0002754416491370648,\n",
       " 0.0009506135829724371,\n",
       " 0.00023800010967534035,\n",
       " 0.0028145902324467897,\n",
       " 0.00020739369210787117,\n",
       " 0.00043683606781996787,\n",
       " 0.00021205774100963026,\n",
       " 0.0002791976148728281,\n",
       " 0.0003179849882144481,\n",
       " 0.00021139095770195127]"
      ]
     },
     "execution_count": 16,
     "metadata": {},
     "output_type": "execute_result"
    }
   ],
   "source": [
    "sp_scores"
   ]
  },
  {
   "cell_type": "code",
   "execution_count": null,
   "metadata": {},
   "outputs": [],
   "source": []
  }
 ],
 "metadata": {
  "kernelspec": {
   "display_name": "Python 3",
   "language": "python",
   "name": "python3"
  },
  "language_info": {
   "codemirror_mode": {
    "name": "ipython",
    "version": 3
   },
   "file_extension": ".py",
   "mimetype": "text/x-python",
   "name": "python",
   "nbconvert_exporter": "python",
   "pygments_lexer": "ipython3",
   "version": "3.6.8"
  }
 },
 "nbformat": 4,
 "nbformat_minor": 4
}
